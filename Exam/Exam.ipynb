{
 "cells": [
  {
   "cell_type": "code",
   "execution_count": 124,
   "id": "bf790c39-479e-4f56-99c4-a7fb5d1e2856",
   "metadata": {},
   "outputs": [],
   "source": [
    "# pandas for data structures and operations for manipulating numerical tables and time series\n",
    "import pandas as pd\n",
    "from pandas.plotting import scatter_matrix\n",
    "\n",
    "# matplotlib.pyplot for data plots\n",
    "import matplotlib.pyplot as plt\n",
    "\n",
    "# sklearn for machine learning methods\n",
    "from sklearn import tree\n",
    "from sklearn import model_selection\n",
    "from sklearn.metrics import classification_report\n",
    "from sklearn.metrics import confusion_matrix\n",
    "from sklearn.metrics import accuracy_score\n",
    "from sklearn.tree import DecisionTreeClassifier\n",
    "from sklearn.ensemble import RandomForestClassifier\n",
    "\n",
    "# for numeric calculations\n",
    "import numpy as np"
   ]
  },
  {
   "cell_type": "markdown",
   "id": "201e038e-c658-48e9-b899-526452dd5aff",
   "metadata": {},
   "source": [
    "## Step 1. Load data"
   ]
  },
  {
   "cell_type": "markdown",
   "id": "ecab63c3-eaf3-4c31-8cf2-2da3afe66b4f",
   "metadata": {},
   "source": [
    "### Movies"
   ]
  },
  {
   "cell_type": "code",
   "execution_count": 125,
   "id": "aab108f7-28ac-47b7-bfcf-4160e018c0d5",
   "metadata": {},
   "outputs": [],
   "source": [
    "movies = pd.read_csv('./ml-latest-small/movies.csv', index_col=None, na_values=['NA'])"
   ]
  },
  {
   "cell_type": "code",
   "execution_count": 126,
   "id": "5b5d63ca-ac4a-40e4-927c-6783f74cb59b",
   "metadata": {},
   "outputs": [
    {
     "data": {
      "text/html": [
       "<div>\n",
       "<style scoped>\n",
       "    .dataframe tbody tr th:only-of-type {\n",
       "        vertical-align: middle;\n",
       "    }\n",
       "\n",
       "    .dataframe tbody tr th {\n",
       "        vertical-align: top;\n",
       "    }\n",
       "\n",
       "    .dataframe thead th {\n",
       "        text-align: right;\n",
       "    }\n",
       "</style>\n",
       "<table border=\"1\" class=\"dataframe\">\n",
       "  <thead>\n",
       "    <tr style=\"text-align: right;\">\n",
       "      <th></th>\n",
       "      <th>movieId</th>\n",
       "      <th>title</th>\n",
       "      <th>genres</th>\n",
       "    </tr>\n",
       "  </thead>\n",
       "  <tbody>\n",
       "    <tr>\n",
       "      <th>0</th>\n",
       "      <td>1</td>\n",
       "      <td>Toy Story (1995)</td>\n",
       "      <td>Adventure|Animation|Children|Comedy|Fantasy</td>\n",
       "    </tr>\n",
       "    <tr>\n",
       "      <th>1</th>\n",
       "      <td>2</td>\n",
       "      <td>Jumanji (1995)</td>\n",
       "      <td>Adventure|Children|Fantasy</td>\n",
       "    </tr>\n",
       "    <tr>\n",
       "      <th>2</th>\n",
       "      <td>3</td>\n",
       "      <td>Grumpier Old Men (1995)</td>\n",
       "      <td>Comedy|Romance</td>\n",
       "    </tr>\n",
       "    <tr>\n",
       "      <th>3</th>\n",
       "      <td>4</td>\n",
       "      <td>Waiting to Exhale (1995)</td>\n",
       "      <td>Comedy|Drama|Romance</td>\n",
       "    </tr>\n",
       "    <tr>\n",
       "      <th>4</th>\n",
       "      <td>5</td>\n",
       "      <td>Father of the Bride Part II (1995)</td>\n",
       "      <td>Comedy</td>\n",
       "    </tr>\n",
       "  </tbody>\n",
       "</table>\n",
       "</div>"
      ],
      "text/plain": [
       "   movieId                               title  \\\n",
       "0        1                    Toy Story (1995)   \n",
       "1        2                      Jumanji (1995)   \n",
       "2        3             Grumpier Old Men (1995)   \n",
       "3        4            Waiting to Exhale (1995)   \n",
       "4        5  Father of the Bride Part II (1995)   \n",
       "\n",
       "                                        genres  \n",
       "0  Adventure|Animation|Children|Comedy|Fantasy  \n",
       "1                   Adventure|Children|Fantasy  \n",
       "2                               Comedy|Romance  \n",
       "3                         Comedy|Drama|Romance  \n",
       "4                                       Comedy  "
      ]
     },
     "execution_count": 126,
     "metadata": {},
     "output_type": "execute_result"
    }
   ],
   "source": [
    "movies.head()"
   ]
  },
  {
   "cell_type": "code",
   "execution_count": 127,
   "id": "f224aa03-177e-48cc-b859-d0d071fd7fd1",
   "metadata": {},
   "outputs": [
    {
     "data": {
      "text/plain": [
       "(9742, 3)"
      ]
     },
     "execution_count": 127,
     "metadata": {},
     "output_type": "execute_result"
    }
   ],
   "source": [
    "movies.shape"
   ]
  },
  {
   "cell_type": "code",
   "execution_count": 128,
   "id": "f8cce013-ebb2-481c-b9e6-6ccaa837a4ec",
   "metadata": {},
   "outputs": [
    {
     "data": {
      "text/plain": [
       "193609"
      ]
     },
     "execution_count": 128,
     "metadata": {},
     "output_type": "execute_result"
    }
   ],
   "source": [
    "movies['movieId'].max()"
   ]
  },
  {
   "cell_type": "markdown",
   "id": "c6a84130-4a89-4764-8f72-09826672534c",
   "metadata": {},
   "source": [
    "### Ratings"
   ]
  },
  {
   "cell_type": "code",
   "execution_count": 129,
   "id": "23ff34ac-e00a-449b-927d-d5c17d714479",
   "metadata": {},
   "outputs": [],
   "source": [
    "ratings = pd.read_csv('./ml-latest-small/ratings.csv', index_col=None, na_values=['NA'])"
   ]
  },
  {
   "cell_type": "code",
   "execution_count": 130,
   "id": "71aee61f-73d0-4e7e-a514-da6533ef3bf0",
   "metadata": {},
   "outputs": [
    {
     "data": {
      "text/html": [
       "<div>\n",
       "<style scoped>\n",
       "    .dataframe tbody tr th:only-of-type {\n",
       "        vertical-align: middle;\n",
       "    }\n",
       "\n",
       "    .dataframe tbody tr th {\n",
       "        vertical-align: top;\n",
       "    }\n",
       "\n",
       "    .dataframe thead th {\n",
       "        text-align: right;\n",
       "    }\n",
       "</style>\n",
       "<table border=\"1\" class=\"dataframe\">\n",
       "  <thead>\n",
       "    <tr style=\"text-align: right;\">\n",
       "      <th></th>\n",
       "      <th>userId</th>\n",
       "      <th>movieId</th>\n",
       "      <th>rating</th>\n",
       "      <th>timestamp</th>\n",
       "    </tr>\n",
       "  </thead>\n",
       "  <tbody>\n",
       "    <tr>\n",
       "      <th>0</th>\n",
       "      <td>1</td>\n",
       "      <td>1</td>\n",
       "      <td>4.0</td>\n",
       "      <td>964982703</td>\n",
       "    </tr>\n",
       "    <tr>\n",
       "      <th>1</th>\n",
       "      <td>1</td>\n",
       "      <td>3</td>\n",
       "      <td>4.0</td>\n",
       "      <td>964981247</td>\n",
       "    </tr>\n",
       "    <tr>\n",
       "      <th>2</th>\n",
       "      <td>1</td>\n",
       "      <td>6</td>\n",
       "      <td>4.0</td>\n",
       "      <td>964982224</td>\n",
       "    </tr>\n",
       "    <tr>\n",
       "      <th>3</th>\n",
       "      <td>1</td>\n",
       "      <td>47</td>\n",
       "      <td>5.0</td>\n",
       "      <td>964983815</td>\n",
       "    </tr>\n",
       "    <tr>\n",
       "      <th>4</th>\n",
       "      <td>1</td>\n",
       "      <td>50</td>\n",
       "      <td>5.0</td>\n",
       "      <td>964982931</td>\n",
       "    </tr>\n",
       "  </tbody>\n",
       "</table>\n",
       "</div>"
      ],
      "text/plain": [
       "   userId  movieId  rating  timestamp\n",
       "0       1        1     4.0  964982703\n",
       "1       1        3     4.0  964981247\n",
       "2       1        6     4.0  964982224\n",
       "3       1       47     5.0  964983815\n",
       "4       1       50     5.0  964982931"
      ]
     },
     "execution_count": 130,
     "metadata": {},
     "output_type": "execute_result"
    }
   ],
   "source": [
    "ratings.head()"
   ]
  },
  {
   "cell_type": "code",
   "execution_count": 131,
   "id": "650c3eaa-4bad-41d6-acfa-db3bc3fdd3dd",
   "metadata": {},
   "outputs": [
    {
     "data": {
      "text/plain": [
       "(100836, 4)"
      ]
     },
     "execution_count": 131,
     "metadata": {},
     "output_type": "execute_result"
    }
   ],
   "source": [
    "ratings.shape"
   ]
  },
  {
   "cell_type": "markdown",
   "id": "edf6ee4e-1d46-41e4-96b4-14ed0db234c0",
   "metadata": {},
   "source": [
    "## Step 2. Aggregate data"
   ]
  },
  {
   "cell_type": "code",
   "execution_count": 132,
   "id": "e39ae89d-d1cb-4443-99ea-07becd7893fa",
   "metadata": {},
   "outputs": [],
   "source": [
    "mvrt = pd.merge(ratings, movies, on='movieId')"
   ]
  },
  {
   "cell_type": "code",
   "execution_count": 133,
   "id": "d31d0293-48e4-4221-b409-f635054595a0",
   "metadata": {},
   "outputs": [
    {
     "data": {
      "text/html": [
       "<div>\n",
       "<style scoped>\n",
       "    .dataframe tbody tr th:only-of-type {\n",
       "        vertical-align: middle;\n",
       "    }\n",
       "\n",
       "    .dataframe tbody tr th {\n",
       "        vertical-align: top;\n",
       "    }\n",
       "\n",
       "    .dataframe thead th {\n",
       "        text-align: right;\n",
       "    }\n",
       "</style>\n",
       "<table border=\"1\" class=\"dataframe\">\n",
       "  <thead>\n",
       "    <tr style=\"text-align: right;\">\n",
       "      <th></th>\n",
       "      <th>userId</th>\n",
       "      <th>movieId</th>\n",
       "      <th>rating</th>\n",
       "      <th>timestamp</th>\n",
       "      <th>title</th>\n",
       "      <th>genres</th>\n",
       "    </tr>\n",
       "  </thead>\n",
       "  <tbody>\n",
       "    <tr>\n",
       "      <th>94763</th>\n",
       "      <td>599</td>\n",
       "      <td>78959</td>\n",
       "      <td>3.0</td>\n",
       "      <td>1519528505</td>\n",
       "      <td>Endgame (2009)</td>\n",
       "      <td>Drama</td>\n",
       "    </tr>\n",
       "    <tr>\n",
       "      <th>67623</th>\n",
       "      <td>438</td>\n",
       "      <td>329</td>\n",
       "      <td>3.5</td>\n",
       "      <td>1105654478</td>\n",
       "      <td>Star Trek: Generations (1994)</td>\n",
       "      <td>Adventure|Drama|Sci-Fi</td>\n",
       "    </tr>\n",
       "    <tr>\n",
       "      <th>48370</th>\n",
       "      <td>313</td>\n",
       "      <td>1603</td>\n",
       "      <td>4.0</td>\n",
       "      <td>1030474952</td>\n",
       "      <td>Mimic (1997)</td>\n",
       "      <td>Horror|Sci-Fi|Thriller</td>\n",
       "    </tr>\n",
       "    <tr>\n",
       "      <th>73412</th>\n",
       "      <td>474</td>\n",
       "      <td>1203</td>\n",
       "      <td>4.0</td>\n",
       "      <td>1047054271</td>\n",
       "      <td>12 Angry Men (1957)</td>\n",
       "      <td>Drama</td>\n",
       "    </tr>\n",
       "    <tr>\n",
       "      <th>44569</th>\n",
       "      <td>298</td>\n",
       "      <td>562</td>\n",
       "      <td>3.0</td>\n",
       "      <td>1467489463</td>\n",
       "      <td>Welcome to the Dollhouse (1995)</td>\n",
       "      <td>Comedy|Drama</td>\n",
       "    </tr>\n",
       "    <tr>\n",
       "      <th>60355</th>\n",
       "      <td>390</td>\n",
       "      <td>3967</td>\n",
       "      <td>3.5</td>\n",
       "      <td>1250338954</td>\n",
       "      <td>Billy Elliot (2000)</td>\n",
       "      <td>Drama</td>\n",
       "    </tr>\n",
       "    <tr>\n",
       "      <th>1166</th>\n",
       "      <td>10</td>\n",
       "      <td>8808</td>\n",
       "      <td>3.0</td>\n",
       "      <td>1455397936</td>\n",
       "      <td>Princess Diaries 2: Royal Engagement, The (2004)</td>\n",
       "      <td>Comedy|Romance</td>\n",
       "    </tr>\n",
       "    <tr>\n",
       "      <th>29027</th>\n",
       "      <td>200</td>\n",
       "      <td>2011</td>\n",
       "      <td>4.0</td>\n",
       "      <td>1229877812</td>\n",
       "      <td>Back to the Future Part II (1989)</td>\n",
       "      <td>Adventure|Comedy|Sci-Fi</td>\n",
       "    </tr>\n",
       "    <tr>\n",
       "      <th>40264</th>\n",
       "      <td>274</td>\n",
       "      <td>34520</td>\n",
       "      <td>2.0</td>\n",
       "      <td>1171495553</td>\n",
       "      <td>Dukes of Hazzard, The (2005)</td>\n",
       "      <td>Action|Adventure|Comedy</td>\n",
       "    </tr>\n",
       "    <tr>\n",
       "      <th>39438</th>\n",
       "      <td>274</td>\n",
       "      <td>1241</td>\n",
       "      <td>3.5</td>\n",
       "      <td>1171493905</td>\n",
       "      <td>Dead Alive (Braindead) (1992)</td>\n",
       "      <td>Comedy|Fantasy|Horror</td>\n",
       "    </tr>\n",
       "    <tr>\n",
       "      <th>44915</th>\n",
       "      <td>298</td>\n",
       "      <td>6503</td>\n",
       "      <td>1.0</td>\n",
       "      <td>1449592353</td>\n",
       "      <td>Charlie's Angels: Full Throttle (2003)</td>\n",
       "      <td>Action|Adventure|Comedy|Crime|Thriller</td>\n",
       "    </tr>\n",
       "    <tr>\n",
       "      <th>61380</th>\n",
       "      <td>404</td>\n",
       "      <td>292</td>\n",
       "      <td>3.0</td>\n",
       "      <td>838375784</td>\n",
       "      <td>Outbreak (1995)</td>\n",
       "      <td>Action|Drama|Sci-Fi|Thriller</td>\n",
       "    </tr>\n",
       "    <tr>\n",
       "      <th>47855</th>\n",
       "      <td>309</td>\n",
       "      <td>1262</td>\n",
       "      <td>4.5</td>\n",
       "      <td>1126451034</td>\n",
       "      <td>Great Escape, The (1963)</td>\n",
       "      <td>Action|Adventure|Drama|War</td>\n",
       "    </tr>\n",
       "    <tr>\n",
       "      <th>85373</th>\n",
       "      <td>555</td>\n",
       "      <td>592</td>\n",
       "      <td>3.0</td>\n",
       "      <td>978749155</td>\n",
       "      <td>Batman (1989)</td>\n",
       "      <td>Action|Crime|Thriller</td>\n",
       "    </tr>\n",
       "    <tr>\n",
       "      <th>14011</th>\n",
       "      <td>89</td>\n",
       "      <td>145491</td>\n",
       "      <td>3.5</td>\n",
       "      <td>1520409039</td>\n",
       "      <td>Our Lips Are Sealed (2000)</td>\n",
       "      <td>Children|Comedy|Drama</td>\n",
       "    </tr>\n",
       "    <tr>\n",
       "      <th>91366</th>\n",
       "      <td>592</td>\n",
       "      <td>480</td>\n",
       "      <td>5.0</td>\n",
       "      <td>837350083</td>\n",
       "      <td>Jurassic Park (1993)</td>\n",
       "      <td>Action|Adventure|Sci-Fi|Thriller</td>\n",
       "    </tr>\n",
       "    <tr>\n",
       "      <th>93074</th>\n",
       "      <td>599</td>\n",
       "      <td>1275</td>\n",
       "      <td>3.5</td>\n",
       "      <td>1498797704</td>\n",
       "      <td>Highlander (1986)</td>\n",
       "      <td>Action|Adventure|Fantasy</td>\n",
       "    </tr>\n",
       "    <tr>\n",
       "      <th>58414</th>\n",
       "      <td>381</td>\n",
       "      <td>8641</td>\n",
       "      <td>3.0</td>\n",
       "      <td>1167543029</td>\n",
       "      <td>Anchorman: The Legend of Ron Burgundy (2004)</td>\n",
       "      <td>Comedy</td>\n",
       "    </tr>\n",
       "    <tr>\n",
       "      <th>37135</th>\n",
       "      <td>249</td>\n",
       "      <td>88699</td>\n",
       "      <td>3.0</td>\n",
       "      <td>1355366229</td>\n",
       "      <td>Death Race 2 (2010)</td>\n",
       "      <td>Action|Sci-Fi|Thriller</td>\n",
       "    </tr>\n",
       "    <tr>\n",
       "      <th>63205</th>\n",
       "      <td>414</td>\n",
       "      <td>2706</td>\n",
       "      <td>5.0</td>\n",
       "      <td>961436469</td>\n",
       "      <td>American Pie (1999)</td>\n",
       "      <td>Comedy|Romance</td>\n",
       "    </tr>\n",
       "  </tbody>\n",
       "</table>\n",
       "</div>"
      ],
      "text/plain": [
       "       userId  movieId  rating   timestamp  \\\n",
       "94763     599    78959     3.0  1519528505   \n",
       "67623     438      329     3.5  1105654478   \n",
       "48370     313     1603     4.0  1030474952   \n",
       "73412     474     1203     4.0  1047054271   \n",
       "44569     298      562     3.0  1467489463   \n",
       "60355     390     3967     3.5  1250338954   \n",
       "1166       10     8808     3.0  1455397936   \n",
       "29027     200     2011     4.0  1229877812   \n",
       "40264     274    34520     2.0  1171495553   \n",
       "39438     274     1241     3.5  1171493905   \n",
       "44915     298     6503     1.0  1449592353   \n",
       "61380     404      292     3.0   838375784   \n",
       "47855     309     1262     4.5  1126451034   \n",
       "85373     555      592     3.0   978749155   \n",
       "14011      89   145491     3.5  1520409039   \n",
       "91366     592      480     5.0   837350083   \n",
       "93074     599     1275     3.5  1498797704   \n",
       "58414     381     8641     3.0  1167543029   \n",
       "37135     249    88699     3.0  1355366229   \n",
       "63205     414     2706     5.0   961436469   \n",
       "\n",
       "                                                  title  \\\n",
       "94763                                    Endgame (2009)   \n",
       "67623                     Star Trek: Generations (1994)   \n",
       "48370                                      Mimic (1997)   \n",
       "73412                               12 Angry Men (1957)   \n",
       "44569                   Welcome to the Dollhouse (1995)   \n",
       "60355                               Billy Elliot (2000)   \n",
       "1166   Princess Diaries 2: Royal Engagement, The (2004)   \n",
       "29027                 Back to the Future Part II (1989)   \n",
       "40264                      Dukes of Hazzard, The (2005)   \n",
       "39438                     Dead Alive (Braindead) (1992)   \n",
       "44915            Charlie's Angels: Full Throttle (2003)   \n",
       "61380                                   Outbreak (1995)   \n",
       "47855                          Great Escape, The (1963)   \n",
       "85373                                     Batman (1989)   \n",
       "14011                        Our Lips Are Sealed (2000)   \n",
       "91366                              Jurassic Park (1993)   \n",
       "93074                                 Highlander (1986)   \n",
       "58414      Anchorman: The Legend of Ron Burgundy (2004)   \n",
       "37135                               Death Race 2 (2010)   \n",
       "63205                               American Pie (1999)   \n",
       "\n",
       "                                       genres  \n",
       "94763                                   Drama  \n",
       "67623                  Adventure|Drama|Sci-Fi  \n",
       "48370                  Horror|Sci-Fi|Thriller  \n",
       "73412                                   Drama  \n",
       "44569                            Comedy|Drama  \n",
       "60355                                   Drama  \n",
       "1166                           Comedy|Romance  \n",
       "29027                 Adventure|Comedy|Sci-Fi  \n",
       "40264                 Action|Adventure|Comedy  \n",
       "39438                   Comedy|Fantasy|Horror  \n",
       "44915  Action|Adventure|Comedy|Crime|Thriller  \n",
       "61380            Action|Drama|Sci-Fi|Thriller  \n",
       "47855              Action|Adventure|Drama|War  \n",
       "85373                   Action|Crime|Thriller  \n",
       "14011                   Children|Comedy|Drama  \n",
       "91366        Action|Adventure|Sci-Fi|Thriller  \n",
       "93074                Action|Adventure|Fantasy  \n",
       "58414                                  Comedy  \n",
       "37135                  Action|Sci-Fi|Thriller  \n",
       "63205                          Comedy|Romance  "
      ]
     },
     "execution_count": 133,
     "metadata": {},
     "output_type": "execute_result"
    }
   ],
   "source": [
    "mvrt.sample(20)"
   ]
  },
  {
   "cell_type": "code",
   "execution_count": 134,
   "id": "f4a42cef-7491-43a7-b409-a17c0c63852c",
   "metadata": {},
   "outputs": [
    {
     "data": {
      "text/plain": [
       "(100836, 6)"
      ]
     },
     "execution_count": 134,
     "metadata": {},
     "output_type": "execute_result"
    }
   ],
   "source": [
    "mvrt.shape"
   ]
  },
  {
   "cell_type": "markdown",
   "id": "b3a1ab30-7d4f-420e-aa1b-988d87caaf5b",
   "metadata": {},
   "source": [
    "## Step 3. Clean data"
   ]
  },
  {
   "cell_type": "markdown",
   "id": "135f8ba9-a8ad-40b9-8d5b-c754767c93ed",
   "metadata": {},
   "source": [
    "We have loaded and aggregated the data we want to use. Next we will prepare by cleaning the data."
   ]
  },
  {
   "cell_type": "code",
   "execution_count": 135,
   "id": "b4e5c7bf-03a3-4f60-8f89-014b5015c65e",
   "metadata": {},
   "outputs": [
    {
     "name": "stdout",
     "output_type": "stream",
     "text": [
      "--- Missing values: ---\n",
      "userId       0\n",
      "movieId      0\n",
      "rating       0\n",
      "timestamp    0\n",
      "title        0\n",
      "genres       0\n",
      "dtype: int64\n",
      "--- NaN values: -------\n",
      "userId       0\n",
      "movieId      0\n",
      "rating       0\n",
      "timestamp    0\n",
      "title        0\n",
      "genres       0\n",
      "dtype: int64\n"
     ]
    }
   ],
   "source": [
    "print(\"--- Missing values: ---\")\n",
    "print(mvrt.isnull().sum())\n",
    "\n",
    "print(\"--- NaN values: -------\")\n",
    "print(mvrt.isna().sum())"
   ]
  },
  {
   "cell_type": "markdown",
   "id": "195882f8-9b69-4756-9a50-e9ba953345a1",
   "metadata": {},
   "source": [
    "We can see that there are no missing or NaN values."
   ]
  },
  {
   "cell_type": "code",
   "execution_count": 136,
   "id": "ae56d7fa-654d-4f0e-80c9-13f838bf6fa8",
   "metadata": {},
   "outputs": [
    {
     "name": "stdout",
     "output_type": "stream",
     "text": [
      "Number of occurrences for each genre:\n",
      "Drama                 4361\n",
      "Comedy                3756\n",
      "Thriller              1894\n",
      "Action                1828\n",
      "Romance               1596\n",
      "Adventure             1263\n",
      "Crime                 1199\n",
      "Sci-Fi                 980\n",
      "Horror                 978\n",
      "Fantasy                779\n",
      "Children               664\n",
      "Animation              611\n",
      "Mystery                573\n",
      "Documentary            440\n",
      "War                    382\n",
      "Musical                334\n",
      "Western                167\n",
      "IMAX                   158\n",
      "Film-Noir               87\n",
      "(no genres listed)      34\n",
      "Name: count, dtype: int64\n"
     ]
    }
   ],
   "source": [
    "all_genres = movies['genres'].str.split('|', expand=True).stack()\n",
    "unique_genres_movies = all_genres.value_counts()\n",
    "print(\"Number of occurrences for each genre:\")\n",
    "print(unique_genres_movies)"
   ]
  },
  {
   "cell_type": "markdown",
   "id": "09ea5362-155b-48ba-b4a2-f94f011324b7",
   "metadata": {},
   "source": [
    "By looking at the number of occurrences for each genre, we can se there is 34 occurrences with no genres listed, we are going to remove movies without listed genres."
   ]
  },
  {
   "cell_type": "code",
   "execution_count": 137,
   "id": "d871b3f3-b3f8-4053-ba01-e368f76f8670",
   "metadata": {},
   "outputs": [],
   "source": [
    "rows_with_no_genre = mvrt[mvrt['genres'] == '(no genres listed)']"
   ]
  },
  {
   "cell_type": "code",
   "execution_count": 138,
   "id": "be975cf5-0da3-4dc2-bf44-be975a9c168b",
   "metadata": {},
   "outputs": [
    {
     "data": {
      "text/plain": [
       "movieId\n",
       "122896    7\n",
       "141866    3\n",
       "142456    2\n",
       "152037    2\n",
       "166024    2\n",
       "171495    2\n",
       "172591    2\n",
       "147250    1\n",
       "171749    1\n",
       "132084    1\n",
       "181719    1\n",
       "141131    1\n",
       "156605    1\n",
       "122888    1\n",
       "174403    1\n",
       "165489    1\n",
       "182727    1\n",
       "149330    1\n",
       "143410    1\n",
       "129250    1\n",
       "167570    1\n",
       "176601    1\n",
       "172497    1\n",
       "114335    1\n",
       "169034    1\n",
       "159779    1\n",
       "181413    1\n",
       "155589    1\n",
       "171891    1\n",
       "171631    1\n",
       "159161    1\n",
       "134861    1\n",
       "173535    1\n",
       "161008    1\n",
       "Name: count, dtype: int64"
      ]
     },
     "execution_count": 138,
     "metadata": {},
     "output_type": "execute_result"
    }
   ],
   "source": [
    "rows_with_no_genre.movieId.value_counts()"
   ]
  },
  {
   "cell_type": "code",
   "execution_count": 139,
   "id": "ea5eacab-5243-4003-be24-30b71a8867c6",
   "metadata": {},
   "outputs": [],
   "source": [
    "mvrt = mvrt[~mvrt['movieId'].isin(rows_with_no_genre['movieId'])]"
   ]
  },
  {
   "cell_type": "code",
   "execution_count": 140,
   "id": "048fd8ad-73d8-417b-881b-f7929fbdd14c",
   "metadata": {},
   "outputs": [
    {
     "data": {
      "text/plain": [
       "(100789, 6)"
      ]
     },
     "execution_count": 140,
     "metadata": {},
     "output_type": "execute_result"
    }
   ],
   "source": [
    "mvrt.shape"
   ]
  },
  {
   "cell_type": "code",
   "execution_count": 141,
   "id": "7981106d-dcc3-4701-8f15-bce25cb79dd3",
   "metadata": {},
   "outputs": [
    {
     "name": "stdout",
     "output_type": "stream",
     "text": [
      "Number of occurrences for each genre:\n",
      "Drama          41928\n",
      "Comedy         39053\n",
      "Action         30635\n",
      "Thriller       26452\n",
      "Adventure      24161\n",
      "Romance        18124\n",
      "Sci-Fi         17243\n",
      "Crime          16681\n",
      "Fantasy        11834\n",
      "Children        9208\n",
      "Mystery         7674\n",
      "Horror          7291\n",
      "Animation       6988\n",
      "War             4859\n",
      "IMAX            4145\n",
      "Musical         4138\n",
      "Western         1930\n",
      "Documentary     1219\n",
      "Film-Noir        870\n",
      "Name: count, dtype: int64\n"
     ]
    }
   ],
   "source": [
    "all_genres = mvrt['genres'].str.split('|', expand=True).stack()\n",
    "unique_genres = all_genres.value_counts()\n",
    "print(\"Number of occurrences for each genre:\")\n",
    "print(unique_genres)"
   ]
  },
  {
   "cell_type": "markdown",
   "id": "6329eaf2-1d9e-4508-b134-033d6e5b6788",
   "metadata": {},
   "source": [
    "Now we can see that we have succesfully gotten rid of movies with no listed genres."
   ]
  },
  {
   "cell_type": "markdown",
   "id": "68894cdd-e14a-43b9-9a3c-d5fc7431f235",
   "metadata": {},
   "source": [
    "Let's remove year from the title of the movie and give it it's own column."
   ]
  },
  {
   "cell_type": "code",
   "execution_count": 142,
   "id": "60cdf39b-606e-4fae-9153-149f17ca5b39",
   "metadata": {},
   "outputs": [],
   "source": [
    "mvrt['year_released'] = mvrt['title'].str.extract(r'\\((\\d{4})\\)', expand=False)\n",
    "mvrt['title'] = mvrt['title'].str.replace(r'\\s*\\(\\d{4}\\)\\s*', '', regex=True)"
   ]
  },
  {
   "cell_type": "code",
   "execution_count": 143,
   "id": "2e208f0b-18ce-46c5-bf7b-d173c160c76c",
   "metadata": {},
   "outputs": [
    {
     "data": {
      "text/html": [
       "<div>\n",
       "<style scoped>\n",
       "    .dataframe tbody tr th:only-of-type {\n",
       "        vertical-align: middle;\n",
       "    }\n",
       "\n",
       "    .dataframe tbody tr th {\n",
       "        vertical-align: top;\n",
       "    }\n",
       "\n",
       "    .dataframe thead th {\n",
       "        text-align: right;\n",
       "    }\n",
       "</style>\n",
       "<table border=\"1\" class=\"dataframe\">\n",
       "  <thead>\n",
       "    <tr style=\"text-align: right;\">\n",
       "      <th></th>\n",
       "      <th>userId</th>\n",
       "      <th>movieId</th>\n",
       "      <th>rating</th>\n",
       "      <th>timestamp</th>\n",
       "      <th>title</th>\n",
       "      <th>genres</th>\n",
       "      <th>year_released</th>\n",
       "    </tr>\n",
       "  </thead>\n",
       "  <tbody>\n",
       "    <tr>\n",
       "      <th>0</th>\n",
       "      <td>1</td>\n",
       "      <td>1</td>\n",
       "      <td>4.0</td>\n",
       "      <td>964982703</td>\n",
       "      <td>Toy Story</td>\n",
       "      <td>Adventure|Animation|Children|Comedy|Fantasy</td>\n",
       "      <td>1995</td>\n",
       "    </tr>\n",
       "    <tr>\n",
       "      <th>1</th>\n",
       "      <td>1</td>\n",
       "      <td>3</td>\n",
       "      <td>4.0</td>\n",
       "      <td>964981247</td>\n",
       "      <td>Grumpier Old Men</td>\n",
       "      <td>Comedy|Romance</td>\n",
       "      <td>1995</td>\n",
       "    </tr>\n",
       "    <tr>\n",
       "      <th>2</th>\n",
       "      <td>1</td>\n",
       "      <td>6</td>\n",
       "      <td>4.0</td>\n",
       "      <td>964982224</td>\n",
       "      <td>Heat</td>\n",
       "      <td>Action|Crime|Thriller</td>\n",
       "      <td>1995</td>\n",
       "    </tr>\n",
       "    <tr>\n",
       "      <th>3</th>\n",
       "      <td>1</td>\n",
       "      <td>47</td>\n",
       "      <td>5.0</td>\n",
       "      <td>964983815</td>\n",
       "      <td>Seven (a.k.a. Se7en)</td>\n",
       "      <td>Mystery|Thriller</td>\n",
       "      <td>1995</td>\n",
       "    </tr>\n",
       "    <tr>\n",
       "      <th>4</th>\n",
       "      <td>1</td>\n",
       "      <td>50</td>\n",
       "      <td>5.0</td>\n",
       "      <td>964982931</td>\n",
       "      <td>Usual Suspects, The</td>\n",
       "      <td>Crime|Mystery|Thriller</td>\n",
       "      <td>1995</td>\n",
       "    </tr>\n",
       "  </tbody>\n",
       "</table>\n",
       "</div>"
      ],
      "text/plain": [
       "   userId  movieId  rating  timestamp                 title  \\\n",
       "0       1        1     4.0  964982703             Toy Story   \n",
       "1       1        3     4.0  964981247      Grumpier Old Men   \n",
       "2       1        6     4.0  964982224                  Heat   \n",
       "3       1       47     5.0  964983815  Seven (a.k.a. Se7en)   \n",
       "4       1       50     5.0  964982931   Usual Suspects, The   \n",
       "\n",
       "                                        genres year_released  \n",
       "0  Adventure|Animation|Children|Comedy|Fantasy          1995  \n",
       "1                               Comedy|Romance          1995  \n",
       "2                        Action|Crime|Thriller          1995  \n",
       "3                             Mystery|Thriller          1995  \n",
       "4                       Crime|Mystery|Thriller          1995  "
      ]
     },
     "execution_count": 143,
     "metadata": {},
     "output_type": "execute_result"
    }
   ],
   "source": [
    "mvrt.head()"
   ]
  },
  {
   "cell_type": "code",
   "execution_count": 144,
   "id": "8011836f-253b-4f16-a11a-2b766b070ede",
   "metadata": {},
   "outputs": [
    {
     "data": {
      "text/plain": [
       "userId           0\n",
       "movieId          0\n",
       "rating           0\n",
       "timestamp        0\n",
       "title            0\n",
       "genres           0\n",
       "year_released    8\n",
       "dtype: int64"
      ]
     },
     "execution_count": 144,
     "metadata": {},
     "output_type": "execute_result"
    }
   ],
   "source": [
    "mvrt.isnull().sum()"
   ]
  },
  {
   "cell_type": "markdown",
   "id": "c6b54f00-d527-4e1a-b281-eec1c03e310a",
   "metadata": {},
   "source": [
    "We can see that 8 movies have no release year."
   ]
  },
  {
   "cell_type": "markdown",
   "id": "8bde1a54",
   "metadata": {},
   "source": [
    "Checking what movies has no release year."
   ]
  },
  {
   "cell_type": "code",
   "execution_count": 206,
   "id": "0c26d8b3-eebf-4342-9106-06dbbc42b6fd",
   "metadata": {},
   "outputs": [
    {
     "data": {
      "text/html": [
       "<div>\n",
       "<style scoped>\n",
       "    .dataframe tbody tr th:only-of-type {\n",
       "        vertical-align: middle;\n",
       "    }\n",
       "\n",
       "    .dataframe tbody tr th {\n",
       "        vertical-align: top;\n",
       "    }\n",
       "\n",
       "    .dataframe thead th {\n",
       "        text-align: right;\n",
       "    }\n",
       "</style>\n",
       "<table border=\"1\" class=\"dataframe\">\n",
       "  <thead>\n",
       "    <tr style=\"text-align: right;\">\n",
       "      <th></th>\n",
       "      <th>userId</th>\n",
       "      <th>movieId</th>\n",
       "      <th>rating</th>\n",
       "      <th>title</th>\n",
       "      <th>genres</th>\n",
       "      <th>year_released</th>\n",
       "      <th>decade</th>\n",
       "      <th>vote_count_x</th>\n",
       "      <th>vote_count_y</th>\n",
       "    </tr>\n",
       "  </thead>\n",
       "  <tbody>\n",
       "  </tbody>\n",
       "</table>\n",
       "</div>"
      ],
      "text/plain": [
       "Empty DataFrame\n",
       "Columns: [userId, movieId, rating, title, genres, year_released, decade, vote_count_x, vote_count_y]\n",
       "Index: []"
      ]
     },
     "execution_count": 206,
     "metadata": {},
     "output_type": "execute_result"
    }
   ],
   "source": [
    "mvrt_movies_with_no_year = mvrt[mvrt['year_released'].isnull()]\n",
    "mvrt_movies_with_no_year"
   ]
  },
  {
   "cell_type": "markdown",
   "id": "01ca78dd-5c5a-480e-a668-4f6529f15b01",
   "metadata": {},
   "source": [
    "We are adding the missing release years on our own."
   ]
  },
  {
   "cell_type": "code",
   "execution_count": 146,
   "id": "f9bda5d0-035c-40f1-8432-f79c7d0c0ffd",
   "metadata": {},
   "outputs": [],
   "source": [
    "#giving the movies with no release year the correct year.\n",
    "mvrt.loc[mvrt['title'] == 'Ready Player One', 'year_released'] = 2018\n",
    "mvrt.loc[mvrt['title'] == 'Babylon 5', 'year_released'] = 1994\n",
    "mvrt.loc[mvrt['title'] == 'Nocturnal Animals', 'year_released'] = 2016\n",
    "mvrt.loc[mvrt['title'] == 'Moonlight', 'year_released'] = 2016"
   ]
  },
  {
   "cell_type": "code",
   "execution_count": 147,
   "id": "807feae9-729e-44c5-91b0-b66586faca1a",
   "metadata": {},
   "outputs": [
    {
     "data": {
      "text/plain": [
       "(0, 7)"
      ]
     },
     "execution_count": 147,
     "metadata": {},
     "output_type": "execute_result"
    }
   ],
   "source": [
    "#checking that movies with no year now is empty\n",
    "mvrt_movies_with_no_year1 = mvrt[pd.isna(mvrt['year_released'])]\n",
    "mvrt_movies_with_no_year1.shape"
   ]
  },
  {
   "cell_type": "code",
   "execution_count": 148,
   "id": "0ff5b98b-c723-4bb0-9af5-99b63a1dc23a",
   "metadata": {},
   "outputs": [],
   "source": [
    "mvrt.drop(columns=['timestamp'], inplace=True)"
   ]
  },
  {
   "cell_type": "code",
   "execution_count": 149,
   "id": "7a833931-47fb-4dba-b57f-257ce6052e69",
   "metadata": {},
   "outputs": [
    {
     "data": {
      "text/html": [
       "<div>\n",
       "<style scoped>\n",
       "    .dataframe tbody tr th:only-of-type {\n",
       "        vertical-align: middle;\n",
       "    }\n",
       "\n",
       "    .dataframe tbody tr th {\n",
       "        vertical-align: top;\n",
       "    }\n",
       "\n",
       "    .dataframe thead th {\n",
       "        text-align: right;\n",
       "    }\n",
       "</style>\n",
       "<table border=\"1\" class=\"dataframe\">\n",
       "  <thead>\n",
       "    <tr style=\"text-align: right;\">\n",
       "      <th></th>\n",
       "      <th>userId</th>\n",
       "      <th>movieId</th>\n",
       "      <th>rating</th>\n",
       "      <th>title</th>\n",
       "      <th>genres</th>\n",
       "      <th>year_released</th>\n",
       "    </tr>\n",
       "  </thead>\n",
       "  <tbody>\n",
       "    <tr>\n",
       "      <th>38907</th>\n",
       "      <td>268</td>\n",
       "      <td>155</td>\n",
       "      <td>1.0</td>\n",
       "      <td>Beyond Rangoon</td>\n",
       "      <td>Adventure|Drama|War</td>\n",
       "      <td>1995</td>\n",
       "    </tr>\n",
       "    <tr>\n",
       "      <th>6389</th>\n",
       "      <td>43</td>\n",
       "      <td>442</td>\n",
       "      <td>5.0</td>\n",
       "      <td>Demolition Man</td>\n",
       "      <td>Action|Adventure|Sci-Fi</td>\n",
       "      <td>1993</td>\n",
       "    </tr>\n",
       "    <tr>\n",
       "      <th>40943</th>\n",
       "      <td>275</td>\n",
       "      <td>5299</td>\n",
       "      <td>1.0</td>\n",
       "      <td>My Big Fat Greek Wedding</td>\n",
       "      <td>Comedy|Romance</td>\n",
       "      <td>2002</td>\n",
       "    </tr>\n",
       "  </tbody>\n",
       "</table>\n",
       "</div>"
      ],
      "text/plain": [
       "       userId  movieId  rating                     title  \\\n",
       "38907     268      155     1.0            Beyond Rangoon   \n",
       "6389       43      442     5.0            Demolition Man   \n",
       "40943     275     5299     1.0  My Big Fat Greek Wedding   \n",
       "\n",
       "                        genres year_released  \n",
       "38907      Adventure|Drama|War          1995  \n",
       "6389   Action|Adventure|Sci-Fi          1993  \n",
       "40943           Comedy|Romance          2002  "
      ]
     },
     "execution_count": 149,
     "metadata": {},
     "output_type": "execute_result"
    }
   ],
   "source": [
    "mvrt.sample(3)"
   ]
  },
  {
   "cell_type": "code",
   "execution_count": 150,
   "id": "4d1e943b-6715-46f6-8a76-fdba7c8ae169",
   "metadata": {},
   "outputs": [
    {
     "data": {
      "text/plain": [
       "userId             int64\n",
       "movieId            int64\n",
       "rating           float64\n",
       "title             object\n",
       "genres            object\n",
       "year_released     object\n",
       "dtype: object"
      ]
     },
     "execution_count": 150,
     "metadata": {},
     "output_type": "execute_result"
    }
   ],
   "source": [
    "mvrt.dtypes"
   ]
  },
  {
   "cell_type": "code",
   "execution_count": 151,
   "id": "40a227ef-3a5f-48bf-bf8b-5ab08548f1d9",
   "metadata": {},
   "outputs": [
    {
     "data": {
      "text/plain": [
       "userId             int64\n",
       "movieId            int64\n",
       "rating           float64\n",
       "title             object\n",
       "genres            object\n",
       "year_released      int64\n",
       "dtype: object"
      ]
     },
     "execution_count": 151,
     "metadata": {},
     "output_type": "execute_result"
    }
   ],
   "source": [
    "#converting year released into numeric and not an object\n",
    "mvrt['year_released'] = pd.to_numeric(mvrt['year_released'], errors='coerce')\n",
    "mvrt.dtypes"
   ]
  },
  {
   "cell_type": "markdown",
   "id": "a6e20cff-e48d-4761-bf3b-467f58830830",
   "metadata": {},
   "source": [
    "## Step 4. Explore data"
   ]
  },
  {
   "cell_type": "code",
   "execution_count": 152,
   "id": "2c3630a9-b074-4618-9795-7b8ed4529995",
   "metadata": {},
   "outputs": [
    {
     "data": {
      "text/plain": [
       "Drama                 4361\n",
       "Comedy                3756\n",
       "Thriller              1894\n",
       "Action                1828\n",
       "Romance               1596\n",
       "Adventure             1263\n",
       "Crime                 1199\n",
       "Sci-Fi                 980\n",
       "Horror                 978\n",
       "Fantasy                779\n",
       "Children               664\n",
       "Animation              611\n",
       "Mystery                573\n",
       "Documentary            440\n",
       "War                    382\n",
       "Musical                334\n",
       "Western                167\n",
       "IMAX                   158\n",
       "Film-Noir               87\n",
       "(no genres listed)      34\n",
       "Name: count, dtype: int64"
      ]
     },
     "execution_count": 152,
     "metadata": {},
     "output_type": "execute_result"
    }
   ],
   "source": [
    "unique_genres_movies"
   ]
  },
  {
   "cell_type": "code",
   "execution_count": 153,
   "id": "94e18c2a-0636-4d84-8670-709221a0baca",
   "metadata": {},
   "outputs": [
    {
     "data": {
      "image/png": "[encoded data removed]",
      "text/plain": [
       "<Figure size 640x480 with 1 Axes>"
      ]
     },
     "metadata": {},
     "output_type": "display_data"
    }
   ],
   "source": [
    "plt.bar(unique_genres_movies.index, unique_genres_movies)\n",
    "plt.xlabel('Genres')\n",
    "plt.ylabel('Count')\n",
    "plt.title('Genre Distribution')\n",
    "plt.xticks(rotation=45, ha='right')\n",
    "plt.show()"
   ]
  },
  {
   "cell_type": "markdown",
   "id": "3b38578c",
   "metadata": {},
   "source": [
    "This is the distribution of the genres in the dataset. The most common genre is Drama, followed by Comedy and Thriller."
   ]
  },
  {
   "cell_type": "code",
   "execution_count": 154,
   "id": "c182f8c9-6f62-4a9e-ab0d-2ae103bf34dd",
   "metadata": {},
   "outputs": [
    {
     "data": {
      "image/png": "[encoded data removed]",
      "text/plain": [
       "<Figure size 640x480 with 1 Axes>"
      ]
     },
     "metadata": {},
     "output_type": "display_data"
    }
   ],
   "source": [
    "plt.hist(mvrt['rating'], bins=10, edgecolor='black')\n",
    "plt.xlabel('Rating')\n",
    "plt.ylabel('Count')\n",
    "plt.title('Histogram of Ratings')\n",
    "plt.show()"
   ]
  },
  {
   "cell_type": "markdown",
   "id": "1b0e631c",
   "metadata": {},
   "source": [
    "Here we can see that the most common rating is 4.0, and the least common is 0.5."
   ]
  },
  {
   "cell_type": "code",
   "execution_count": 155,
   "id": "1ec96930-fd13-4546-b3d0-bf91a4874d78",
   "metadata": {},
   "outputs": [],
   "source": [
    "genres_list = ['Drama', 'Comedy', 'Action', 'Thriller', 'Adventure', 'Romance',\n",
    "               'Sci-Fi', 'Crime', 'Fantasy', 'Children', 'Mystery', 'Horror',\n",
    "               'Animation', 'War', 'IMAX', 'Musical', 'Western', 'Documentary', 'Film-Noir']"
   ]
  },
  {
   "cell_type": "code",
   "execution_count": 156,
   "id": "59f88396-1024-4c3a-99b5-fecdb79d579a",
   "metadata": {},
   "outputs": [],
   "source": [
    "def average_rating_by_genre(data, genre_list):\n",
    "    \n",
    "    #one-hot encoding the genres\n",
    "    genres_expanded = data['genres'].str.get_dummies(sep='|')\n",
    "    \n",
    "    #merging the normal dataset and the encoded\n",
    "    data_genres = pd.concat([data, genres_expanded], axis=1)\n",
    "    \n",
    "    #calculating the average rating of each genre\n",
    "    average_ratings = {}\n",
    "    for genre in genre_list:\n",
    "        if genre in data_genres.columns:\n",
    "            average_rating = data_genres[data_genres[genre] == 1]['rating'].mean()\n",
    "            average_ratings[genre] = average_rating\n",
    "\n",
    "    return average_ratings"
   ]
  },
  {
   "cell_type": "code",
   "execution_count": 157,
   "id": "64a2616e-9a63-4212-931c-7d280ca81c15",
   "metadata": {},
   "outputs": [
    {
     "data": {
      "text/plain": [
       "{'Drama': 3.6561844113718758,\n",
       " 'Comedy': 3.3847207640898267,\n",
       " 'Action': 3.447984331646809,\n",
       " 'Thriller': 3.4937055799183425,\n",
       " 'Adventure': 3.5086089151939075,\n",
       " 'Romance': 3.5065107040388437,\n",
       " 'Sci-Fi': 3.455721162210752,\n",
       " 'Crime': 3.658293867274144,\n",
       " 'Fantasy': 3.4910005070136894,\n",
       " 'Children': 3.412956125108601,\n",
       " 'Mystery': 3.632460255407871,\n",
       " 'Horror': 3.258195034974626,\n",
       " 'Animation': 3.6299370349170004,\n",
       " 'War': 3.8082938876312,\n",
       " 'IMAX': 3.618335343787696,\n",
       " 'Musical': 3.5636781053649105,\n",
       " 'Western': 3.583937823834197,\n",
       " 'Documentary': 3.797785069729286,\n",
       " 'Film-Noir': 3.920114942528736}"
      ]
     },
     "execution_count": 157,
     "metadata": {},
     "output_type": "execute_result"
    }
   ],
   "source": [
    "result = average_rating_by_genre(mvrt,genres_list)\n",
    "result"
   ]
  },
  {
   "cell_type": "code",
   "execution_count": 158,
   "id": "4b8ab972-d834-4e70-8a16-25ca3f561021",
   "metadata": {},
   "outputs": [
    {
     "data": {
      "image/png": "[encoded data removed]",
      "text/plain": [
       "<Figure size 640x480 with 1 Axes>"
      ]
     },
     "metadata": {},
     "output_type": "display_data"
    }
   ],
   "source": [
    "plt.bar(result.keys(), result.values())\n",
    "plt.xlabel('Genres')\n",
    "plt.ylabel('Average Rating')\n",
    "plt.title('Average Ratings by Genre')\n",
    "plt.ylim(0, 5)  # Set the y-axis limit to 5\n",
    "plt.xticks(rotation=45, ha='right')  #for better visibility\n",
    "plt.show()"
   ]
  },
  {
   "cell_type": "markdown",
   "id": "d7d7a9bb",
   "metadata": {},
   "source": [
    "Here we have the average rating for each genre. The highest average rating is for Film-Noir and the lowest is for Horror."
   ]
  },
  {
   "cell_type": "code",
   "execution_count": 159,
   "id": "ed80658b-1e47-4fc6-8f0e-293a61b9fc90",
   "metadata": {},
   "outputs": [
    {
     "data": {
      "image/png": "[encoded data removed]",
      "text/plain": [
       "<Figure size 640x480 with 1 Axes>"
      ]
     },
     "metadata": {},
     "output_type": "display_data"
    }
   ],
   "source": [
    "#Creating a column called decade and giving it the correct decade\n",
    "mvrt['decade'] = (mvrt['year_released'] // 10) * 10\n",
    "#checking average rating by decade so we can see when we made the best movies\n",
    "average_ratings_by_decade = mvrt.groupby('decade')['rating'].mean()\n",
    "#plotting it in a histogram\n",
    "plt.bar(average_ratings_by_decade.index.astype(str), average_ratings_by_decade.values)\n",
    "plt.xlabel('Decade')\n",
    "plt.ylabel('Average Rating')\n",
    "plt.ylim(0, 5)  # Set the y-axis limit to 5\n",
    "plt.title('Average Ratings by Decade')\n",
    "plt.xticks(rotation=45, ha='right')  #for better visibility\n",
    "plt.show()"
   ]
  },
  {
   "cell_type": "markdown",
   "id": "fd9c3347",
   "metadata": {},
   "source": [
    "We can see that the best movies were made in the 1950s and 1960s."
   ]
  },
  {
   "cell_type": "markdown",
   "id": "a6e0c1cd",
   "metadata": {},
   "source": [
    "Counting how many ratings each movie has, and adding it to the mvrt dataframe."
   ]
  },
  {
   "cell_type": "code",
   "execution_count": 205,
   "id": "28f6e17e-ceec-45e0-949d-39330432a810",
   "metadata": {},
   "outputs": [
    {
     "data": {
      "text/html": [
       "<div>\n",
       "<style scoped>\n",
       "    .dataframe tbody tr th:only-of-type {\n",
       "        vertical-align: middle;\n",
       "    }\n",
       "\n",
       "    .dataframe tbody tr th {\n",
       "        vertical-align: top;\n",
       "    }\n",
       "\n",
       "    .dataframe thead th {\n",
       "        text-align: right;\n",
       "    }\n",
       "</style>\n",
       "<table border=\"1\" class=\"dataframe\">\n",
       "  <thead>\n",
       "    <tr style=\"text-align: right;\">\n",
       "      <th></th>\n",
       "      <th>userId</th>\n",
       "      <th>movieId</th>\n",
       "      <th>rating</th>\n",
       "      <th>title</th>\n",
       "      <th>genres</th>\n",
       "      <th>year_released</th>\n",
       "      <th>decade</th>\n",
       "      <th>vote_count_x</th>\n",
       "      <th>vote_count_y</th>\n",
       "    </tr>\n",
       "  </thead>\n",
       "  <tbody>\n",
       "    <tr>\n",
       "      <th>0</th>\n",
       "      <td>1</td>\n",
       "      <td>1</td>\n",
       "      <td>4.0</td>\n",
       "      <td>Toy Story</td>\n",
       "      <td>Adventure|Animation|Children|Comedy|Fantasy</td>\n",
       "      <td>1995</td>\n",
       "      <td>1990</td>\n",
       "      <td>215</td>\n",
       "      <td>215</td>\n",
       "    </tr>\n",
       "    <tr>\n",
       "      <th>1</th>\n",
       "      <td>1</td>\n",
       "      <td>3</td>\n",
       "      <td>4.0</td>\n",
       "      <td>Grumpier Old Men</td>\n",
       "      <td>Comedy|Romance</td>\n",
       "      <td>1995</td>\n",
       "      <td>1990</td>\n",
       "      <td>52</td>\n",
       "      <td>52</td>\n",
       "    </tr>\n",
       "    <tr>\n",
       "      <th>2</th>\n",
       "      <td>1</td>\n",
       "      <td>6</td>\n",
       "      <td>4.0</td>\n",
       "      <td>Heat</td>\n",
       "      <td>Action|Crime|Thriller</td>\n",
       "      <td>1995</td>\n",
       "      <td>1990</td>\n",
       "      <td>102</td>\n",
       "      <td>102</td>\n",
       "    </tr>\n",
       "    <tr>\n",
       "      <th>3</th>\n",
       "      <td>1</td>\n",
       "      <td>47</td>\n",
       "      <td>5.0</td>\n",
       "      <td>Seven (a.k.a. Se7en)</td>\n",
       "      <td>Mystery|Thriller</td>\n",
       "      <td>1995</td>\n",
       "      <td>1990</td>\n",
       "      <td>203</td>\n",
       "      <td>203</td>\n",
       "    </tr>\n",
       "    <tr>\n",
       "      <th>4</th>\n",
       "      <td>1</td>\n",
       "      <td>50</td>\n",
       "      <td>5.0</td>\n",
       "      <td>Usual Suspects, The</td>\n",
       "      <td>Crime|Mystery|Thriller</td>\n",
       "      <td>1995</td>\n",
       "      <td>1990</td>\n",
       "      <td>204</td>\n",
       "      <td>204</td>\n",
       "    </tr>\n",
       "  </tbody>\n",
       "</table>\n",
       "</div>"
      ],
      "text/plain": [
       "   userId  movieId  rating                 title  \\\n",
       "0       1        1     4.0             Toy Story   \n",
       "1       1        3     4.0      Grumpier Old Men   \n",
       "2       1        6     4.0                  Heat   \n",
       "3       1       47     5.0  Seven (a.k.a. Se7en)   \n",
       "4       1       50     5.0   Usual Suspects, The   \n",
       "\n",
       "                                        genres  year_released  decade  \\\n",
       "0  Adventure|Animation|Children|Comedy|Fantasy           1995    1990   \n",
       "1                               Comedy|Romance           1995    1990   \n",
       "2                        Action|Crime|Thriller           1995    1990   \n",
       "3                             Mystery|Thriller           1995    1990   \n",
       "4                       Crime|Mystery|Thriller           1995    1990   \n",
       "\n",
       "   vote_count_x  vote_count_y  \n",
       "0           215           215  \n",
       "1            52            52  \n",
       "2           102           102  \n",
       "3           203           203  \n",
       "4           204           204  "
      ]
     },
     "execution_count": 205,
     "metadata": {},
     "output_type": "execute_result"
    }
   ],
   "source": [
    "vote_counts = mvrt['movieId'].value_counts().reset_index()\n",
    "vote_counts.columns = ['movieId', 'vote_count']\n",
    "mvrt = pd.merge(mvrt, vote_counts, on='movieId', how='left')\n",
    "mvrt.head()"
   ]
  },
  {
   "cell_type": "code",
   "execution_count": 161,
   "id": "57542b14-f23e-4e58-a782-2997ad82fda1",
   "metadata": {},
   "outputs": [],
   "source": [
    "# Check if 'year_released' column exists in 'movies' dataframe\n",
    "if 'year_released' not in movies.columns:\n",
    "    movies['year_released'] = pd.Series(dtype='Int64')\n",
    "\n",
    "movies['year_released'] = pd.to_numeric(movies['year_released'], errors='coerce').astype('Int64')"
   ]
  },
  {
   "cell_type": "code",
   "execution_count": 162,
   "id": "2ee4633c-68df-4fd4-bacb-71f04d0ba3c9",
   "metadata": {},
   "outputs": [
    {
     "data": {
      "text/plain": [
       "movieId           int64\n",
       "title            object\n",
       "genres           object\n",
       "year_released     Int64\n",
       "dtype: object"
      ]
     },
     "execution_count": 162,
     "metadata": {},
     "output_type": "execute_result"
    }
   ],
   "source": [
    "movies.dtypes"
   ]
  },
  {
   "cell_type": "code",
   "execution_count": 207,
   "id": "940edfd7-306a-44c7-b334-9046842a3349",
   "metadata": {},
   "outputs": [
    {
     "name": "stderr",
     "output_type": "stream",
     "text": [
      "C:\\Users\\g4m3r\\AppData\\Local\\Temp\\ipykernel_19240\\27175453.py:8: FutureWarning: Downcasting object dtype arrays on .fillna, .ffill, .bfill is deprecated and will change in a future version. Call result.infer_objects(copy=False) instead. To opt-in to the future behavior, set `pd.set_option('future.no_silent_downcasting', True)`\n",
      "  df[\"year_released\"] = df[\"year_released\"].fillna(0)\n",
      "C:\\Users\\g4m3r\\AppData\\Local\\Temp\\ipykernel_19240\\27175453.py:18: UserWarning: This pattern is interpreted as a regular expression, and has match groups. To actually get the groups, use str.extract.\n",
      "  genre_counts = df[df[\"genres\"].str.contains(fr'\\b{genre}\\b', na=False)].groupby(year_intervals, observed=False).size()\n"
     ]
    },
    {
     "data": {
      "image/png": "[encoded data removed]",
      "text/plain": [
       "<Figure size 1600x800 with 1 Axes>"
      ]
     },
     "metadata": {},
     "output_type": "display_data"
    }
   ],
   "source": [
    "import seaborn as sns\n",
    "\n",
    "def stackplot_genres_per_10year(df, saving=False, filename=None):\n",
    "    sns.set(style=\"whitegrid\")\n",
    "    df = df.sort_values(\"year_released\")\n",
    "\n",
    "    #Convert missing values to 0\n",
    "    df[\"year_released\"] = df[\"year_released\"].fillna(0)\n",
    "\n",
    "    #Create a range of 10-year intervals\n",
    "    year_intervals = pd.cut(df[\"year_released\"], bins=range(df[\"year_released\"].min(), df[\"year_released\"].max() + 11, 10), right=False)\n",
    "\n",
    "    counts = []\n",
    "    genres = df[\"genres\"].str.split(\"|\").explode().unique()\n",
    "\n",
    "    for genre in genres:\n",
    "        #Use observed=False to suppress the FutureWarning\n",
    "        genre_counts = df[df[\"genres\"].str.contains(fr'\\b{genre}\\b', na=False)].groupby(year_intervals, observed=False).size()     \n",
    "        counts.append(genre_counts)\n",
    "\n",
    "    counts_df = pd.concat(counts, axis=1, keys=genres).fillna(0)\n",
    "    \n",
    "    #Normalize the counts to get percentages\n",
    "    counts_df = counts_df.div(counts_df.sum(axis=1), axis=0) * 100\n",
    "\n",
    "    #Create a stackplot\n",
    "    f, ax = plt.subplots(figsize=(16, 8))\n",
    "    plt.stackplot(counts_df.index.astype(str), counts_df.T, labels=genres)\n",
    "    \n",
    "    plt.xlabel(\"Year Released (10-Year Intervals)\")\n",
    "    plt.ylabel(\"Percentage of Movies (%)\")\n",
    "    plt.title(\"Stacked Percentage of Movies by Genre in 10-Year Intervals\")\n",
    "    plt.legend(title=\"Genre\", bbox_to_anchor=(1.05, 1), loc='upper left')  #Move legend outside the plot\n",
    "\n",
    "    if saving:\n",
    "        plt.savefig(filename, dpi=200, bbox_inches=\"tight\")\n",
    "\n",
    "    plt.show()\n",
    "\n",
    "stackplot_genres_per_10year(movies, saving=False, filename=None)"
   ]
  },
  {
   "cell_type": "markdown",
   "id": "7a7b42e4",
   "metadata": {},
   "source": [
    "We are merging movies with vote_count so we only get each movie once for calculating the quantile."
   ]
  },
  {
   "cell_type": "code",
   "execution_count": 204,
   "id": "a2ab7da4-0e4f-45da-8109-9273045fb150",
   "metadata": {},
   "outputs": [],
   "source": [
    "merged_movies = pd.merge(movies, vote_counts, on='movieId', how='left')"
   ]
  },
  {
   "cell_type": "code",
   "execution_count": 165,
   "id": "d4ab8f97-c7b7-482b-b276-5e1bb01ff145",
   "metadata": {},
   "outputs": [
    {
     "data": {
      "text/html": [
       "<div>\n",
       "<style scoped>\n",
       "    .dataframe tbody tr th:only-of-type {\n",
       "        vertical-align: middle;\n",
       "    }\n",
       "\n",
       "    .dataframe tbody tr th {\n",
       "        vertical-align: top;\n",
       "    }\n",
       "\n",
       "    .dataframe thead th {\n",
       "        text-align: right;\n",
       "    }\n",
       "</style>\n",
       "<table border=\"1\" class=\"dataframe\">\n",
       "  <thead>\n",
       "    <tr style=\"text-align: right;\">\n",
       "      <th></th>\n",
       "      <th>movieId</th>\n",
       "      <th>title</th>\n",
       "      <th>genres</th>\n",
       "      <th>year_released</th>\n",
       "      <th>vote_count</th>\n",
       "    </tr>\n",
       "  </thead>\n",
       "  <tbody>\n",
       "    <tr>\n",
       "      <th>0</th>\n",
       "      <td>1</td>\n",
       "      <td>Toy Story (1995)</td>\n",
       "      <td>Adventure|Animation|Children|Comedy|Fantasy</td>\n",
       "      <td>&lt;NA&gt;</td>\n",
       "      <td>215.0</td>\n",
       "    </tr>\n",
       "    <tr>\n",
       "      <th>1</th>\n",
       "      <td>2</td>\n",
       "      <td>Jumanji (1995)</td>\n",
       "      <td>Adventure|Children|Fantasy</td>\n",
       "      <td>&lt;NA&gt;</td>\n",
       "      <td>110.0</td>\n",
       "    </tr>\n",
       "    <tr>\n",
       "      <th>2</th>\n",
       "      <td>3</td>\n",
       "      <td>Grumpier Old Men (1995)</td>\n",
       "      <td>Comedy|Romance</td>\n",
       "      <td>&lt;NA&gt;</td>\n",
       "      <td>52.0</td>\n",
       "    </tr>\n",
       "    <tr>\n",
       "      <th>3</th>\n",
       "      <td>4</td>\n",
       "      <td>Waiting to Exhale (1995)</td>\n",
       "      <td>Comedy|Drama|Romance</td>\n",
       "      <td>&lt;NA&gt;</td>\n",
       "      <td>7.0</td>\n",
       "    </tr>\n",
       "    <tr>\n",
       "      <th>4</th>\n",
       "      <td>5</td>\n",
       "      <td>Father of the Bride Part II (1995)</td>\n",
       "      <td>Comedy</td>\n",
       "      <td>&lt;NA&gt;</td>\n",
       "      <td>49.0</td>\n",
       "    </tr>\n",
       "    <tr>\n",
       "      <th>...</th>\n",
       "      <td>...</td>\n",
       "      <td>...</td>\n",
       "      <td>...</td>\n",
       "      <td>...</td>\n",
       "      <td>...</td>\n",
       "    </tr>\n",
       "    <tr>\n",
       "      <th>9737</th>\n",
       "      <td>193581</td>\n",
       "      <td>Black Butler: Book of the Atlantic (2017)</td>\n",
       "      <td>Action|Animation|Comedy|Fantasy</td>\n",
       "      <td>&lt;NA&gt;</td>\n",
       "      <td>1.0</td>\n",
       "    </tr>\n",
       "    <tr>\n",
       "      <th>9738</th>\n",
       "      <td>193583</td>\n",
       "      <td>No Game No Life: Zero (2017)</td>\n",
       "      <td>Animation|Comedy|Fantasy</td>\n",
       "      <td>&lt;NA&gt;</td>\n",
       "      <td>1.0</td>\n",
       "    </tr>\n",
       "    <tr>\n",
       "      <th>9739</th>\n",
       "      <td>193585</td>\n",
       "      <td>Flint (2017)</td>\n",
       "      <td>Drama</td>\n",
       "      <td>&lt;NA&gt;</td>\n",
       "      <td>1.0</td>\n",
       "    </tr>\n",
       "    <tr>\n",
       "      <th>9740</th>\n",
       "      <td>193587</td>\n",
       "      <td>Bungo Stray Dogs: Dead Apple (2018)</td>\n",
       "      <td>Action|Animation</td>\n",
       "      <td>&lt;NA&gt;</td>\n",
       "      <td>1.0</td>\n",
       "    </tr>\n",
       "    <tr>\n",
       "      <th>9741</th>\n",
       "      <td>193609</td>\n",
       "      <td>Andrew Dice Clay: Dice Rules (1991)</td>\n",
       "      <td>Comedy</td>\n",
       "      <td>&lt;NA&gt;</td>\n",
       "      <td>1.0</td>\n",
       "    </tr>\n",
       "  </tbody>\n",
       "</table>\n",
       "<p>9742 rows × 5 columns</p>\n",
       "</div>"
      ],
      "text/plain": [
       "      movieId                                      title  \\\n",
       "0           1                           Toy Story (1995)   \n",
       "1           2                             Jumanji (1995)   \n",
       "2           3                    Grumpier Old Men (1995)   \n",
       "3           4                   Waiting to Exhale (1995)   \n",
       "4           5         Father of the Bride Part II (1995)   \n",
       "...       ...                                        ...   \n",
       "9737   193581  Black Butler: Book of the Atlantic (2017)   \n",
       "9738   193583               No Game No Life: Zero (2017)   \n",
       "9739   193585                               Flint (2017)   \n",
       "9740   193587        Bungo Stray Dogs: Dead Apple (2018)   \n",
       "9741   193609        Andrew Dice Clay: Dice Rules (1991)   \n",
       "\n",
       "                                           genres  year_released  vote_count  \n",
       "0     Adventure|Animation|Children|Comedy|Fantasy           <NA>       215.0  \n",
       "1                      Adventure|Children|Fantasy           <NA>       110.0  \n",
       "2                                  Comedy|Romance           <NA>        52.0  \n",
       "3                            Comedy|Drama|Romance           <NA>         7.0  \n",
       "4                                          Comedy           <NA>        49.0  \n",
       "...                                           ...            ...         ...  \n",
       "9737              Action|Animation|Comedy|Fantasy           <NA>         1.0  \n",
       "9738                     Animation|Comedy|Fantasy           <NA>         1.0  \n",
       "9739                                        Drama           <NA>         1.0  \n",
       "9740                             Action|Animation           <NA>         1.0  \n",
       "9741                                       Comedy           <NA>         1.0  \n",
       "\n",
       "[9742 rows x 5 columns]"
      ]
     },
     "execution_count": 165,
     "metadata": {},
     "output_type": "execute_result"
    }
   ],
   "source": [
    "merged_movies"
   ]
  },
  {
   "cell_type": "markdown",
   "id": "2a7aff22",
   "metadata": {},
   "source": [
    "Adding the year to the movies."
   ]
  },
  {
   "cell_type": "code",
   "execution_count": 203,
   "id": "5a890d40-aadc-4274-9887-7ec5238ed0c6",
   "metadata": {},
   "outputs": [],
   "source": [
    "merged_movies['year_released'] = merged_movies['title'].str.extract(r'\\((\\d{4})\\)', expand=False)\n",
    "merged_movies['title'] = merged_movies['title'].str.replace(r'\\s*\\(\\d{4}\\)\\s*', '', regex=True)\n",
    "movies['year_released'] = movies['title'].str.extract(r'\\((\\d{4})\\)', expand=False)\n",
    "movies['title'] = movies['title'].str.replace(r'\\s*\\(\\d{4}\\)\\s*', '', regex=True)"
   ]
  },
  {
   "cell_type": "markdown",
   "id": "2f0ebc8e",
   "metadata": {},
   "source": [
    "Calculating the 90th percentile (quantile)."
   ]
  },
  {
   "cell_type": "code",
   "execution_count": 167,
   "id": "653ee04e-1bf1-4dbd-91f3-083d4ec79354",
   "metadata": {},
   "outputs": [
    {
     "name": "stdout",
     "output_type": "stream",
     "text": [
      "27.0\n"
     ]
    }
   ],
   "source": [
    "m = merged_movies['vote_count'].quantile(0.90)\n",
    "print(m)"
   ]
  },
  {
   "cell_type": "markdown",
   "id": "6e980dda",
   "metadata": {},
   "source": [
    "We just wanna keep the movies with more m (27) votes, in a new dataframe called q_movies."
   ]
  },
  {
   "cell_type": "markdown",
   "id": "a4d793fa",
   "metadata": {},
   "source": [
    "And then we are resetting the index to easier read the dataframe."
   ]
  },
  {
   "cell_type": "code",
   "execution_count": 168,
   "id": "3bfc05f9-4bb2-4df6-8642-7466279917d9",
   "metadata": {},
   "outputs": [
    {
     "data": {
      "text/html": [
       "<div>\n",
       "<style scoped>\n",
       "    .dataframe tbody tr th:only-of-type {\n",
       "        vertical-align: middle;\n",
       "    }\n",
       "\n",
       "    .dataframe tbody tr th {\n",
       "        vertical-align: top;\n",
       "    }\n",
       "\n",
       "    .dataframe thead th {\n",
       "        text-align: right;\n",
       "    }\n",
       "</style>\n",
       "<table border=\"1\" class=\"dataframe\">\n",
       "  <thead>\n",
       "    <tr style=\"text-align: right;\">\n",
       "      <th></th>\n",
       "      <th>movieId</th>\n",
       "      <th>title</th>\n",
       "      <th>genres</th>\n",
       "      <th>year_released</th>\n",
       "      <th>vote_count</th>\n",
       "    </tr>\n",
       "  </thead>\n",
       "  <tbody>\n",
       "    <tr>\n",
       "      <th>0</th>\n",
       "      <td>1</td>\n",
       "      <td>Toy Story</td>\n",
       "      <td>Adventure|Animation|Children|Comedy|Fantasy</td>\n",
       "      <td>1995</td>\n",
       "      <td>215.0</td>\n",
       "    </tr>\n",
       "    <tr>\n",
       "      <th>1</th>\n",
       "      <td>2</td>\n",
       "      <td>Jumanji</td>\n",
       "      <td>Adventure|Children|Fantasy</td>\n",
       "      <td>1995</td>\n",
       "      <td>110.0</td>\n",
       "    </tr>\n",
       "    <tr>\n",
       "      <th>2</th>\n",
       "      <td>3</td>\n",
       "      <td>Grumpier Old Men</td>\n",
       "      <td>Comedy|Romance</td>\n",
       "      <td>1995</td>\n",
       "      <td>52.0</td>\n",
       "    </tr>\n",
       "    <tr>\n",
       "      <th>3</th>\n",
       "      <td>5</td>\n",
       "      <td>Father of the Bride Part II</td>\n",
       "      <td>Comedy</td>\n",
       "      <td>1995</td>\n",
       "      <td>49.0</td>\n",
       "    </tr>\n",
       "    <tr>\n",
       "      <th>4</th>\n",
       "      <td>6</td>\n",
       "      <td>Heat</td>\n",
       "      <td>Action|Crime|Thriller</td>\n",
       "      <td>1995</td>\n",
       "      <td>102.0</td>\n",
       "    </tr>\n",
       "    <tr>\n",
       "      <th>...</th>\n",
       "      <td>...</td>\n",
       "      <td>...</td>\n",
       "      <td>...</td>\n",
       "      <td>...</td>\n",
       "      <td>...</td>\n",
       "    </tr>\n",
       "    <tr>\n",
       "      <th>971</th>\n",
       "      <td>134130</td>\n",
       "      <td>The Martian</td>\n",
       "      <td>Adventure|Drama|Sci-Fi</td>\n",
       "      <td>2015</td>\n",
       "      <td>48.0</td>\n",
       "    </tr>\n",
       "    <tr>\n",
       "      <th>972</th>\n",
       "      <td>134853</td>\n",
       "      <td>Inside Out</td>\n",
       "      <td>Adventure|Animation|Children|Comedy|Drama|Fantasy</td>\n",
       "      <td>2015</td>\n",
       "      <td>43.0</td>\n",
       "    </tr>\n",
       "    <tr>\n",
       "      <th>973</th>\n",
       "      <td>139385</td>\n",
       "      <td>The Revenant</td>\n",
       "      <td>Adventure|Drama</td>\n",
       "      <td>2015</td>\n",
       "      <td>31.0</td>\n",
       "    </tr>\n",
       "    <tr>\n",
       "      <th>974</th>\n",
       "      <td>152081</td>\n",
       "      <td>Zootopia</td>\n",
       "      <td>Action|Adventure|Animation|Children|Comedy</td>\n",
       "      <td>2016</td>\n",
       "      <td>32.0</td>\n",
       "    </tr>\n",
       "    <tr>\n",
       "      <th>975</th>\n",
       "      <td>166528</td>\n",
       "      <td>Rogue One: A Star Wars Story</td>\n",
       "      <td>Action|Adventure|Fantasy|Sci-Fi</td>\n",
       "      <td>2016</td>\n",
       "      <td>27.0</td>\n",
       "    </tr>\n",
       "  </tbody>\n",
       "</table>\n",
       "<p>976 rows × 5 columns</p>\n",
       "</div>"
      ],
      "text/plain": [
       "     movieId                         title  \\\n",
       "0          1                     Toy Story   \n",
       "1          2                       Jumanji   \n",
       "2          3              Grumpier Old Men   \n",
       "3          5   Father of the Bride Part II   \n",
       "4          6                          Heat   \n",
       "..       ...                           ...   \n",
       "971   134130                   The Martian   \n",
       "972   134853                    Inside Out   \n",
       "973   139385                  The Revenant   \n",
       "974   152081                      Zootopia   \n",
       "975   166528  Rogue One: A Star Wars Story   \n",
       "\n",
       "                                                genres year_released  \\\n",
       "0          Adventure|Animation|Children|Comedy|Fantasy          1995   \n",
       "1                           Adventure|Children|Fantasy          1995   \n",
       "2                                       Comedy|Romance          1995   \n",
       "3                                               Comedy          1995   \n",
       "4                                Action|Crime|Thriller          1995   \n",
       "..                                                 ...           ...   \n",
       "971                             Adventure|Drama|Sci-Fi          2015   \n",
       "972  Adventure|Animation|Children|Comedy|Drama|Fantasy          2015   \n",
       "973                                    Adventure|Drama          2015   \n",
       "974         Action|Adventure|Animation|Children|Comedy          2016   \n",
       "975                    Action|Adventure|Fantasy|Sci-Fi          2016   \n",
       "\n",
       "     vote_count  \n",
       "0         215.0  \n",
       "1         110.0  \n",
       "2          52.0  \n",
       "3          49.0  \n",
       "4         102.0  \n",
       "..          ...  \n",
       "971        48.0  \n",
       "972        43.0  \n",
       "973        31.0  \n",
       "974        32.0  \n",
       "975        27.0  \n",
       "\n",
       "[976 rows x 5 columns]"
      ]
     },
     "execution_count": 168,
     "metadata": {},
     "output_type": "execute_result"
    }
   ],
   "source": [
    "q_movies = merged_movies.copy().loc[merged_movies['vote_count'] >= m]\n",
    "q_movies = q_movies.reset_index(drop=True)\n",
    "q_movies"
   ]
  },
  {
   "cell_type": "markdown",
   "id": "7b44350d",
   "metadata": {},
   "source": [
    "We are calculating the average rating for each movie, and after that we are merging the merged_movies with average_ratings."
   ]
  },
  {
   "cell_type": "code",
   "execution_count": 196,
   "id": "9d88c008-2fef-48fb-8510-b4ef36d89a67",
   "metadata": {},
   "outputs": [
    {
     "data": {
      "text/html": [
       "<div>\n",
       "<style scoped>\n",
       "    .dataframe tbody tr th:only-of-type {\n",
       "        vertical-align: middle;\n",
       "    }\n",
       "\n",
       "    .dataframe tbody tr th {\n",
       "        vertical-align: top;\n",
       "    }\n",
       "\n",
       "    .dataframe thead th {\n",
       "        text-align: right;\n",
       "    }\n",
       "</style>\n",
       "<table border=\"1\" class=\"dataframe\">\n",
       "  <thead>\n",
       "    <tr style=\"text-align: right;\">\n",
       "      <th></th>\n",
       "      <th>movieId</th>\n",
       "      <th>title</th>\n",
       "      <th>genres</th>\n",
       "      <th>year_released</th>\n",
       "      <th>vote_count</th>\n",
       "      <th>average_rating</th>\n",
       "    </tr>\n",
       "  </thead>\n",
       "  <tbody>\n",
       "    <tr>\n",
       "      <th>0</th>\n",
       "      <td>1</td>\n",
       "      <td>Toy Story</td>\n",
       "      <td>Adventure|Animation|Children|Comedy|Fantasy</td>\n",
       "      <td>1995</td>\n",
       "      <td>215.0</td>\n",
       "      <td>3.920930</td>\n",
       "    </tr>\n",
       "    <tr>\n",
       "      <th>1</th>\n",
       "      <td>2</td>\n",
       "      <td>Jumanji</td>\n",
       "      <td>Adventure|Children|Fantasy</td>\n",
       "      <td>1995</td>\n",
       "      <td>110.0</td>\n",
       "      <td>3.431818</td>\n",
       "    </tr>\n",
       "    <tr>\n",
       "      <th>2</th>\n",
       "      <td>3</td>\n",
       "      <td>Grumpier Old Men</td>\n",
       "      <td>Comedy|Romance</td>\n",
       "      <td>1995</td>\n",
       "      <td>52.0</td>\n",
       "      <td>3.259615</td>\n",
       "    </tr>\n",
       "    <tr>\n",
       "      <th>3</th>\n",
       "      <td>4</td>\n",
       "      <td>Waiting to Exhale</td>\n",
       "      <td>Comedy|Drama|Romance</td>\n",
       "      <td>1995</td>\n",
       "      <td>7.0</td>\n",
       "      <td>2.357143</td>\n",
       "    </tr>\n",
       "    <tr>\n",
       "      <th>4</th>\n",
       "      <td>5</td>\n",
       "      <td>Father of the Bride Part II</td>\n",
       "      <td>Comedy</td>\n",
       "      <td>1995</td>\n",
       "      <td>49.0</td>\n",
       "      <td>3.071429</td>\n",
       "    </tr>\n",
       "    <tr>\n",
       "      <th>...</th>\n",
       "      <td>...</td>\n",
       "      <td>...</td>\n",
       "      <td>...</td>\n",
       "      <td>...</td>\n",
       "      <td>...</td>\n",
       "      <td>...</td>\n",
       "    </tr>\n",
       "    <tr>\n",
       "      <th>9737</th>\n",
       "      <td>193581</td>\n",
       "      <td>Black Butler: Book of the Atlantic</td>\n",
       "      <td>Action|Animation|Comedy|Fantasy</td>\n",
       "      <td>2017</td>\n",
       "      <td>1.0</td>\n",
       "      <td>4.000000</td>\n",
       "    </tr>\n",
       "    <tr>\n",
       "      <th>9738</th>\n",
       "      <td>193583</td>\n",
       "      <td>No Game No Life: Zero</td>\n",
       "      <td>Animation|Comedy|Fantasy</td>\n",
       "      <td>2017</td>\n",
       "      <td>1.0</td>\n",
       "      <td>3.500000</td>\n",
       "    </tr>\n",
       "    <tr>\n",
       "      <th>9739</th>\n",
       "      <td>193585</td>\n",
       "      <td>Flint</td>\n",
       "      <td>Drama</td>\n",
       "      <td>2017</td>\n",
       "      <td>1.0</td>\n",
       "      <td>3.500000</td>\n",
       "    </tr>\n",
       "    <tr>\n",
       "      <th>9740</th>\n",
       "      <td>193587</td>\n",
       "      <td>Bungo Stray Dogs: Dead Apple</td>\n",
       "      <td>Action|Animation</td>\n",
       "      <td>2018</td>\n",
       "      <td>1.0</td>\n",
       "      <td>3.500000</td>\n",
       "    </tr>\n",
       "    <tr>\n",
       "      <th>9741</th>\n",
       "      <td>193609</td>\n",
       "      <td>Andrew Dice Clay: Dice Rules</td>\n",
       "      <td>Comedy</td>\n",
       "      <td>1991</td>\n",
       "      <td>1.0</td>\n",
       "      <td>4.000000</td>\n",
       "    </tr>\n",
       "  </tbody>\n",
       "</table>\n",
       "<p>9742 rows × 6 columns</p>\n",
       "</div>"
      ],
      "text/plain": [
       "      movieId                               title  \\\n",
       "0           1                           Toy Story   \n",
       "1           2                             Jumanji   \n",
       "2           3                    Grumpier Old Men   \n",
       "3           4                   Waiting to Exhale   \n",
       "4           5         Father of the Bride Part II   \n",
       "...       ...                                 ...   \n",
       "9737   193581  Black Butler: Book of the Atlantic   \n",
       "9738   193583               No Game No Life: Zero   \n",
       "9739   193585                               Flint   \n",
       "9740   193587        Bungo Stray Dogs: Dead Apple   \n",
       "9741   193609        Andrew Dice Clay: Dice Rules   \n",
       "\n",
       "                                           genres year_released  vote_count  \\\n",
       "0     Adventure|Animation|Children|Comedy|Fantasy          1995       215.0   \n",
       "1                      Adventure|Children|Fantasy          1995       110.0   \n",
       "2                                  Comedy|Romance          1995        52.0   \n",
       "3                            Comedy|Drama|Romance          1995         7.0   \n",
       "4                                          Comedy          1995        49.0   \n",
       "...                                           ...           ...         ...   \n",
       "9737              Action|Animation|Comedy|Fantasy          2017         1.0   \n",
       "9738                     Animation|Comedy|Fantasy          2017         1.0   \n",
       "9739                                        Drama          2017         1.0   \n",
       "9740                             Action|Animation          2018         1.0   \n",
       "9741                                       Comedy          1991         1.0   \n",
       "\n",
       "      average_rating  \n",
       "0           3.920930  \n",
       "1           3.431818  \n",
       "2           3.259615  \n",
       "3           2.357143  \n",
       "4           3.071429  \n",
       "...              ...  \n",
       "9737        4.000000  \n",
       "9738        3.500000  \n",
       "9739        3.500000  \n",
       "9740        3.500000  \n",
       "9741        4.000000  \n",
       "\n",
       "[9742 rows x 6 columns]"
      ]
     },
     "execution_count": 196,
     "metadata": {},
     "output_type": "execute_result"
    }
   ],
   "source": [
    "average_ratings = mvrt.groupby('movieId')['rating'].mean().reset_index()\n",
    "average_ratings.columns = ['movieId', 'average_rating']\n",
    "\n",
    "movies_average = pd.merge(merged_movies, average_ratings, on='movieId', how='left')\n",
    "movies_average"
   ]
  },
  {
   "cell_type": "markdown",
   "id": "8d92f0c0",
   "metadata": {},
   "source": [
    "We are calculating to see the average."
   ]
  },
  {
   "cell_type": "code",
   "execution_count": 197,
   "id": "4c7b3564-2d89-4aa5-bf3c-033eff268f75",
   "metadata": {},
   "outputs": [
    {
     "name": "stdout",
     "output_type": "stream",
     "text": [
      "3.2620668706545675\n"
     ]
    }
   ],
   "source": [
    "average_rating_of_all = movies_average['average_rating'].mean()\n",
    "print(average_rating_of_all)"
   ]
  },
  {
   "cell_type": "code",
   "execution_count": 171,
   "id": "794157ab-2834-497e-ab43-9d867c386541",
   "metadata": {},
   "outputs": [
    {
     "data": {
      "text/html": [
       "<div>\n",
       "<style scoped>\n",
       "    .dataframe tbody tr th:only-of-type {\n",
       "        vertical-align: middle;\n",
       "    }\n",
       "\n",
       "    .dataframe tbody tr th {\n",
       "        vertical-align: top;\n",
       "    }\n",
       "\n",
       "    .dataframe thead th {\n",
       "        text-align: right;\n",
       "    }\n",
       "</style>\n",
       "<table border=\"1\" class=\"dataframe\">\n",
       "  <thead>\n",
       "    <tr style=\"text-align: right;\">\n",
       "      <th></th>\n",
       "      <th>movieId</th>\n",
       "      <th>title</th>\n",
       "      <th>genres</th>\n",
       "      <th>year_released</th>\n",
       "      <th>vote_count</th>\n",
       "      <th>average_rating</th>\n",
       "    </tr>\n",
       "  </thead>\n",
       "  <tbody>\n",
       "    <tr>\n",
       "      <th>0</th>\n",
       "      <td>1</td>\n",
       "      <td>Toy Story</td>\n",
       "      <td>Adventure|Animation|Children|Comedy|Fantasy</td>\n",
       "      <td>1995</td>\n",
       "      <td>215.0</td>\n",
       "      <td>3.920930</td>\n",
       "    </tr>\n",
       "    <tr>\n",
       "      <th>1</th>\n",
       "      <td>2</td>\n",
       "      <td>Jumanji</td>\n",
       "      <td>Adventure|Children|Fantasy</td>\n",
       "      <td>1995</td>\n",
       "      <td>110.0</td>\n",
       "      <td>3.431818</td>\n",
       "    </tr>\n",
       "    <tr>\n",
       "      <th>2</th>\n",
       "      <td>3</td>\n",
       "      <td>Grumpier Old Men</td>\n",
       "      <td>Comedy|Romance</td>\n",
       "      <td>1995</td>\n",
       "      <td>52.0</td>\n",
       "      <td>3.259615</td>\n",
       "    </tr>\n",
       "    <tr>\n",
       "      <th>4</th>\n",
       "      <td>5</td>\n",
       "      <td>Father of the Bride Part II</td>\n",
       "      <td>Comedy</td>\n",
       "      <td>1995</td>\n",
       "      <td>49.0</td>\n",
       "      <td>3.071429</td>\n",
       "    </tr>\n",
       "    <tr>\n",
       "      <th>5</th>\n",
       "      <td>6</td>\n",
       "      <td>Heat</td>\n",
       "      <td>Action|Crime|Thriller</td>\n",
       "      <td>1995</td>\n",
       "      <td>102.0</td>\n",
       "      <td>3.946078</td>\n",
       "    </tr>\n",
       "    <tr>\n",
       "      <th>...</th>\n",
       "      <td>...</td>\n",
       "      <td>...</td>\n",
       "      <td>...</td>\n",
       "      <td>...</td>\n",
       "      <td>...</td>\n",
       "      <td>...</td>\n",
       "    </tr>\n",
       "    <tr>\n",
       "      <th>8879</th>\n",
       "      <td>134130</td>\n",
       "      <td>The Martian</td>\n",
       "      <td>Adventure|Drama|Sci-Fi</td>\n",
       "      <td>2015</td>\n",
       "      <td>48.0</td>\n",
       "      <td>4.000000</td>\n",
       "    </tr>\n",
       "    <tr>\n",
       "      <th>8900</th>\n",
       "      <td>134853</td>\n",
       "      <td>Inside Out</td>\n",
       "      <td>Adventure|Animation|Children|Comedy|Drama|Fantasy</td>\n",
       "      <td>2015</td>\n",
       "      <td>43.0</td>\n",
       "      <td>3.813953</td>\n",
       "    </tr>\n",
       "    <tr>\n",
       "      <th>8990</th>\n",
       "      <td>139385</td>\n",
       "      <td>The Revenant</td>\n",
       "      <td>Adventure|Drama</td>\n",
       "      <td>2015</td>\n",
       "      <td>31.0</td>\n",
       "      <td>3.903226</td>\n",
       "    </tr>\n",
       "    <tr>\n",
       "      <th>9223</th>\n",
       "      <td>152081</td>\n",
       "      <td>Zootopia</td>\n",
       "      <td>Action|Adventure|Animation|Children|Comedy</td>\n",
       "      <td>2016</td>\n",
       "      <td>32.0</td>\n",
       "      <td>3.890625</td>\n",
       "    </tr>\n",
       "    <tr>\n",
       "      <th>9433</th>\n",
       "      <td>166528</td>\n",
       "      <td>Rogue One: A Star Wars Story</td>\n",
       "      <td>Action|Adventure|Fantasy|Sci-Fi</td>\n",
       "      <td>2016</td>\n",
       "      <td>27.0</td>\n",
       "      <td>3.925926</td>\n",
       "    </tr>\n",
       "  </tbody>\n",
       "</table>\n",
       "<p>976 rows × 6 columns</p>\n",
       "</div>"
      ],
      "text/plain": [
       "      movieId                         title  \\\n",
       "0           1                     Toy Story   \n",
       "1           2                       Jumanji   \n",
       "2           3              Grumpier Old Men   \n",
       "4           5   Father of the Bride Part II   \n",
       "5           6                          Heat   \n",
       "...       ...                           ...   \n",
       "8879   134130                   The Martian   \n",
       "8900   134853                    Inside Out   \n",
       "8990   139385                  The Revenant   \n",
       "9223   152081                      Zootopia   \n",
       "9433   166528  Rogue One: A Star Wars Story   \n",
       "\n",
       "                                                 genres year_released  \\\n",
       "0           Adventure|Animation|Children|Comedy|Fantasy          1995   \n",
       "1                            Adventure|Children|Fantasy          1995   \n",
       "2                                        Comedy|Romance          1995   \n",
       "4                                                Comedy          1995   \n",
       "5                                 Action|Crime|Thriller          1995   \n",
       "...                                                 ...           ...   \n",
       "8879                             Adventure|Drama|Sci-Fi          2015   \n",
       "8900  Adventure|Animation|Children|Comedy|Drama|Fantasy          2015   \n",
       "8990                                    Adventure|Drama          2015   \n",
       "9223         Action|Adventure|Animation|Children|Comedy          2016   \n",
       "9433                    Action|Adventure|Fantasy|Sci-Fi          2016   \n",
       "\n",
       "      vote_count  average_rating  \n",
       "0          215.0        3.920930  \n",
       "1          110.0        3.431818  \n",
       "2           52.0        3.259615  \n",
       "4           49.0        3.071429  \n",
       "5          102.0        3.946078  \n",
       "...          ...             ...  \n",
       "8879        48.0        4.000000  \n",
       "8900        43.0        3.813953  \n",
       "8990        31.0        3.903226  \n",
       "9223        32.0        3.890625  \n",
       "9433        27.0        3.925926  \n",
       "\n",
       "[976 rows x 6 columns]"
      ]
     },
     "execution_count": 171,
     "metadata": {},
     "output_type": "execute_result"
    }
   ],
   "source": [
    "q_movies = movies_average.copy().loc[merged_movies['vote_count'] >= m]\n",
    "q_movies"
   ]
  },
  {
   "cell_type": "markdown",
   "id": "815c7740",
   "metadata": {},
   "source": [
    "Creating a histogram of average rating for each movie and counts, to visualise it. Notice that its almost a normal distribution curve."
   ]
  },
  {
   "cell_type": "code",
   "execution_count": 198,
   "id": "2a265388-a8ed-4a4a-a13a-9ef3da762e57",
   "metadata": {},
   "outputs": [
    {
     "data": {
      "image/png": "[encoded data removed]",
      "text/plain": [
       "<Figure size 640x480 with 1 Axes>"
      ]
     },
     "metadata": {},
     "output_type": "display_data"
    }
   ],
   "source": [
    "plt.hist(q_movies['average_rating'], bins=10, edgecolor='black', color='green')\n",
    "plt.xlabel('Average rating')\n",
    "plt.ylabel('Count')\n",
    "plt.title('Histogram of Average ratings for each movie')\n",
    "plt.show()"
   ]
  },
  {
   "cell_type": "markdown",
   "id": "5e9b4c10",
   "metadata": {},
   "source": [
    "The histogram shows that most of the movies have an average rating between 3 and 4.5."
   ]
  },
  {
   "cell_type": "markdown",
   "id": "0c4982f5",
   "metadata": {},
   "source": [
    "We are creating a function to calculating the WAR weighted average rating."
   ]
  },
  {
   "cell_type": "code",
   "execution_count": 199,
   "id": "1b5cc47a-d9a1-4eaf-9f80-91b48a3cbf7d",
   "metadata": {},
   "outputs": [],
   "source": [
    "def war(x, m=m, c=average_rating_of_all):\n",
    "    v = x['vote_count']\n",
    "    r = x['average_rating']\n",
    "    return (v/(v+m) * r) + (m/(m+v) * c)"
   ]
  },
  {
   "cell_type": "markdown",
   "id": "aa9ea6e4",
   "metadata": {},
   "source": [
    "We are using the function on each of the movies and adding the scores to q_movies in a new column called score."
   ]
  },
  {
   "cell_type": "code",
   "execution_count": 200,
   "id": "08f5b095-52c2-4203-bc42-e0a84c77c54e",
   "metadata": {},
   "outputs": [
    {
     "name": "stdout",
     "output_type": "stream",
     "text": [
      "277     4.337430\n",
      "659     4.162447\n",
      "2226    4.161534\n",
      "224     4.136963\n",
      "46      4.123705\n",
      "          ...   \n",
      "1235    2.636878\n",
      "1174    2.624287\n",
      "1145    2.593996\n",
      "2029    2.563448\n",
      "1373    2.542930\n",
      "Name: score, Length: 976, dtype: float64\n"
     ]
    }
   ],
   "source": [
    "q_movies['score'] = movies_average.apply(war, axis=1)\n",
    "print(q_movies['score'])"
   ]
  },
  {
   "cell_type": "markdown",
   "id": "9ba6ae77",
   "metadata": {},
   "source": [
    "Checking the data in q_movies."
   ]
  },
  {
   "cell_type": "code",
   "execution_count": 175,
   "id": "ffe35d78-105e-402f-b227-84b859429f88",
   "metadata": {},
   "outputs": [
    {
     "data": {
      "text/html": [
       "<div>\n",
       "<style scoped>\n",
       "    .dataframe tbody tr th:only-of-type {\n",
       "        vertical-align: middle;\n",
       "    }\n",
       "\n",
       "    .dataframe tbody tr th {\n",
       "        vertical-align: top;\n",
       "    }\n",
       "\n",
       "    .dataframe thead th {\n",
       "        text-align: right;\n",
       "    }\n",
       "</style>\n",
       "<table border=\"1\" class=\"dataframe\">\n",
       "  <thead>\n",
       "    <tr style=\"text-align: right;\">\n",
       "      <th></th>\n",
       "      <th>movieId</th>\n",
       "      <th>title</th>\n",
       "      <th>genres</th>\n",
       "      <th>year_released</th>\n",
       "      <th>vote_count</th>\n",
       "      <th>average_rating</th>\n",
       "      <th>score</th>\n",
       "    </tr>\n",
       "  </thead>\n",
       "  <tbody>\n",
       "    <tr>\n",
       "      <th>0</th>\n",
       "      <td>1</td>\n",
       "      <td>Toy Story</td>\n",
       "      <td>Adventure|Animation|Children|Comedy|Fantasy</td>\n",
       "      <td>1995</td>\n",
       "      <td>215.0</td>\n",
       "      <td>3.920930</td>\n",
       "      <td>3.847421</td>\n",
       "    </tr>\n",
       "    <tr>\n",
       "      <th>1</th>\n",
       "      <td>2</td>\n",
       "      <td>Jumanji</td>\n",
       "      <td>Adventure|Children|Fantasy</td>\n",
       "      <td>1995</td>\n",
       "      <td>110.0</td>\n",
       "      <td>3.431818</td>\n",
       "      <td>3.398364</td>\n",
       "    </tr>\n",
       "    <tr>\n",
       "      <th>2</th>\n",
       "      <td>3</td>\n",
       "      <td>Grumpier Old Men</td>\n",
       "      <td>Comedy|Romance</td>\n",
       "      <td>1995</td>\n",
       "      <td>52.0</td>\n",
       "      <td>3.259615</td>\n",
       "      <td>3.260453</td>\n",
       "    </tr>\n",
       "    <tr>\n",
       "      <th>4</th>\n",
       "      <td>5</td>\n",
       "      <td>Father of the Bride Part II</td>\n",
       "      <td>Comedy</td>\n",
       "      <td>1995</td>\n",
       "      <td>49.0</td>\n",
       "      <td>3.071429</td>\n",
       "      <td>3.139155</td>\n",
       "    </tr>\n",
       "    <tr>\n",
       "      <th>5</th>\n",
       "      <td>6</td>\n",
       "      <td>Heat</td>\n",
       "      <td>Action|Crime|Thriller</td>\n",
       "      <td>1995</td>\n",
       "      <td>102.0</td>\n",
       "      <td>3.946078</td>\n",
       "      <td>3.802913</td>\n",
       "    </tr>\n",
       "    <tr>\n",
       "      <th>...</th>\n",
       "      <td>...</td>\n",
       "      <td>...</td>\n",
       "      <td>...</td>\n",
       "      <td>...</td>\n",
       "      <td>...</td>\n",
       "      <td>...</td>\n",
       "      <td>...</td>\n",
       "    </tr>\n",
       "    <tr>\n",
       "      <th>8879</th>\n",
       "      <td>134130</td>\n",
       "      <td>The Martian</td>\n",
       "      <td>Adventure|Drama|Sci-Fi</td>\n",
       "      <td>2015</td>\n",
       "      <td>48.0</td>\n",
       "      <td>4.000000</td>\n",
       "      <td>3.734344</td>\n",
       "    </tr>\n",
       "    <tr>\n",
       "      <th>8900</th>\n",
       "      <td>134853</td>\n",
       "      <td>Inside Out</td>\n",
       "      <td>Adventure|Animation|Children|Comedy|Drama|Fantasy</td>\n",
       "      <td>2015</td>\n",
       "      <td>43.0</td>\n",
       "      <td>3.813953</td>\n",
       "      <td>3.601083</td>\n",
       "    </tr>\n",
       "    <tr>\n",
       "      <th>8990</th>\n",
       "      <td>139385</td>\n",
       "      <td>The Revenant</td>\n",
       "      <td>Adventure|Drama</td>\n",
       "      <td>2015</td>\n",
       "      <td>31.0</td>\n",
       "      <td>3.903226</td>\n",
       "      <td>3.604755</td>\n",
       "    </tr>\n",
       "    <tr>\n",
       "      <th>9223</th>\n",
       "      <td>152081</td>\n",
       "      <td>Zootopia</td>\n",
       "      <td>Action|Adventure|Animation|Children|Comedy</td>\n",
       "      <td>2016</td>\n",
       "      <td>32.0</td>\n",
       "      <td>3.890625</td>\n",
       "      <td>3.602980</td>\n",
       "    </tr>\n",
       "    <tr>\n",
       "      <th>9433</th>\n",
       "      <td>166528</td>\n",
       "      <td>Rogue One: A Star Wars Story</td>\n",
       "      <td>Action|Adventure|Fantasy|Sci-Fi</td>\n",
       "      <td>2016</td>\n",
       "      <td>27.0</td>\n",
       "      <td>3.925926</td>\n",
       "      <td>3.593996</td>\n",
       "    </tr>\n",
       "  </tbody>\n",
       "</table>\n",
       "<p>976 rows × 7 columns</p>\n",
       "</div>"
      ],
      "text/plain": [
       "      movieId                         title  \\\n",
       "0           1                     Toy Story   \n",
       "1           2                       Jumanji   \n",
       "2           3              Grumpier Old Men   \n",
       "4           5   Father of the Bride Part II   \n",
       "5           6                          Heat   \n",
       "...       ...                           ...   \n",
       "8879   134130                   The Martian   \n",
       "8900   134853                    Inside Out   \n",
       "8990   139385                  The Revenant   \n",
       "9223   152081                      Zootopia   \n",
       "9433   166528  Rogue One: A Star Wars Story   \n",
       "\n",
       "                                                 genres year_released  \\\n",
       "0           Adventure|Animation|Children|Comedy|Fantasy          1995   \n",
       "1                            Adventure|Children|Fantasy          1995   \n",
       "2                                        Comedy|Romance          1995   \n",
       "4                                                Comedy          1995   \n",
       "5                                 Action|Crime|Thriller          1995   \n",
       "...                                                 ...           ...   \n",
       "8879                             Adventure|Drama|Sci-Fi          2015   \n",
       "8900  Adventure|Animation|Children|Comedy|Drama|Fantasy          2015   \n",
       "8990                                    Adventure|Drama          2015   \n",
       "9223         Action|Adventure|Animation|Children|Comedy          2016   \n",
       "9433                    Action|Adventure|Fantasy|Sci-Fi          2016   \n",
       "\n",
       "      vote_count  average_rating     score  \n",
       "0          215.0        3.920930  3.847421  \n",
       "1          110.0        3.431818  3.398364  \n",
       "2           52.0        3.259615  3.260453  \n",
       "4           49.0        3.071429  3.139155  \n",
       "5          102.0        3.946078  3.802913  \n",
       "...          ...             ...       ...  \n",
       "8879        48.0        4.000000  3.734344  \n",
       "8900        43.0        3.813953  3.601083  \n",
       "8990        31.0        3.903226  3.604755  \n",
       "9223        32.0        3.890625  3.602980  \n",
       "9433        27.0        3.925926  3.593996  \n",
       "\n",
       "[976 rows x 7 columns]"
      ]
     },
     "execution_count": 175,
     "metadata": {},
     "output_type": "execute_result"
    }
   ],
   "source": [
    "q_movies"
   ]
  },
  {
   "cell_type": "markdown",
   "id": "683f99e7",
   "metadata": {},
   "source": [
    "Saving q_movies and mvrt in a csv file to use for Streamlit later."
   ]
  },
  {
   "cell_type": "code",
   "execution_count": 210,
   "id": "38cfad69-f899-4c00-ba62-c7402b065539",
   "metadata": {},
   "outputs": [],
   "source": [
    "import os\n",
    "current_directory = os.getcwd()\n",
    "#q_movies.to_csv(current_directory + '/q_movies.csv', index=False)\n",
    "#mvrt.to_csv(current_directory + '/year.csv', index=False)"
   ]
  },
  {
   "cell_type": "code",
   "execution_count": 201,
   "id": "ccacc095-35b6-4ba7-9f74-11e515ec689f",
   "metadata": {},
   "outputs": [
    {
     "data": {
      "text/html": [
       "<div>\n",
       "<style scoped>\n",
       "    .dataframe tbody tr th:only-of-type {\n",
       "        vertical-align: middle;\n",
       "    }\n",
       "\n",
       "    .dataframe tbody tr th {\n",
       "        vertical-align: top;\n",
       "    }\n",
       "\n",
       "    .dataframe thead th {\n",
       "        text-align: right;\n",
       "    }\n",
       "</style>\n",
       "<table border=\"1\" class=\"dataframe\">\n",
       "  <thead>\n",
       "    <tr style=\"text-align: right;\">\n",
       "      <th></th>\n",
       "      <th>title</th>\n",
       "      <th>vote_count</th>\n",
       "      <th>average_rating</th>\n",
       "      <th>score</th>\n",
       "    </tr>\n",
       "  </thead>\n",
       "  <tbody>\n",
       "    <tr>\n",
       "      <th>277</th>\n",
       "      <td>Shawshank Redemption, The</td>\n",
       "      <td>317.0</td>\n",
       "      <td>4.429022</td>\n",
       "      <td>4.337430</td>\n",
       "    </tr>\n",
       "    <tr>\n",
       "      <th>659</th>\n",
       "      <td>Godfather, The</td>\n",
       "      <td>192.0</td>\n",
       "      <td>4.289062</td>\n",
       "      <td>4.162447</td>\n",
       "    </tr>\n",
       "    <tr>\n",
       "      <th>2226</th>\n",
       "      <td>Fight Club</td>\n",
       "      <td>218.0</td>\n",
       "      <td>4.272936</td>\n",
       "      <td>4.161534</td>\n",
       "    </tr>\n",
       "    <tr>\n",
       "      <th>224</th>\n",
       "      <td>Star Wars: Episode IV - A New Hope</td>\n",
       "      <td>251.0</td>\n",
       "      <td>4.231076</td>\n",
       "      <td>4.136963</td>\n",
       "    </tr>\n",
       "    <tr>\n",
       "      <th>46</th>\n",
       "      <td>Usual Suspects, The</td>\n",
       "      <td>204.0</td>\n",
       "      <td>4.237745</td>\n",
       "      <td>4.123705</td>\n",
       "    </tr>\n",
       "    <tr>\n",
       "      <th>257</th>\n",
       "      <td>Pulp Fiction</td>\n",
       "      <td>307.0</td>\n",
       "      <td>4.197068</td>\n",
       "      <td>4.121484</td>\n",
       "    </tr>\n",
       "    <tr>\n",
       "      <th>461</th>\n",
       "      <td>Schindler's List</td>\n",
       "      <td>220.0</td>\n",
       "      <td>4.225000</td>\n",
       "      <td>4.119740</td>\n",
       "    </tr>\n",
       "    <tr>\n",
       "      <th>1939</th>\n",
       "      <td>Matrix, The</td>\n",
       "      <td>278.0</td>\n",
       "      <td>4.192446</td>\n",
       "      <td>4.110085</td>\n",
       "    </tr>\n",
       "    <tr>\n",
       "      <th>898</th>\n",
       "      <td>Star Wars: Episode V - The Empire Strikes Back</td>\n",
       "      <td>211.0</td>\n",
       "      <td>4.215640</td>\n",
       "      <td>4.107461</td>\n",
       "    </tr>\n",
       "    <tr>\n",
       "      <th>314</th>\n",
       "      <td>Forrest Gump</td>\n",
       "      <td>329.0</td>\n",
       "      <td>4.164134</td>\n",
       "      <td>4.095719</td>\n",
       "    </tr>\n",
       "    <tr>\n",
       "      <th>900</th>\n",
       "      <td>Raiders of the Lost Ark (Indiana Jones and the...</td>\n",
       "      <td>200.0</td>\n",
       "      <td>4.207500</td>\n",
       "      <td>4.095048</td>\n",
       "    </tr>\n",
       "    <tr>\n",
       "      <th>6710</th>\n",
       "      <td>Dark Knight, The</td>\n",
       "      <td>149.0</td>\n",
       "      <td>4.238255</td>\n",
       "      <td>4.088499</td>\n",
       "    </tr>\n",
       "    <tr>\n",
       "      <th>922</th>\n",
       "      <td>Godfather: Part II, The</td>\n",
       "      <td>129.0</td>\n",
       "      <td>4.259690</td>\n",
       "      <td>4.087024</td>\n",
       "    </tr>\n",
       "    <tr>\n",
       "      <th>510</th>\n",
       "      <td>Silence of the Lambs, The</td>\n",
       "      <td>279.0</td>\n",
       "      <td>4.161290</td>\n",
       "      <td>4.081947</td>\n",
       "    </tr>\n",
       "    <tr>\n",
       "      <th>899</th>\n",
       "      <td>Princess Bride, The</td>\n",
       "      <td>142.0</td>\n",
       "      <td>4.232394</td>\n",
       "      <td>4.077372</td>\n",
       "    </tr>\n",
       "  </tbody>\n",
       "</table>\n",
       "</div>"
      ],
      "text/plain": [
       "                                                  title  vote_count  \\\n",
       "277                           Shawshank Redemption, The       317.0   \n",
       "659                                      Godfather, The       192.0   \n",
       "2226                                         Fight Club       218.0   \n",
       "224                  Star Wars: Episode IV - A New Hope       251.0   \n",
       "46                                  Usual Suspects, The       204.0   \n",
       "257                                        Pulp Fiction       307.0   \n",
       "461                                    Schindler's List       220.0   \n",
       "1939                                        Matrix, The       278.0   \n",
       "898      Star Wars: Episode V - The Empire Strikes Back       211.0   \n",
       "314                                        Forrest Gump       329.0   \n",
       "900   Raiders of the Lost Ark (Indiana Jones and the...       200.0   \n",
       "6710                                   Dark Knight, The       149.0   \n",
       "922                             Godfather: Part II, The       129.0   \n",
       "510                           Silence of the Lambs, The       279.0   \n",
       "899                                 Princess Bride, The       142.0   \n",
       "\n",
       "      average_rating     score  \n",
       "277         4.429022  4.337430  \n",
       "659         4.289062  4.162447  \n",
       "2226        4.272936  4.161534  \n",
       "224         4.231076  4.136963  \n",
       "46          4.237745  4.123705  \n",
       "257         4.197068  4.121484  \n",
       "461         4.225000  4.119740  \n",
       "1939        4.192446  4.110085  \n",
       "898         4.215640  4.107461  \n",
       "314         4.164134  4.095719  \n",
       "900         4.207500  4.095048  \n",
       "6710        4.238255  4.088499  \n",
       "922         4.259690  4.087024  \n",
       "510         4.161290  4.081947  \n",
       "899         4.232394  4.077372  "
      ]
     },
     "execution_count": 201,
     "metadata": {},
     "output_type": "execute_result"
    }
   ],
   "source": [
    "q_movies = q_movies.sort_values('score', ascending=False)\n",
    "\n",
    "q_movies[['title', 'vote_count', 'average_rating', 'score']].head(15)"
   ]
  },
  {
   "cell_type": "markdown",
   "id": "85e678b7",
   "metadata": {},
   "source": [
    "Printed the top 15 movies, based on score."
   ]
  },
  {
   "cell_type": "code",
   "execution_count": 178,
   "id": "2df420e0-a0ac-49f8-be14-8b8389f7fed1",
   "metadata": {},
   "outputs": [],
   "source": [
    "from sklearn.feature_extraction.text import TfidfVectorizer"
   ]
  },
  {
   "cell_type": "code",
   "execution_count": 179,
   "id": "eec7320e-8c5c-4160-bbef-b4e84fbd8f35",
   "metadata": {},
   "outputs": [
    {
     "data": {
      "text/html": [
       "<div>\n",
       "<style scoped>\n",
       "    .dataframe tbody tr th:only-of-type {\n",
       "        vertical-align: middle;\n",
       "    }\n",
       "\n",
       "    .dataframe tbody tr th {\n",
       "        vertical-align: top;\n",
       "    }\n",
       "\n",
       "    .dataframe thead th {\n",
       "        text-align: right;\n",
       "    }\n",
       "</style>\n",
       "<table border=\"1\" class=\"dataframe\">\n",
       "  <thead>\n",
       "    <tr style=\"text-align: right;\">\n",
       "      <th></th>\n",
       "      <th>movieId</th>\n",
       "      <th>title</th>\n",
       "      <th>genres</th>\n",
       "      <th>year_released</th>\n",
       "      <th>score</th>\n",
       "    </tr>\n",
       "  </thead>\n",
       "  <tbody>\n",
       "    <tr>\n",
       "      <th>0</th>\n",
       "      <td>1</td>\n",
       "      <td>Toy Story</td>\n",
       "      <td>Adventure|Animation|Children|Comedy|Fantasy</td>\n",
       "      <td>1995</td>\n",
       "      <td>3.847421</td>\n",
       "    </tr>\n",
       "    <tr>\n",
       "      <th>1</th>\n",
       "      <td>2</td>\n",
       "      <td>Jumanji</td>\n",
       "      <td>Adventure|Children|Fantasy</td>\n",
       "      <td>1995</td>\n",
       "      <td>3.398364</td>\n",
       "    </tr>\n",
       "    <tr>\n",
       "      <th>2</th>\n",
       "      <td>3</td>\n",
       "      <td>Grumpier Old Men</td>\n",
       "      <td>Comedy|Romance</td>\n",
       "      <td>1995</td>\n",
       "      <td>3.260453</td>\n",
       "    </tr>\n",
       "    <tr>\n",
       "      <th>3</th>\n",
       "      <td>4</td>\n",
       "      <td>Waiting to Exhale</td>\n",
       "      <td>Comedy|Drama|Romance</td>\n",
       "      <td>1995</td>\n",
       "      <td>NaN</td>\n",
       "    </tr>\n",
       "    <tr>\n",
       "      <th>4</th>\n",
       "      <td>5</td>\n",
       "      <td>Father of the Bride Part II</td>\n",
       "      <td>Comedy</td>\n",
       "      <td>1995</td>\n",
       "      <td>3.139155</td>\n",
       "    </tr>\n",
       "    <tr>\n",
       "      <th>...</th>\n",
       "      <td>...</td>\n",
       "      <td>...</td>\n",
       "      <td>...</td>\n",
       "      <td>...</td>\n",
       "      <td>...</td>\n",
       "    </tr>\n",
       "    <tr>\n",
       "      <th>9737</th>\n",
       "      <td>193581</td>\n",
       "      <td>Black Butler: Book of the Atlantic</td>\n",
       "      <td>Action|Animation|Comedy|Fantasy</td>\n",
       "      <td>2017</td>\n",
       "      <td>NaN</td>\n",
       "    </tr>\n",
       "    <tr>\n",
       "      <th>9738</th>\n",
       "      <td>193583</td>\n",
       "      <td>No Game No Life: Zero</td>\n",
       "      <td>Animation|Comedy|Fantasy</td>\n",
       "      <td>2017</td>\n",
       "      <td>NaN</td>\n",
       "    </tr>\n",
       "    <tr>\n",
       "      <th>9739</th>\n",
       "      <td>193585</td>\n",
       "      <td>Flint</td>\n",
       "      <td>Drama</td>\n",
       "      <td>2017</td>\n",
       "      <td>NaN</td>\n",
       "    </tr>\n",
       "    <tr>\n",
       "      <th>9740</th>\n",
       "      <td>193587</td>\n",
       "      <td>Bungo Stray Dogs: Dead Apple</td>\n",
       "      <td>Action|Animation</td>\n",
       "      <td>2018</td>\n",
       "      <td>NaN</td>\n",
       "    </tr>\n",
       "    <tr>\n",
       "      <th>9741</th>\n",
       "      <td>193609</td>\n",
       "      <td>Andrew Dice Clay: Dice Rules</td>\n",
       "      <td>Comedy</td>\n",
       "      <td>1991</td>\n",
       "      <td>NaN</td>\n",
       "    </tr>\n",
       "  </tbody>\n",
       "</table>\n",
       "<p>9742 rows × 5 columns</p>\n",
       "</div>"
      ],
      "text/plain": [
       "      movieId                               title  \\\n",
       "0           1                           Toy Story   \n",
       "1           2                             Jumanji   \n",
       "2           3                    Grumpier Old Men   \n",
       "3           4                   Waiting to Exhale   \n",
       "4           5         Father of the Bride Part II   \n",
       "...       ...                                 ...   \n",
       "9737   193581  Black Butler: Book of the Atlantic   \n",
       "9738   193583               No Game No Life: Zero   \n",
       "9739   193585                               Flint   \n",
       "9740   193587        Bungo Stray Dogs: Dead Apple   \n",
       "9741   193609        Andrew Dice Clay: Dice Rules   \n",
       "\n",
       "                                           genres year_released     score  \n",
       "0     Adventure|Animation|Children|Comedy|Fantasy          1995  3.847421  \n",
       "1                      Adventure|Children|Fantasy          1995  3.398364  \n",
       "2                                  Comedy|Romance          1995  3.260453  \n",
       "3                            Comedy|Drama|Romance          1995       NaN  \n",
       "4                                          Comedy          1995  3.139155  \n",
       "...                                           ...           ...       ...  \n",
       "9737              Action|Animation|Comedy|Fantasy          2017       NaN  \n",
       "9738                     Animation|Comedy|Fantasy          2017       NaN  \n",
       "9739                                        Drama          2017       NaN  \n",
       "9740                             Action|Animation          2018       NaN  \n",
       "9741                                       Comedy          1991       NaN  \n",
       "\n",
       "[9742 rows x 5 columns]"
      ]
     },
     "execution_count": 179,
     "metadata": {},
     "output_type": "execute_result"
    }
   ],
   "source": [
    "movies['score'] = q_movies['score']\n",
    "movies"
   ]
  },
  {
   "cell_type": "code",
   "execution_count": 180,
   "id": "2c3a6c64-2500-4ac3-b39a-f2bd87964991",
   "metadata": {},
   "outputs": [],
   "source": [
    "tfidf = TfidfVectorizer(stop_words='english')"
   ]
  },
  {
   "cell_type": "markdown",
   "id": "0eb4d9db",
   "metadata": {},
   "source": [
    "Filling everthing that is null or NaN."
   ]
  },
  {
   "cell_type": "code",
   "execution_count": 208,
   "id": "321c1ae6-f06b-40e7-a2bc-72376f3b7db6",
   "metadata": {},
   "outputs": [],
   "source": [
    "movies['genres'] = movies['genres'].fillna('')\n",
    "movies['score'] = movies['score'].fillna(0)"
   ]
  },
  {
   "cell_type": "code",
   "execution_count": 182,
   "id": "c7f1edf6-803b-4b7a-bf5d-e62cff68b657",
   "metadata": {},
   "outputs": [
    {
     "data": {
      "text/html": [
       "<div>\n",
       "<style scoped>\n",
       "    .dataframe tbody tr th:only-of-type {\n",
       "        vertical-align: middle;\n",
       "    }\n",
       "\n",
       "    .dataframe tbody tr th {\n",
       "        vertical-align: top;\n",
       "    }\n",
       "\n",
       "    .dataframe thead th {\n",
       "        text-align: right;\n",
       "    }\n",
       "</style>\n",
       "<table border=\"1\" class=\"dataframe\">\n",
       "  <thead>\n",
       "    <tr style=\"text-align: right;\">\n",
       "      <th></th>\n",
       "      <th>movieId</th>\n",
       "      <th>title</th>\n",
       "      <th>genres</th>\n",
       "      <th>year_released</th>\n",
       "      <th>score</th>\n",
       "    </tr>\n",
       "  </thead>\n",
       "  <tbody>\n",
       "    <tr>\n",
       "      <th>277</th>\n",
       "      <td>318</td>\n",
       "      <td>Shawshank Redemption, The</td>\n",
       "      <td>Crime|Drama</td>\n",
       "      <td>1994</td>\n",
       "      <td>4.33743</td>\n",
       "    </tr>\n",
       "  </tbody>\n",
       "</table>\n",
       "</div>"
      ],
      "text/plain": [
       "     movieId                      title       genres year_released    score\n",
       "277      318  Shawshank Redemption, The  Crime|Drama          1994  4.33743"
      ]
     },
     "execution_count": 182,
     "metadata": {},
     "output_type": "execute_result"
    }
   ],
   "source": [
    "movies[movies['title'] == 'Shawshank Redemption, The']"
   ]
  },
  {
   "cell_type": "code",
   "execution_count": 183,
   "id": "8d6c33bb-73c4-44e5-b61a-ec55c61b94a9",
   "metadata": {},
   "outputs": [],
   "source": [
    "#for streamlit\n",
    "#¢unique_genres_moviest.to_csv(current_directory + '/unique_genres_movies.csv', index=False)"
   ]
  },
  {
   "cell_type": "markdown",
   "id": "f6434357",
   "metadata": {},
   "source": [
    "Converting the genres into vectors."
   ]
  },
  {
   "cell_type": "code",
   "execution_count": 202,
   "id": "3f103702-8cd8-453f-9df2-85b92327ee4a",
   "metadata": {},
   "outputs": [],
   "source": [
    "tfidf_matrix = tfidf.fit_transform(movies['genres'])"
   ]
  },
  {
   "cell_type": "code",
   "execution_count": 185,
   "id": "725bf653-5a0c-4b89-98fe-254c76062b9d",
   "metadata": {},
   "outputs": [
    {
     "data": {
      "text/plain": [
       "(9742, 23)"
      ]
     },
     "execution_count": 185,
     "metadata": {},
     "output_type": "execute_result"
    }
   ],
   "source": [
    "tfidf_matrix.shape"
   ]
  },
  {
   "cell_type": "code",
   "execution_count": 186,
   "id": "8834bc8c-fe9a-4e74-80b1-022b9a21e826",
   "metadata": {},
   "outputs": [
    {
     "data": {
      "text/plain": [
       "(9742, 9742)"
      ]
     },
     "execution_count": 186,
     "metadata": {},
     "output_type": "execute_result"
    }
   ],
   "source": [
    "from sklearn.metrics.pairwise import linear_kernel\n",
    "\n",
    "# Compute the cosine similarity matrix for each vs each genre\n",
    "cosine_sim = linear_kernel(tfidf_matrix, tfidf_matrix)\n",
    "cosine_sim.shape"
   ]
  },
  {
   "cell_type": "code",
   "execution_count": 187,
   "id": "61181290-74ca-4224-8ea2-cb3129e3035e",
   "metadata": {},
   "outputs": [
    {
     "name": "stdout",
     "output_type": "stream",
     "text": [
      "[[1.         0.81357774 0.15276924 ... 0.         0.4210373  0.26758648]\n",
      " [0.81357774 1.         0.         ... 0.         0.         0.        ]\n",
      " [0.15276924 0.         1.         ... 0.         0.         0.57091541]\n",
      " ...\n",
      " [0.         0.         0.         ... 1.         0.         0.        ]\n",
      " [0.4210373  0.         0.         ... 0.         1.         0.        ]\n",
      " [0.26758648 0.         0.57091541 ... 0.         0.         1.        ]]\n"
     ]
    }
   ],
   "source": [
    "#see the cosine matrix (or some of it)\n",
    "print(cosine_sim)"
   ]
  },
  {
   "cell_type": "code",
   "execution_count": 188,
   "id": "70d79b5d-1954-44ea-94d4-5266bfab19c4",
   "metadata": {},
   "outputs": [
    {
     "data": {
      "text/plain": [
       "genres\n",
       "Adventure|Animation|Children|Comedy|Fantasy       0\n",
       "Adventure|Children|Fantasy                        1\n",
       "Comedy|Romance                                    2\n",
       "Comedy|Drama|Romance                              3\n",
       "Comedy                                            4\n",
       "                                               ... \n",
       "Action|Animation|Comedy|Fantasy                9737\n",
       "Animation|Comedy|Fantasy                       9738\n",
       "Drama                                          9739\n",
       "Action|Animation                               9740\n",
       "Comedy                                         9741\n",
       "Length: 9742, dtype: int64"
      ]
     },
     "execution_count": 188,
     "metadata": {},
     "output_type": "execute_result"
    }
   ],
   "source": [
    "indices = pd.Series(movies.index, index=movies['genres']).drop_duplicates()\n",
    "indices"
   ]
  },
  {
   "cell_type": "code",
   "execution_count": 189,
   "id": "708ee7e8-5bed-4ab1-9187-504b99ddd0aa",
   "metadata": {},
   "outputs": [],
   "source": [
    "def get_recommendations(genre, cosine_sim=cosine_sim):\n",
    "        # Get the indices of movies with the specified genre\n",
    "        genre_list = genre.split('|')\n",
    "        sorted_genre_list = sorted(genre_list)\n",
    "        separator = '|'\n",
    "        genre = separator.join(sorted_genre_list)\n",
    "        genre_indices = indices[genre]\n",
    "\n",
    "        # Initialize an empty list to store similarity scores\n",
    "        sim_scores = []\n",
    "\n",
    "        # Iterate over the genre indices and get the cosine similarity scores\n",
    "        for idx in genre_indices:\n",
    "            sim_scores.extend(list(enumerate(cosine_sim[idx])))\n",
    "\n",
    "        # Sort the movies based on the similarity scores\n",
    "        sim_scores = sorted(sim_scores, key=lambda x: x[1], reverse=True)\n",
    "\n",
    "        # Get the scores of the 10 most similar movies\n",
    "        sim_scores = sim_scores[1:10]\n",
    "\n",
    "        # Get the movie indices\n",
    "        movie_indices = [i[0] for i in sim_scores]\n",
    "\n",
    "        # Return the top 10 most similar movies\n",
    "        genre_list = genre.split('|')\n",
    "        movies_with_score = movies[['title', 'genres', 'score']].iloc[movie_indices]\n",
    "        sorted_genre_list = sorted(genre_list)\n",
    "        filtered_movies = movies[(movies['score'] > 0) & movies['genres'].apply(lambda x: all(genre in x for genre in sorted_genre_list))]\n",
    "        sorted_movies = filtered_movies.sort_values(by='score', ascending=False)\n",
    "        return sorted_movies.drop_duplicates(subset='title').head(5)"
   ]
  },
  {
   "cell_type": "code",
   "execution_count": 190,
   "id": "4bed1402-2a0b-4efe-aa80-5fb5eb2e6969",
   "metadata": {},
   "outputs": [
    {
     "data": {
      "text/html": [
       "<div>\n",
       "<style scoped>\n",
       "    .dataframe tbody tr th:only-of-type {\n",
       "        vertical-align: middle;\n",
       "    }\n",
       "\n",
       "    .dataframe tbody tr th {\n",
       "        vertical-align: top;\n",
       "    }\n",
       "\n",
       "    .dataframe thead th {\n",
       "        text-align: right;\n",
       "    }\n",
       "</style>\n",
       "<table border=\"1\" class=\"dataframe\">\n",
       "  <thead>\n",
       "    <tr style=\"text-align: right;\">\n",
       "      <th></th>\n",
       "      <th>movieId</th>\n",
       "      <th>title</th>\n",
       "      <th>genres</th>\n",
       "      <th>year_released</th>\n",
       "      <th>score</th>\n",
       "    </tr>\n",
       "  </thead>\n",
       "  <tbody>\n",
       "    <tr>\n",
       "      <th>951</th>\n",
       "      <td>1252</td>\n",
       "      <td>Chinatown</td>\n",
       "      <td>Crime|Film-Noir|Mystery|Thriller</td>\n",
       "      <td>1974</td>\n",
       "      <td>3.913672</td>\n",
       "    </tr>\n",
       "    <tr>\n",
       "      <th>1218</th>\n",
       "      <td>1617</td>\n",
       "      <td>L.A. Confidential</td>\n",
       "      <td>Crime|Film-Noir|Mystery|Thriller</td>\n",
       "      <td>1997</td>\n",
       "      <td>3.887708</td>\n",
       "    </tr>\n",
       "    <tr>\n",
       "      <th>695</th>\n",
       "      <td>913</td>\n",
       "      <td>Maltese Falcon, The</td>\n",
       "      <td>Film-Noir|Mystery</td>\n",
       "      <td>1941</td>\n",
       "      <td>3.825011</td>\n",
       "    </tr>\n",
       "    <tr>\n",
       "      <th>704</th>\n",
       "      <td>922</td>\n",
       "      <td>Sunset Blvd. (a.k.a. Sunset Boulevard)</td>\n",
       "      <td>Drama|Film-Noir|Romance</td>\n",
       "      <td>1950</td>\n",
       "      <td>3.797700</td>\n",
       "    </tr>\n",
       "    <tr>\n",
       "      <th>5850</th>\n",
       "      <td>32587</td>\n",
       "      <td>Sin City</td>\n",
       "      <td>Action|Crime|Film-Noir|Mystery|Thriller</td>\n",
       "      <td>2005</td>\n",
       "      <td>3.712395</td>\n",
       "    </tr>\n",
       "  </tbody>\n",
       "</table>\n",
       "</div>"
      ],
      "text/plain": [
       "      movieId                                   title  \\\n",
       "951      1252                               Chinatown   \n",
       "1218     1617                       L.A. Confidential   \n",
       "695       913                     Maltese Falcon, The   \n",
       "704       922  Sunset Blvd. (a.k.a. Sunset Boulevard)   \n",
       "5850    32587                                Sin City   \n",
       "\n",
       "                                       genres year_released     score  \n",
       "951          Crime|Film-Noir|Mystery|Thriller          1974  3.913672  \n",
       "1218         Crime|Film-Noir|Mystery|Thriller          1997  3.887708  \n",
       "695                         Film-Noir|Mystery          1941  3.825011  \n",
       "704                   Drama|Film-Noir|Romance          1950  3.797700  \n",
       "5850  Action|Crime|Film-Noir|Mystery|Thriller          2005  3.712395  "
      ]
     },
     "execution_count": 190,
     "metadata": {},
     "output_type": "execute_result"
    }
   ],
   "source": [
    "get_recommendations('Film-Noir')"
   ]
  },
  {
   "cell_type": "code",
   "execution_count": null,
   "id": "8ba9c2ef-9b2b-48bf-8d8c-7aa702b49f1e",
   "metadata": {},
   "outputs": [],
   "source": []
  },
  {
   "cell_type": "code",
   "execution_count": 191,
   "id": "4f5abf65-6bb8-4979-81f1-f9461aca878e",
   "metadata": {},
   "outputs": [],
   "source": [
    "from sklearn.metrics.pairwise import cosine_similarity\n",
    "from sklearn.model_selection import train_test_split\n",
    "from scipy.sparse import coo_matrix\n",
    "from sklearn.metrics import mean_squared_error\n",
    "import seaborn as sns"
   ]
  },
  {
   "cell_type": "code",
   "execution_count": 192,
   "id": "089db2c8-95c0-4753-bdd7-1c9cdd6d1638",
   "metadata": {},
   "outputs": [
    {
     "name": "stdout",
     "output_type": "stream",
     "text": [
      "(100789, 8)\n",
      "userId\n",
      "414    2696\n",
      "599    2474\n",
      "474    2108\n",
      "448    1862\n",
      "274    1346\n",
      "       ... \n",
      "442      20\n",
      "569      20\n",
      "320      20\n",
      "576      20\n",
      "53       20\n",
      "Name: count, Length: 610, dtype: int64\n",
      "(99419, 8)\n",
      "<class 'pandas.core.frame.DataFrame'>\n",
      "Index: 99419 entries, 0 to 100788\n",
      "Data columns (total 8 columns):\n",
      " #   Column         Non-Null Count  Dtype  \n",
      "---  ------         --------------  -----  \n",
      " 0   userId         99419 non-null  int64  \n",
      " 1   movieId        99419 non-null  int64  \n",
      " 2   rating         99419 non-null  float64\n",
      " 3   title          99419 non-null  object \n",
      " 4   genres         99419 non-null  object \n",
      " 5   year_released  99419 non-null  int64  \n",
      " 6   decade         99419 non-null  int64  \n",
      " 7   vote_count     99419 non-null  int64  \n",
      "dtypes: float64(1), int64(5), object(2)\n",
      "memory usage: 6.8+ MB\n",
      "None\n",
      "Number of unique user IDs: 547\n"
     ]
    }
   ],
   "source": [
    "# Split the data into train and test sets, and then use only the train set\n",
    "mvrt_train=mvrt\n",
    "print(mvrt_train.shape)\n",
    "# Count the number of ratings per user\n",
    "user_rating_counts = mvrt_train['userId'].value_counts()\n",
    "print(user_rating_counts)\n",
    "\n",
    "# Filter out users with less than 10 ratings\n",
    "valid_users = user_rating_counts[user_rating_counts >= 25].index\n",
    "\n",
    "# Filter the original dataframe to keep only the ratings from valid users\n",
    "mvrt_filtered = mvrt_train[mvrt_train['userId'].isin(valid_users)]\n",
    "\n",
    "print(mvrt_filtered.shape)\n",
    "num_unique_users = mvrt_filtered['userId'].nunique()\n",
    "print(mvrt_filtered.info())\n",
    "\n",
    "print(\"Number of unique user IDs:\", num_unique_users)"
   ]
  },
  {
   "cell_type": "code",
   "execution_count": 193,
   "id": "9e95ed4f-5d71-45c2-9f53-91e84733b1a0",
   "metadata": {},
   "outputs": [
    {
     "name": "stdout",
     "output_type": "stream",
     "text": [
      "(100789, 8)\n"
     ]
    },
    {
     "data": {
      "image/png": "[encoded data removed]",
      "text/plain": [
       "<Figure size 1000x800 with 2 Axes>"
      ]
     },
     "metadata": {},
     "output_type": "display_data"
    }
   ],
   "source": [
    "# Pivot the data to create a user-item matrix\n",
    "user_movie_matrix = mvrt_filtered.pivot_table(index='userId', columns='movieId', values='rating', fill_value=0)\n",
    "\n",
    "# Convert the DataFrame to a numpy array\n",
    "user_movie_array = user_movie_matrix.to_numpy()\n",
    "\n",
    "train_data, test_data = train_test_split(user_movie_array, test_size=0.3, random_state=42)\n",
    "\n",
    "data = train_data\n",
    "\n",
    "print(mvrt.shape)\n",
    "class CollaborativeFilteringRecommender:\n",
    "    def __init__(self, n_neighbors=5):\n",
    "        self.n_neighbors = n_neighbors\n",
    "        self.user_similarity = None\n",
    "\n",
    "    def fit(self, train_data):\n",
    "        # Compute user-user similarity matrix using cosine similarity\n",
    "        self.user_similarity = cosine_similarity(train_data)\n",
    "        plt.figure(figsize=(10, 8))\n",
    "        sns.heatmap(self.user_similarity, cmap=\"YlGnBu\", annot=True, fmt=\".2f\", linewidths=.5)\n",
    "        # Set plot labels and title\n",
    "        plt.xlabel(\"User ID\")\n",
    "        plt.ylabel(\"User ID\")\n",
    "        plt.title(\"User-User Similarity Matrix\")\n",
    "\n",
    "        # Display the plot\n",
    "        plt.show()\n",
    "\n",
    "    def predict(self, user_indices, train_data):\n",
    "        # Compute weighted average of ratings from similar users for each user index\n",
    "        recommendations = []\n",
    "        for user_index in user_indices:\n",
    "            user_sim_scores = self.user_similarity[user_index]\n",
    "            top_sim_users = np.argsort(user_sim_scores)[-self.n_neighbors - 1:-1]  # Exclude the user itself\n",
    "\n",
    "            user_ratings = train_data[top_sim_users, :]\n",
    "            user_sim_scores = user_sim_scores[top_sim_users]\n",
    "\n",
    "            # Weighted average of ratings from similar users\n",
    "            pred_ratings = np.dot(user_sim_scores, user_ratings) / np.sum(user_sim_scores)\n",
    "            recommendations.append(pred_ratings)\n",
    "\n",
    "        return recommendations\n",
    "\n",
    "# Instantiate the recommender system\n",
    "recommender = CollaborativeFilteringRecommender(n_neighbors=60)\n",
    "\n",
    "# Train the recommender system\n",
    "recommender.fit(data)\n",
    "\n",
    "# Make recommendations for specified user indices\n",
    "user_indices = [4,8]\n",
    "recommendations = recommender.predict(user_indices, data)"
   ]
  },
  {
   "cell_type": "markdown",
   "id": "0e499e0b",
   "metadata": {},
   "source": [
    "Printing the titles of 3 movies the user likes and 3 recommended movies."
   ]
  },
  {
   "cell_type": "code",
   "execution_count": 209,
   "id": "2da9fc9b-648a-499d-9fe7-a59880f67f92",
   "metadata": {},
   "outputs": [
    {
     "name": "stdout",
     "output_type": "stream",
     "text": [
      "User 4:\n",
      "     Known positives:\n",
      "             Flirting With Disaster\n",
      "             Crumb\n",
      "             Living in Oblivion\n",
      "     Recommended:\n",
      "             Fast Times at Ridgemont High (Predicted Rating: 3.97)\n",
      "             Ex Machina (Predicted Rating: 3.94)\n",
      "             Four Weddings and a Funeral (Predicted Rating: 3.91)\n",
      "User 8:\n",
      "     Known positives:\n",
      "             Babe\n",
      "             Usual Suspects, The\n",
      "             Net, The\n",
      "     Recommended:\n",
      "             Ex Machina (Predicted Rating: 4.11)\n",
      "             Winnie the Pooh and the Honey Tree (Predicted Rating: 4.10)\n",
      "             Four Weddings and a Funeral (Predicted Rating: 3.98)\n",
      "Mean Squared Error: 0.27331137799514815\n"
     ]
    }
   ],
   "source": [
    "for i, user_index in enumerate(user_indices):\n",
    "    print(f\"User {user_index}:\")\n",
    "    print(\"     Known positives:\")\n",
    "    known_positives = mvrt[(mvrt['userId'] == user_index) & (mvrt['rating'] > 4)].nlargest(3, 'rating')\n",
    "    for _, row in known_positives.iterrows():\n",
    "        print(\"             %s\" % row['title'])\n",
    "    \n",
    "    print(\"     Recommended:\")\n",
    "    for item_index in recommendations[i].argsort()[-3:][::-1]:\n",
    "        movie_id = mvrt['movieId'].unique()[item_index]\n",
    "        movie_title = mvrt[mvrt['movieId'] == movie_id]['title'].iloc[0]\n",
    "        pred_rating = recommendations[i][item_index]  # Predicted rating for the recommended movie\n",
    "        print(\"             %s (Predicted Rating: %.2f)\" % (movie_title, pred_rating))\n",
    "\n",
    "# Make predictions for the test set\n",
    "test_predictions = recommender.predict(range(len(test_data)), train_data)\n",
    "\n",
    "# Calculate mean squared error\n",
    "mse = mean_squared_error(test_data, test_predictions)\n",
    "print(\"Mean Squared Error:\", mse)"
   ]
  },
  {
   "cell_type": "code",
   "execution_count": 195,
   "id": "4c76b35c-6963-40b1-be4f-5f776777cb51",
   "metadata": {},
   "outputs": [
    {
     "data": {
      "image/png": "[encoded data removed]",
      "text/plain": [
       "<Figure size 640x480 with 1 Axes>"
      ]
     },
     "metadata": {},
     "output_type": "display_data"
    },
    {
     "ename": "KeyboardInterrupt",
     "evalue": "",
     "output_type": "error",
     "traceback": [
      "\u001b[1;31m---------------------------------------------------------------------------\u001b[0m",
      "\u001b[1;31mKeyboardInterrupt\u001b[0m                         Traceback (most recent call last)",
      "Cell \u001b[1;32mIn[195], line 10\u001b[0m\n\u001b[0;32m      8\u001b[0m ax\u001b[38;5;241m.\u001b[39mset_xticks(\u001b[38;5;28mrange\u001b[39m(\u001b[38;5;28mlen\u001b[39m(recommendations[i])))\n\u001b[0;32m      9\u001b[0m ax\u001b[38;5;241m.\u001b[39mset_xticklabels([\u001b[38;5;124mf\u001b[39m\u001b[38;5;124m'\u001b[39m\u001b[38;5;124mMovie \u001b[39m\u001b[38;5;132;01m{\u001b[39;00mj\u001b[38;5;132;01m}\u001b[39;00m\u001b[38;5;124m'\u001b[39m \u001b[38;5;28;01mfor\u001b[39;00m j \u001b[38;5;129;01min\u001b[39;00m \u001b[38;5;28mrange\u001b[39m(\u001b[38;5;241m1\u001b[39m, \u001b[38;5;28mlen\u001b[39m(recommendations[i]) \u001b[38;5;241m+\u001b[39m \u001b[38;5;241m1\u001b[39m)], rotation\u001b[38;5;241m=\u001b[39m\u001b[38;5;241m45\u001b[39m)\n\u001b[1;32m---> 10\u001b[0m \u001b[43mplt\u001b[49m\u001b[38;5;241;43m.\u001b[39;49m\u001b[43mshow\u001b[49m\u001b[43m(\u001b[49m\u001b[43m)\u001b[49m\n",
      "File \u001b[1;32m~\\AppData\\Local\\Packages\\PythonSoftwareFoundation.Python.3.11_qbz5n2kfra8p0\\LocalCache\\local-packages\\Python311\\site-packages\\matplotlib\\pyplot.py:527\u001b[0m, in \u001b[0;36mshow\u001b[1;34m(*args, **kwargs)\u001b[0m\n\u001b[0;32m    483\u001b[0m \u001b[38;5;250m\u001b[39m\u001b[38;5;124;03m\"\"\"\u001b[39;00m\n\u001b[0;32m    484\u001b[0m \u001b[38;5;124;03mDisplay all open figures.\u001b[39;00m\n\u001b[0;32m    485\u001b[0m \n\u001b[1;32m   (...)\u001b[0m\n\u001b[0;32m    524\u001b[0m \u001b[38;5;124;03mexplicitly there.\u001b[39;00m\n\u001b[0;32m    525\u001b[0m \u001b[38;5;124;03m\"\"\"\u001b[39;00m\n\u001b[0;32m    526\u001b[0m _warn_if_gui_out_of_main_thread()\n\u001b[1;32m--> 527\u001b[0m \u001b[38;5;28;01mreturn\u001b[39;00m \u001b[43m_get_backend_mod\u001b[49m\u001b[43m(\u001b[49m\u001b[43m)\u001b[49m\u001b[38;5;241;43m.\u001b[39;49m\u001b[43mshow\u001b[49m\u001b[43m(\u001b[49m\u001b[38;5;241;43m*\u001b[39;49m\u001b[43margs\u001b[49m\u001b[43m,\u001b[49m\u001b[43m \u001b[49m\u001b[38;5;241;43m*\u001b[39;49m\u001b[38;5;241;43m*\u001b[39;49m\u001b[43mkwargs\u001b[49m\u001b[43m)\u001b[49m\n",
      "File \u001b[1;32m~\\AppData\\Local\\Packages\\PythonSoftwareFoundation.Python.3.11_qbz5n2kfra8p0\\LocalCache\\local-packages\\Python311\\site-packages\\matplotlib_inline\\backend_inline.py:90\u001b[0m, in \u001b[0;36mshow\u001b[1;34m(close, block)\u001b[0m\n\u001b[0;32m     88\u001b[0m \u001b[38;5;28;01mtry\u001b[39;00m:\n\u001b[0;32m     89\u001b[0m     \u001b[38;5;28;01mfor\u001b[39;00m figure_manager \u001b[38;5;129;01min\u001b[39;00m Gcf\u001b[38;5;241m.\u001b[39mget_all_fig_managers():\n\u001b[1;32m---> 90\u001b[0m         \u001b[43mdisplay\u001b[49m\u001b[43m(\u001b[49m\n\u001b[0;32m     91\u001b[0m \u001b[43m            \u001b[49m\u001b[43mfigure_manager\u001b[49m\u001b[38;5;241;43m.\u001b[39;49m\u001b[43mcanvas\u001b[49m\u001b[38;5;241;43m.\u001b[39;49m\u001b[43mfigure\u001b[49m\u001b[43m,\u001b[49m\n\u001b[0;32m     92\u001b[0m \u001b[43m            \u001b[49m\u001b[43mmetadata\u001b[49m\u001b[38;5;241;43m=\u001b[39;49m\u001b[43m_fetch_figure_metadata\u001b[49m\u001b[43m(\u001b[49m\u001b[43mfigure_manager\u001b[49m\u001b[38;5;241;43m.\u001b[39;49m\u001b[43mcanvas\u001b[49m\u001b[38;5;241;43m.\u001b[39;49m\u001b[43mfigure\u001b[49m\u001b[43m)\u001b[49m\n\u001b[0;32m     93\u001b[0m \u001b[43m        \u001b[49m\u001b[43m)\u001b[49m\n\u001b[0;32m     94\u001b[0m \u001b[38;5;28;01mfinally\u001b[39;00m:\n\u001b[0;32m     95\u001b[0m     show\u001b[38;5;241m.\u001b[39m_to_draw \u001b[38;5;241m=\u001b[39m []\n",
      "File \u001b[1;32m~\\AppData\\Local\\Packages\\PythonSoftwareFoundation.Python.3.11_qbz5n2kfra8p0\\LocalCache\\local-packages\\Python311\\site-packages\\IPython\\core\\display_functions.py:298\u001b[0m, in \u001b[0;36mdisplay\u001b[1;34m(include, exclude, metadata, transient, display_id, raw, clear, *objs, **kwargs)\u001b[0m\n\u001b[0;32m    296\u001b[0m     publish_display_data(data\u001b[38;5;241m=\u001b[39mobj, metadata\u001b[38;5;241m=\u001b[39mmetadata, \u001b[38;5;241m*\u001b[39m\u001b[38;5;241m*\u001b[39mkwargs)\n\u001b[0;32m    297\u001b[0m \u001b[38;5;28;01melse\u001b[39;00m:\n\u001b[1;32m--> 298\u001b[0m     format_dict, md_dict \u001b[38;5;241m=\u001b[39m \u001b[38;5;28;43mformat\u001b[39;49m\u001b[43m(\u001b[49m\u001b[43mobj\u001b[49m\u001b[43m,\u001b[49m\u001b[43m \u001b[49m\u001b[43minclude\u001b[49m\u001b[38;5;241;43m=\u001b[39;49m\u001b[43minclude\u001b[49m\u001b[43m,\u001b[49m\u001b[43m \u001b[49m\u001b[43mexclude\u001b[49m\u001b[38;5;241;43m=\u001b[39;49m\u001b[43mexclude\u001b[49m\u001b[43m)\u001b[49m\n\u001b[0;32m    299\u001b[0m     \u001b[38;5;28;01mif\u001b[39;00m \u001b[38;5;129;01mnot\u001b[39;00m format_dict:\n\u001b[0;32m    300\u001b[0m         \u001b[38;5;66;03m# nothing to display (e.g. _ipython_display_ took over)\u001b[39;00m\n\u001b[0;32m    301\u001b[0m         \u001b[38;5;28;01mcontinue\u001b[39;00m\n",
      "File \u001b[1;32m~\\AppData\\Local\\Packages\\PythonSoftwareFoundation.Python.3.11_qbz5n2kfra8p0\\LocalCache\\local-packages\\Python311\\site-packages\\IPython\\core\\formatters.py:182\u001b[0m, in \u001b[0;36mDisplayFormatter.format\u001b[1;34m(self, obj, include, exclude)\u001b[0m\n\u001b[0;32m    180\u001b[0m md \u001b[38;5;241m=\u001b[39m \u001b[38;5;28;01mNone\u001b[39;00m\n\u001b[0;32m    181\u001b[0m \u001b[38;5;28;01mtry\u001b[39;00m:\n\u001b[1;32m--> 182\u001b[0m     data \u001b[38;5;241m=\u001b[39m \u001b[43mformatter\u001b[49m\u001b[43m(\u001b[49m\u001b[43mobj\u001b[49m\u001b[43m)\u001b[49m\n\u001b[0;32m    183\u001b[0m \u001b[38;5;28;01mexcept\u001b[39;00m:\n\u001b[0;32m    184\u001b[0m     \u001b[38;5;66;03m# FIXME: log the exception\u001b[39;00m\n\u001b[0;32m    185\u001b[0m     \u001b[38;5;28;01mraise\u001b[39;00m\n",
      "File \u001b[1;32m~\\AppData\\Local\\Packages\\PythonSoftwareFoundation.Python.3.11_qbz5n2kfra8p0\\LocalCache\\local-packages\\Python311\\site-packages\\decorator.py:232\u001b[0m, in \u001b[0;36mdecorate.<locals>.fun\u001b[1;34m(*args, **kw)\u001b[0m\n\u001b[0;32m    230\u001b[0m \u001b[38;5;28;01mif\u001b[39;00m \u001b[38;5;129;01mnot\u001b[39;00m kwsyntax:\n\u001b[0;32m    231\u001b[0m     args, kw \u001b[38;5;241m=\u001b[39m fix(args, kw, sig)\n\u001b[1;32m--> 232\u001b[0m \u001b[38;5;28;01mreturn\u001b[39;00m \u001b[43mcaller\u001b[49m\u001b[43m(\u001b[49m\u001b[43mfunc\u001b[49m\u001b[43m,\u001b[49m\u001b[43m \u001b[49m\u001b[38;5;241;43m*\u001b[39;49m\u001b[43m(\u001b[49m\u001b[43mextras\u001b[49m\u001b[43m \u001b[49m\u001b[38;5;241;43m+\u001b[39;49m\u001b[43m \u001b[49m\u001b[43margs\u001b[49m\u001b[43m)\u001b[49m\u001b[43m,\u001b[49m\u001b[43m \u001b[49m\u001b[38;5;241;43m*\u001b[39;49m\u001b[38;5;241;43m*\u001b[39;49m\u001b[43mkw\u001b[49m\u001b[43m)\u001b[49m\n",
      "File \u001b[1;32m~\\AppData\\Local\\Packages\\PythonSoftwareFoundation.Python.3.11_qbz5n2kfra8p0\\LocalCache\\local-packages\\Python311\\site-packages\\IPython\\core\\formatters.py:226\u001b[0m, in \u001b[0;36mcatch_format_error\u001b[1;34m(method, self, *args, **kwargs)\u001b[0m\n\u001b[0;32m    224\u001b[0m \u001b[38;5;250m\u001b[39m\u001b[38;5;124;03m\"\"\"show traceback on failed format call\"\"\"\u001b[39;00m\n\u001b[0;32m    225\u001b[0m \u001b[38;5;28;01mtry\u001b[39;00m:\n\u001b[1;32m--> 226\u001b[0m     r \u001b[38;5;241m=\u001b[39m \u001b[43mmethod\u001b[49m\u001b[43m(\u001b[49m\u001b[38;5;28;43mself\u001b[39;49m\u001b[43m,\u001b[49m\u001b[43m \u001b[49m\u001b[38;5;241;43m*\u001b[39;49m\u001b[43margs\u001b[49m\u001b[43m,\u001b[49m\u001b[43m \u001b[49m\u001b[38;5;241;43m*\u001b[39;49m\u001b[38;5;241;43m*\u001b[39;49m\u001b[43mkwargs\u001b[49m\u001b[43m)\u001b[49m\n\u001b[0;32m    227\u001b[0m \u001b[38;5;28;01mexcept\u001b[39;00m \u001b[38;5;167;01mNotImplementedError\u001b[39;00m:\n\u001b[0;32m    228\u001b[0m     \u001b[38;5;66;03m# don't warn on NotImplementedErrors\u001b[39;00m\n\u001b[0;32m    229\u001b[0m     \u001b[38;5;28;01mreturn\u001b[39;00m \u001b[38;5;28mself\u001b[39m\u001b[38;5;241m.\u001b[39m_check_return(\u001b[38;5;28;01mNone\u001b[39;00m, args[\u001b[38;5;241m0\u001b[39m])\n",
      "File \u001b[1;32m~\\AppData\\Local\\Packages\\PythonSoftwareFoundation.Python.3.11_qbz5n2kfra8p0\\LocalCache\\local-packages\\Python311\\site-packages\\IPython\\core\\formatters.py:343\u001b[0m, in \u001b[0;36mBaseFormatter.__call__\u001b[1;34m(self, obj)\u001b[0m\n\u001b[0;32m    341\u001b[0m     \u001b[38;5;28;01mpass\u001b[39;00m\n\u001b[0;32m    342\u001b[0m \u001b[38;5;28;01melse\u001b[39;00m:\n\u001b[1;32m--> 343\u001b[0m     \u001b[38;5;28;01mreturn\u001b[39;00m \u001b[43mprinter\u001b[49m\u001b[43m(\u001b[49m\u001b[43mobj\u001b[49m\u001b[43m)\u001b[49m\n\u001b[0;32m    344\u001b[0m \u001b[38;5;66;03m# Finally look for special method names\u001b[39;00m\n\u001b[0;32m    345\u001b[0m method \u001b[38;5;241m=\u001b[39m get_real_method(obj, \u001b[38;5;28mself\u001b[39m\u001b[38;5;241m.\u001b[39mprint_method)\n",
      "File \u001b[1;32m~\\AppData\\Local\\Packages\\PythonSoftwareFoundation.Python.3.11_qbz5n2kfra8p0\\LocalCache\\local-packages\\Python311\\site-packages\\IPython\\core\\pylabtools.py:152\u001b[0m, in \u001b[0;36mprint_figure\u001b[1;34m(fig, fmt, bbox_inches, base64, **kwargs)\u001b[0m\n\u001b[0;32m    149\u001b[0m     \u001b[38;5;28;01mfrom\u001b[39;00m \u001b[38;5;21;01mmatplotlib\u001b[39;00m\u001b[38;5;21;01m.\u001b[39;00m\u001b[38;5;21;01mbackend_bases\u001b[39;00m \u001b[38;5;28;01mimport\u001b[39;00m FigureCanvasBase\n\u001b[0;32m    150\u001b[0m     FigureCanvasBase(fig)\n\u001b[1;32m--> 152\u001b[0m \u001b[43mfig\u001b[49m\u001b[38;5;241;43m.\u001b[39;49m\u001b[43mcanvas\u001b[49m\u001b[38;5;241;43m.\u001b[39;49m\u001b[43mprint_figure\u001b[49m\u001b[43m(\u001b[49m\u001b[43mbytes_io\u001b[49m\u001b[43m,\u001b[49m\u001b[43m \u001b[49m\u001b[38;5;241;43m*\u001b[39;49m\u001b[38;5;241;43m*\u001b[39;49m\u001b[43mkw\u001b[49m\u001b[43m)\u001b[49m\n\u001b[0;32m    153\u001b[0m data \u001b[38;5;241m=\u001b[39m bytes_io\u001b[38;5;241m.\u001b[39mgetvalue()\n\u001b[0;32m    154\u001b[0m \u001b[38;5;28;01mif\u001b[39;00m fmt \u001b[38;5;241m==\u001b[39m \u001b[38;5;124m'\u001b[39m\u001b[38;5;124msvg\u001b[39m\u001b[38;5;124m'\u001b[39m:\n",
      "File \u001b[1;32m~\\AppData\\Local\\Packages\\PythonSoftwareFoundation.Python.3.11_qbz5n2kfra8p0\\LocalCache\\local-packages\\Python311\\site-packages\\matplotlib\\backend_bases.py:2167\u001b[0m, in \u001b[0;36mFigureCanvasBase.print_figure\u001b[1;34m(self, filename, dpi, facecolor, edgecolor, orientation, format, bbox_inches, pad_inches, bbox_extra_artists, backend, **kwargs)\u001b[0m\n\u001b[0;32m   2165\u001b[0m \u001b[38;5;28;01mif\u001b[39;00m bbox_inches:\n\u001b[0;32m   2166\u001b[0m     \u001b[38;5;28;01mif\u001b[39;00m bbox_inches \u001b[38;5;241m==\u001b[39m \u001b[38;5;124m\"\u001b[39m\u001b[38;5;124mtight\u001b[39m\u001b[38;5;124m\"\u001b[39m:\n\u001b[1;32m-> 2167\u001b[0m         bbox_inches \u001b[38;5;241m=\u001b[39m \u001b[38;5;28;43mself\u001b[39;49m\u001b[38;5;241;43m.\u001b[39;49m\u001b[43mfigure\u001b[49m\u001b[38;5;241;43m.\u001b[39;49m\u001b[43mget_tightbbox\u001b[49m\u001b[43m(\u001b[49m\n\u001b[0;32m   2168\u001b[0m \u001b[43m            \u001b[49m\u001b[43mrenderer\u001b[49m\u001b[43m,\u001b[49m\u001b[43m \u001b[49m\u001b[43mbbox_extra_artists\u001b[49m\u001b[38;5;241;43m=\u001b[39;49m\u001b[43mbbox_extra_artists\u001b[49m\u001b[43m)\u001b[49m\n\u001b[0;32m   2169\u001b[0m         \u001b[38;5;28;01mif\u001b[39;00m (\u001b[38;5;28misinstance\u001b[39m(layout_engine, ConstrainedLayoutEngine) \u001b[38;5;129;01mand\u001b[39;00m\n\u001b[0;32m   2170\u001b[0m                 pad_inches \u001b[38;5;241m==\u001b[39m \u001b[38;5;124m\"\u001b[39m\u001b[38;5;124mlayout\u001b[39m\u001b[38;5;124m\"\u001b[39m):\n\u001b[0;32m   2171\u001b[0m             h_pad \u001b[38;5;241m=\u001b[39m layout_engine\u001b[38;5;241m.\u001b[39mget()[\u001b[38;5;124m\"\u001b[39m\u001b[38;5;124mh_pad\u001b[39m\u001b[38;5;124m\"\u001b[39m]\n",
      "File \u001b[1;32m~\\AppData\\Local\\Packages\\PythonSoftwareFoundation.Python.3.11_qbz5n2kfra8p0\\LocalCache\\local-packages\\Python311\\site-packages\\matplotlib\\_api\\deprecation.py:454\u001b[0m, in \u001b[0;36mmake_keyword_only.<locals>.wrapper\u001b[1;34m(*args, **kwargs)\u001b[0m\n\u001b[0;32m    448\u001b[0m \u001b[38;5;28;01mif\u001b[39;00m \u001b[38;5;28mlen\u001b[39m(args) \u001b[38;5;241m>\u001b[39m name_idx:\n\u001b[0;32m    449\u001b[0m     warn_deprecated(\n\u001b[0;32m    450\u001b[0m         since, message\u001b[38;5;241m=\u001b[39m\u001b[38;5;124m\"\u001b[39m\u001b[38;5;124mPassing the \u001b[39m\u001b[38;5;132;01m%(name)s\u001b[39;00m\u001b[38;5;124m \u001b[39m\u001b[38;5;132;01m%(obj_type)s\u001b[39;00m\u001b[38;5;124m \u001b[39m\u001b[38;5;124m\"\u001b[39m\n\u001b[0;32m    451\u001b[0m         \u001b[38;5;124m\"\u001b[39m\u001b[38;5;124mpositionally is deprecated since Matplotlib \u001b[39m\u001b[38;5;132;01m%(since)s\u001b[39;00m\u001b[38;5;124m; the \u001b[39m\u001b[38;5;124m\"\u001b[39m\n\u001b[0;32m    452\u001b[0m         \u001b[38;5;124m\"\u001b[39m\u001b[38;5;124mparameter will become keyword-only \u001b[39m\u001b[38;5;132;01m%(removal)s\u001b[39;00m\u001b[38;5;124m.\u001b[39m\u001b[38;5;124m\"\u001b[39m,\n\u001b[0;32m    453\u001b[0m         name\u001b[38;5;241m=\u001b[39mname, obj_type\u001b[38;5;241m=\u001b[39m\u001b[38;5;124mf\u001b[39m\u001b[38;5;124m\"\u001b[39m\u001b[38;5;124mparameter of \u001b[39m\u001b[38;5;132;01m{\u001b[39;00mfunc\u001b[38;5;241m.\u001b[39m\u001b[38;5;18m__name__\u001b[39m\u001b[38;5;132;01m}\u001b[39;00m\u001b[38;5;124m()\u001b[39m\u001b[38;5;124m\"\u001b[39m)\n\u001b[1;32m--> 454\u001b[0m \u001b[38;5;28;01mreturn\u001b[39;00m \u001b[43mfunc\u001b[49m\u001b[43m(\u001b[49m\u001b[38;5;241;43m*\u001b[39;49m\u001b[43margs\u001b[49m\u001b[43m,\u001b[49m\u001b[43m \u001b[49m\u001b[38;5;241;43m*\u001b[39;49m\u001b[38;5;241;43m*\u001b[39;49m\u001b[43mkwargs\u001b[49m\u001b[43m)\u001b[49m\n",
      "File \u001b[1;32m~\\AppData\\Local\\Packages\\PythonSoftwareFoundation.Python.3.11_qbz5n2kfra8p0\\LocalCache\\local-packages\\Python311\\site-packages\\matplotlib\\figure.py:1774\u001b[0m, in \u001b[0;36mFigureBase.get_tightbbox\u001b[1;34m(self, renderer, bbox_extra_artists)\u001b[0m\n\u001b[0;32m   1771\u001b[0m     artists \u001b[38;5;241m=\u001b[39m bbox_extra_artists\n\u001b[0;32m   1773\u001b[0m \u001b[38;5;28;01mfor\u001b[39;00m a \u001b[38;5;129;01min\u001b[39;00m artists:\n\u001b[1;32m-> 1774\u001b[0m     bbox \u001b[38;5;241m=\u001b[39m \u001b[43ma\u001b[49m\u001b[38;5;241;43m.\u001b[39;49m\u001b[43mget_tightbbox\u001b[49m\u001b[43m(\u001b[49m\u001b[43mrenderer\u001b[49m\u001b[43m)\u001b[49m\n\u001b[0;32m   1775\u001b[0m     \u001b[38;5;28;01mif\u001b[39;00m bbox \u001b[38;5;129;01mis\u001b[39;00m \u001b[38;5;129;01mnot\u001b[39;00m \u001b[38;5;28;01mNone\u001b[39;00m:\n\u001b[0;32m   1776\u001b[0m         bb\u001b[38;5;241m.\u001b[39mappend(bbox)\n",
      "File \u001b[1;32m~\\AppData\\Local\\Packages\\PythonSoftwareFoundation.Python.3.11_qbz5n2kfra8p0\\LocalCache\\local-packages\\Python311\\site-packages\\matplotlib\\_api\\deprecation.py:454\u001b[0m, in \u001b[0;36mmake_keyword_only.<locals>.wrapper\u001b[1;34m(*args, **kwargs)\u001b[0m\n\u001b[0;32m    448\u001b[0m \u001b[38;5;28;01mif\u001b[39;00m \u001b[38;5;28mlen\u001b[39m(args) \u001b[38;5;241m>\u001b[39m name_idx:\n\u001b[0;32m    449\u001b[0m     warn_deprecated(\n\u001b[0;32m    450\u001b[0m         since, message\u001b[38;5;241m=\u001b[39m\u001b[38;5;124m\"\u001b[39m\u001b[38;5;124mPassing the \u001b[39m\u001b[38;5;132;01m%(name)s\u001b[39;00m\u001b[38;5;124m \u001b[39m\u001b[38;5;132;01m%(obj_type)s\u001b[39;00m\u001b[38;5;124m \u001b[39m\u001b[38;5;124m\"\u001b[39m\n\u001b[0;32m    451\u001b[0m         \u001b[38;5;124m\"\u001b[39m\u001b[38;5;124mpositionally is deprecated since Matplotlib \u001b[39m\u001b[38;5;132;01m%(since)s\u001b[39;00m\u001b[38;5;124m; the \u001b[39m\u001b[38;5;124m\"\u001b[39m\n\u001b[0;32m    452\u001b[0m         \u001b[38;5;124m\"\u001b[39m\u001b[38;5;124mparameter will become keyword-only \u001b[39m\u001b[38;5;132;01m%(removal)s\u001b[39;00m\u001b[38;5;124m.\u001b[39m\u001b[38;5;124m\"\u001b[39m,\n\u001b[0;32m    453\u001b[0m         name\u001b[38;5;241m=\u001b[39mname, obj_type\u001b[38;5;241m=\u001b[39m\u001b[38;5;124mf\u001b[39m\u001b[38;5;124m\"\u001b[39m\u001b[38;5;124mparameter of \u001b[39m\u001b[38;5;132;01m{\u001b[39;00mfunc\u001b[38;5;241m.\u001b[39m\u001b[38;5;18m__name__\u001b[39m\u001b[38;5;132;01m}\u001b[39;00m\u001b[38;5;124m()\u001b[39m\u001b[38;5;124m\"\u001b[39m)\n\u001b[1;32m--> 454\u001b[0m \u001b[38;5;28;01mreturn\u001b[39;00m \u001b[43mfunc\u001b[49m\u001b[43m(\u001b[49m\u001b[38;5;241;43m*\u001b[39;49m\u001b[43margs\u001b[49m\u001b[43m,\u001b[49m\u001b[43m \u001b[49m\u001b[38;5;241;43m*\u001b[39;49m\u001b[38;5;241;43m*\u001b[39;49m\u001b[43mkwargs\u001b[49m\u001b[43m)\u001b[49m\n",
      "File \u001b[1;32m~\\AppData\\Local\\Packages\\PythonSoftwareFoundation.Python.3.11_qbz5n2kfra8p0\\LocalCache\\local-packages\\Python311\\site-packages\\matplotlib\\axes\\_base.py:4395\u001b[0m, in \u001b[0;36m_AxesBase.get_tightbbox\u001b[1;34m(self, renderer, call_axes_locator, bbox_extra_artists, for_layout_only)\u001b[0m\n\u001b[0;32m   4393\u001b[0m \u001b[38;5;28;01mfor\u001b[39;00m axis \u001b[38;5;129;01min\u001b[39;00m \u001b[38;5;28mself\u001b[39m\u001b[38;5;241m.\u001b[39m_axis_map\u001b[38;5;241m.\u001b[39mvalues():\n\u001b[0;32m   4394\u001b[0m     \u001b[38;5;28;01mif\u001b[39;00m \u001b[38;5;28mself\u001b[39m\u001b[38;5;241m.\u001b[39maxison \u001b[38;5;129;01mand\u001b[39;00m axis\u001b[38;5;241m.\u001b[39mget_visible():\n\u001b[1;32m-> 4395\u001b[0m         ba \u001b[38;5;241m=\u001b[39m \u001b[43mmartist\u001b[49m\u001b[38;5;241;43m.\u001b[39;49m\u001b[43m_get_tightbbox_for_layout_only\u001b[49m\u001b[43m(\u001b[49m\u001b[43maxis\u001b[49m\u001b[43m,\u001b[49m\u001b[43m \u001b[49m\u001b[43mrenderer\u001b[49m\u001b[43m)\u001b[49m\n\u001b[0;32m   4396\u001b[0m         \u001b[38;5;28;01mif\u001b[39;00m ba:\n\u001b[0;32m   4397\u001b[0m             bb\u001b[38;5;241m.\u001b[39mappend(ba)\n",
      "File \u001b[1;32m~\\AppData\\Local\\Packages\\PythonSoftwareFoundation.Python.3.11_qbz5n2kfra8p0\\LocalCache\\local-packages\\Python311\\site-packages\\matplotlib\\artist.py:1411\u001b[0m, in \u001b[0;36m_get_tightbbox_for_layout_only\u001b[1;34m(obj, *args, **kwargs)\u001b[0m\n\u001b[0;32m   1405\u001b[0m \u001b[38;5;250m\u001b[39m\u001b[38;5;124;03m\"\"\"\u001b[39;00m\n\u001b[0;32m   1406\u001b[0m \u001b[38;5;124;03mMatplotlib's `.Axes.get_tightbbox` and `.Axis.get_tightbbox` support a\u001b[39;00m\n\u001b[0;32m   1407\u001b[0m \u001b[38;5;124;03m*for_layout_only* kwarg; this helper tries to use the kwarg but skips it\u001b[39;00m\n\u001b[0;32m   1408\u001b[0m \u001b[38;5;124;03mwhen encountering third-party subclasses that do not support it.\u001b[39;00m\n\u001b[0;32m   1409\u001b[0m \u001b[38;5;124;03m\"\"\"\u001b[39;00m\n\u001b[0;32m   1410\u001b[0m \u001b[38;5;28;01mtry\u001b[39;00m:\n\u001b[1;32m-> 1411\u001b[0m     \u001b[38;5;28;01mreturn\u001b[39;00m \u001b[43mobj\u001b[49m\u001b[38;5;241;43m.\u001b[39;49m\u001b[43mget_tightbbox\u001b[49m\u001b[43m(\u001b[49m\u001b[38;5;241;43m*\u001b[39;49m\u001b[43margs\u001b[49m\u001b[43m,\u001b[49m\u001b[43m \u001b[49m\u001b[38;5;241;43m*\u001b[39;49m\u001b[38;5;241;43m*\u001b[39;49m\u001b[43m{\u001b[49m\u001b[38;5;241;43m*\u001b[39;49m\u001b[38;5;241;43m*\u001b[39;49m\u001b[43mkwargs\u001b[49m\u001b[43m,\u001b[49m\u001b[43m \u001b[49m\u001b[38;5;124;43m\"\u001b[39;49m\u001b[38;5;124;43mfor_layout_only\u001b[39;49m\u001b[38;5;124;43m\"\u001b[39;49m\u001b[43m:\u001b[49m\u001b[43m \u001b[49m\u001b[38;5;28;43;01mTrue\u001b[39;49;00m\u001b[43m}\u001b[49m\u001b[43m)\u001b[49m\n\u001b[0;32m   1412\u001b[0m \u001b[38;5;28;01mexcept\u001b[39;00m \u001b[38;5;167;01mTypeError\u001b[39;00m:\n\u001b[0;32m   1413\u001b[0m     \u001b[38;5;28;01mreturn\u001b[39;00m obj\u001b[38;5;241m.\u001b[39mget_tightbbox(\u001b[38;5;241m*\u001b[39margs, \u001b[38;5;241m*\u001b[39m\u001b[38;5;241m*\u001b[39mkwargs)\n",
      "File \u001b[1;32m~\\AppData\\Local\\Packages\\PythonSoftwareFoundation.Python.3.11_qbz5n2kfra8p0\\LocalCache\\local-packages\\Python311\\site-packages\\matplotlib\\axis.py:1336\u001b[0m, in \u001b[0;36mAxis.get_tightbbox\u001b[1;34m(self, renderer, for_layout_only)\u001b[0m\n\u001b[0;32m   1333\u001b[0m     renderer \u001b[38;5;241m=\u001b[39m \u001b[38;5;28mself\u001b[39m\u001b[38;5;241m.\u001b[39mfigure\u001b[38;5;241m.\u001b[39m_get_renderer()\n\u001b[0;32m   1334\u001b[0m ticks_to_draw \u001b[38;5;241m=\u001b[39m \u001b[38;5;28mself\u001b[39m\u001b[38;5;241m.\u001b[39m_update_ticks()\n\u001b[1;32m-> 1336\u001b[0m \u001b[38;5;28;43mself\u001b[39;49m\u001b[38;5;241;43m.\u001b[39;49m\u001b[43m_update_label_position\u001b[49m\u001b[43m(\u001b[49m\u001b[43mrenderer\u001b[49m\u001b[43m)\u001b[49m\n\u001b[0;32m   1338\u001b[0m \u001b[38;5;66;03m# go back to just this axis's tick labels\u001b[39;00m\n\u001b[0;32m   1339\u001b[0m tlb1, tlb2 \u001b[38;5;241m=\u001b[39m \u001b[38;5;28mself\u001b[39m\u001b[38;5;241m.\u001b[39m_get_ticklabel_bboxes(ticks_to_draw, renderer)\n",
      "File \u001b[1;32m~\\AppData\\Local\\Packages\\PythonSoftwareFoundation.Python.3.11_qbz5n2kfra8p0\\LocalCache\\local-packages\\Python311\\site-packages\\matplotlib\\axis.py:2368\u001b[0m, in \u001b[0;36mXAxis._update_label_position\u001b[1;34m(self, renderer)\u001b[0m\n\u001b[0;32m   2364\u001b[0m     \u001b[38;5;28;01mreturn\u001b[39;00m\n\u001b[0;32m   2366\u001b[0m \u001b[38;5;66;03m# get bounding boxes for this axis and any siblings\u001b[39;00m\n\u001b[0;32m   2367\u001b[0m \u001b[38;5;66;03m# that have been set by `fig.align_xlabels()`\u001b[39;00m\n\u001b[1;32m-> 2368\u001b[0m bboxes, bboxes2 \u001b[38;5;241m=\u001b[39m \u001b[38;5;28;43mself\u001b[39;49m\u001b[38;5;241;43m.\u001b[39;49m\u001b[43m_get_tick_boxes_siblings\u001b[49m\u001b[43m(\u001b[49m\u001b[43mrenderer\u001b[49m\u001b[38;5;241;43m=\u001b[39;49m\u001b[43mrenderer\u001b[49m\u001b[43m)\u001b[49m\n\u001b[0;32m   2370\u001b[0m x, y \u001b[38;5;241m=\u001b[39m \u001b[38;5;28mself\u001b[39m\u001b[38;5;241m.\u001b[39mlabel\u001b[38;5;241m.\u001b[39mget_position()\n\u001b[0;32m   2371\u001b[0m \u001b[38;5;28;01mif\u001b[39;00m \u001b[38;5;28mself\u001b[39m\u001b[38;5;241m.\u001b[39mlabel_position \u001b[38;5;241m==\u001b[39m \u001b[38;5;124m'\u001b[39m\u001b[38;5;124mbottom\u001b[39m\u001b[38;5;124m'\u001b[39m:\n",
      "File \u001b[1;32m~\\AppData\\Local\\Packages\\PythonSoftwareFoundation.Python.3.11_qbz5n2kfra8p0\\LocalCache\\local-packages\\Python311\\site-packages\\matplotlib\\axis.py:2161\u001b[0m, in \u001b[0;36mAxis._get_tick_boxes_siblings\u001b[1;34m(self, renderer)\u001b[0m\n\u001b[0;32m   2159\u001b[0m axis \u001b[38;5;241m=\u001b[39m ax\u001b[38;5;241m.\u001b[39m_axis_map[name]\n\u001b[0;32m   2160\u001b[0m ticks_to_draw \u001b[38;5;241m=\u001b[39m axis\u001b[38;5;241m.\u001b[39m_update_ticks()\n\u001b[1;32m-> 2161\u001b[0m tlb, tlb2 \u001b[38;5;241m=\u001b[39m \u001b[43maxis\u001b[49m\u001b[38;5;241;43m.\u001b[39;49m\u001b[43m_get_ticklabel_bboxes\u001b[49m\u001b[43m(\u001b[49m\u001b[43mticks_to_draw\u001b[49m\u001b[43m,\u001b[49m\u001b[43m \u001b[49m\u001b[43mrenderer\u001b[49m\u001b[43m)\u001b[49m\n\u001b[0;32m   2162\u001b[0m bboxes\u001b[38;5;241m.\u001b[39mextend(tlb)\n\u001b[0;32m   2163\u001b[0m bboxes2\u001b[38;5;241m.\u001b[39mextend(tlb2)\n",
      "File \u001b[1;32m~\\AppData\\Local\\Packages\\PythonSoftwareFoundation.Python.3.11_qbz5n2kfra8p0\\LocalCache\\local-packages\\Python311\\site-packages\\matplotlib\\axis.py:1315\u001b[0m, in \u001b[0;36mAxis._get_ticklabel_bboxes\u001b[1;34m(self, ticks, renderer)\u001b[0m\n\u001b[0;32m   1313\u001b[0m \u001b[38;5;28;01mif\u001b[39;00m renderer \u001b[38;5;129;01mis\u001b[39;00m \u001b[38;5;28;01mNone\u001b[39;00m:\n\u001b[0;32m   1314\u001b[0m     renderer \u001b[38;5;241m=\u001b[39m \u001b[38;5;28mself\u001b[39m\u001b[38;5;241m.\u001b[39mfigure\u001b[38;5;241m.\u001b[39m_get_renderer()\n\u001b[1;32m-> 1315\u001b[0m \u001b[38;5;28;01mreturn\u001b[39;00m (\u001b[43m[\u001b[49m\u001b[43mtick\u001b[49m\u001b[38;5;241;43m.\u001b[39;49m\u001b[43mlabel1\u001b[49m\u001b[38;5;241;43m.\u001b[39;49m\u001b[43mget_window_extent\u001b[49m\u001b[43m(\u001b[49m\u001b[43mrenderer\u001b[49m\u001b[43m)\u001b[49m\n\u001b[0;32m   1316\u001b[0m \u001b[43m         \u001b[49m\u001b[38;5;28;43;01mfor\u001b[39;49;00m\u001b[43m \u001b[49m\u001b[43mtick\u001b[49m\u001b[43m \u001b[49m\u001b[38;5;129;43;01min\u001b[39;49;00m\u001b[43m \u001b[49m\u001b[43mticks\u001b[49m\u001b[43m \u001b[49m\u001b[38;5;28;43;01mif\u001b[39;49;00m\u001b[43m \u001b[49m\u001b[43mtick\u001b[49m\u001b[38;5;241;43m.\u001b[39;49m\u001b[43mlabel1\u001b[49m\u001b[38;5;241;43m.\u001b[39;49m\u001b[43mget_visible\u001b[49m\u001b[43m(\u001b[49m\u001b[43m)\u001b[49m\u001b[43m]\u001b[49m,\n\u001b[0;32m   1317\u001b[0m         [tick\u001b[38;5;241m.\u001b[39mlabel2\u001b[38;5;241m.\u001b[39mget_window_extent(renderer)\n\u001b[0;32m   1318\u001b[0m          \u001b[38;5;28;01mfor\u001b[39;00m tick \u001b[38;5;129;01min\u001b[39;00m ticks \u001b[38;5;28;01mif\u001b[39;00m tick\u001b[38;5;241m.\u001b[39mlabel2\u001b[38;5;241m.\u001b[39mget_visible()])\n",
      "File \u001b[1;32m~\\AppData\\Local\\Packages\\PythonSoftwareFoundation.Python.3.11_qbz5n2kfra8p0\\LocalCache\\local-packages\\Python311\\site-packages\\matplotlib\\axis.py:1315\u001b[0m, in \u001b[0;36m<listcomp>\u001b[1;34m(.0)\u001b[0m\n\u001b[0;32m   1313\u001b[0m \u001b[38;5;28;01mif\u001b[39;00m renderer \u001b[38;5;129;01mis\u001b[39;00m \u001b[38;5;28;01mNone\u001b[39;00m:\n\u001b[0;32m   1314\u001b[0m     renderer \u001b[38;5;241m=\u001b[39m \u001b[38;5;28mself\u001b[39m\u001b[38;5;241m.\u001b[39mfigure\u001b[38;5;241m.\u001b[39m_get_renderer()\n\u001b[1;32m-> 1315\u001b[0m \u001b[38;5;28;01mreturn\u001b[39;00m ([\u001b[43mtick\u001b[49m\u001b[38;5;241;43m.\u001b[39;49m\u001b[43mlabel1\u001b[49m\u001b[38;5;241;43m.\u001b[39;49m\u001b[43mget_window_extent\u001b[49m\u001b[43m(\u001b[49m\u001b[43mrenderer\u001b[49m\u001b[43m)\u001b[49m\n\u001b[0;32m   1316\u001b[0m          \u001b[38;5;28;01mfor\u001b[39;00m tick \u001b[38;5;129;01min\u001b[39;00m ticks \u001b[38;5;28;01mif\u001b[39;00m tick\u001b[38;5;241m.\u001b[39mlabel1\u001b[38;5;241m.\u001b[39mget_visible()],\n\u001b[0;32m   1317\u001b[0m         [tick\u001b[38;5;241m.\u001b[39mlabel2\u001b[38;5;241m.\u001b[39mget_window_extent(renderer)\n\u001b[0;32m   1318\u001b[0m          \u001b[38;5;28;01mfor\u001b[39;00m tick \u001b[38;5;129;01min\u001b[39;00m ticks \u001b[38;5;28;01mif\u001b[39;00m tick\u001b[38;5;241m.\u001b[39mlabel2\u001b[38;5;241m.\u001b[39mget_visible()])\n",
      "File \u001b[1;32m~\\AppData\\Local\\Packages\\PythonSoftwareFoundation.Python.3.11_qbz5n2kfra8p0\\LocalCache\\local-packages\\Python311\\site-packages\\matplotlib\\text.py:956\u001b[0m, in \u001b[0;36mText.get_window_extent\u001b[1;34m(self, renderer, dpi)\u001b[0m\n\u001b[0;32m    951\u001b[0m     \u001b[38;5;28;01mraise\u001b[39;00m \u001b[38;5;167;01mRuntimeError\u001b[39;00m(\n\u001b[0;32m    952\u001b[0m         \u001b[38;5;124m\"\u001b[39m\u001b[38;5;124mCannot get window extent of text w/o renderer. You likely \u001b[39m\u001b[38;5;124m\"\u001b[39m\n\u001b[0;32m    953\u001b[0m         \u001b[38;5;124m\"\u001b[39m\u001b[38;5;124mwant to call \u001b[39m\u001b[38;5;124m'\u001b[39m\u001b[38;5;124mfigure.draw_without_rendering()\u001b[39m\u001b[38;5;124m'\u001b[39m\u001b[38;5;124m first.\u001b[39m\u001b[38;5;124m\"\u001b[39m)\n\u001b[0;32m    955\u001b[0m \u001b[38;5;28;01mwith\u001b[39;00m cbook\u001b[38;5;241m.\u001b[39m_setattr_cm(\u001b[38;5;28mself\u001b[39m\u001b[38;5;241m.\u001b[39mfigure, dpi\u001b[38;5;241m=\u001b[39mdpi):\n\u001b[1;32m--> 956\u001b[0m     bbox, info, descent \u001b[38;5;241m=\u001b[39m \u001b[38;5;28;43mself\u001b[39;49m\u001b[38;5;241;43m.\u001b[39;49m\u001b[43m_get_layout\u001b[49m\u001b[43m(\u001b[49m\u001b[38;5;28;43mself\u001b[39;49m\u001b[38;5;241;43m.\u001b[39;49m\u001b[43m_renderer\u001b[49m\u001b[43m)\u001b[49m\n\u001b[0;32m    957\u001b[0m     x, y \u001b[38;5;241m=\u001b[39m \u001b[38;5;28mself\u001b[39m\u001b[38;5;241m.\u001b[39mget_unitless_position()\n\u001b[0;32m    958\u001b[0m     x, y \u001b[38;5;241m=\u001b[39m \u001b[38;5;28mself\u001b[39m\u001b[38;5;241m.\u001b[39mget_transform()\u001b[38;5;241m.\u001b[39mtransform((x, y))\n",
      "File \u001b[1;32m~\\AppData\\Local\\Packages\\PythonSoftwareFoundation.Python.3.11_qbz5n2kfra8p0\\LocalCache\\local-packages\\Python311\\site-packages\\matplotlib\\text.py:381\u001b[0m, in \u001b[0;36mText._get_layout\u001b[1;34m(self, renderer)\u001b[0m\n\u001b[0;32m    379\u001b[0m clean_line, ismath \u001b[38;5;241m=\u001b[39m \u001b[38;5;28mself\u001b[39m\u001b[38;5;241m.\u001b[39m_preprocess_math(line)\n\u001b[0;32m    380\u001b[0m \u001b[38;5;28;01mif\u001b[39;00m clean_line:\n\u001b[1;32m--> 381\u001b[0m     w, h, d \u001b[38;5;241m=\u001b[39m \u001b[43m_get_text_metrics_with_cache\u001b[49m\u001b[43m(\u001b[49m\n\u001b[0;32m    382\u001b[0m \u001b[43m        \u001b[49m\u001b[43mrenderer\u001b[49m\u001b[43m,\u001b[49m\u001b[43m \u001b[49m\u001b[43mclean_line\u001b[49m\u001b[43m,\u001b[49m\u001b[43m \u001b[49m\u001b[38;5;28;43mself\u001b[39;49m\u001b[38;5;241;43m.\u001b[39;49m\u001b[43m_fontproperties\u001b[49m\u001b[43m,\u001b[49m\n\u001b[0;32m    383\u001b[0m \u001b[43m        \u001b[49m\u001b[43mismath\u001b[49m\u001b[38;5;241;43m=\u001b[39;49m\u001b[43mismath\u001b[49m\u001b[43m,\u001b[49m\u001b[43m \u001b[49m\u001b[43mdpi\u001b[49m\u001b[38;5;241;43m=\u001b[39;49m\u001b[38;5;28;43mself\u001b[39;49m\u001b[38;5;241;43m.\u001b[39;49m\u001b[43mfigure\u001b[49m\u001b[38;5;241;43m.\u001b[39;49m\u001b[43mdpi\u001b[49m\u001b[43m)\u001b[49m\n\u001b[0;32m    384\u001b[0m \u001b[38;5;28;01melse\u001b[39;00m:\n\u001b[0;32m    385\u001b[0m     w \u001b[38;5;241m=\u001b[39m h \u001b[38;5;241m=\u001b[39m d \u001b[38;5;241m=\u001b[39m \u001b[38;5;241m0\u001b[39m\n",
      "File \u001b[1;32m~\\AppData\\Local\\Packages\\PythonSoftwareFoundation.Python.3.11_qbz5n2kfra8p0\\LocalCache\\local-packages\\Python311\\site-packages\\matplotlib\\text.py:69\u001b[0m, in \u001b[0;36m_get_text_metrics_with_cache\u001b[1;34m(renderer, text, fontprop, ismath, dpi)\u001b[0m\n\u001b[0;32m     66\u001b[0m \u001b[38;5;250m\u001b[39m\u001b[38;5;124;03m\"\"\"Call ``renderer.get_text_width_height_descent``, caching the results.\"\"\"\u001b[39;00m\n\u001b[0;32m     67\u001b[0m \u001b[38;5;66;03m# Cached based on a copy of fontprop so that later in-place mutations of\u001b[39;00m\n\u001b[0;32m     68\u001b[0m \u001b[38;5;66;03m# the passed-in argument do not mess up the cache.\u001b[39;00m\n\u001b[1;32m---> 69\u001b[0m \u001b[38;5;28;01mreturn\u001b[39;00m \u001b[43m_get_text_metrics_with_cache_impl\u001b[49m\u001b[43m(\u001b[49m\n\u001b[0;32m     70\u001b[0m \u001b[43m    \u001b[49m\u001b[43mweakref\u001b[49m\u001b[38;5;241;43m.\u001b[39;49m\u001b[43mref\u001b[49m\u001b[43m(\u001b[49m\u001b[43mrenderer\u001b[49m\u001b[43m)\u001b[49m\u001b[43m,\u001b[49m\u001b[43m \u001b[49m\u001b[43mtext\u001b[49m\u001b[43m,\u001b[49m\u001b[43m \u001b[49m\u001b[43mfontprop\u001b[49m\u001b[38;5;241;43m.\u001b[39;49m\u001b[43mcopy\u001b[49m\u001b[43m(\u001b[49m\u001b[43m)\u001b[49m\u001b[43m,\u001b[49m\u001b[43m \u001b[49m\u001b[43mismath\u001b[49m\u001b[43m,\u001b[49m\u001b[43m \u001b[49m\u001b[43mdpi\u001b[49m\u001b[43m)\u001b[49m\n",
      "File \u001b[1;32m~\\AppData\\Local\\Packages\\PythonSoftwareFoundation.Python.3.11_qbz5n2kfra8p0\\LocalCache\\local-packages\\Python311\\site-packages\\matplotlib\\text.py:77\u001b[0m, in \u001b[0;36m_get_text_metrics_with_cache_impl\u001b[1;34m(renderer_ref, text, fontprop, ismath, dpi)\u001b[0m\n\u001b[0;32m     73\u001b[0m \u001b[38;5;129m@functools\u001b[39m\u001b[38;5;241m.\u001b[39mlru_cache(\u001b[38;5;241m4096\u001b[39m)\n\u001b[0;32m     74\u001b[0m \u001b[38;5;28;01mdef\u001b[39;00m \u001b[38;5;21m_get_text_metrics_with_cache_impl\u001b[39m(\n\u001b[0;32m     75\u001b[0m         renderer_ref, text, fontprop, ismath, dpi):\n\u001b[0;32m     76\u001b[0m     \u001b[38;5;66;03m# dpi is unused, but participates in cache invalidation (via the renderer).\u001b[39;00m\n\u001b[1;32m---> 77\u001b[0m     \u001b[38;5;28;01mreturn\u001b[39;00m \u001b[43mrenderer_ref\u001b[49m\u001b[43m(\u001b[49m\u001b[43m)\u001b[49m\u001b[38;5;241;43m.\u001b[39;49m\u001b[43mget_text_width_height_descent\u001b[49m\u001b[43m(\u001b[49m\u001b[43mtext\u001b[49m\u001b[43m,\u001b[49m\u001b[43m \u001b[49m\u001b[43mfontprop\u001b[49m\u001b[43m,\u001b[49m\u001b[43m \u001b[49m\u001b[43mismath\u001b[49m\u001b[43m)\u001b[49m\n",
      "File \u001b[1;32m~\\AppData\\Local\\Packages\\PythonSoftwareFoundation.Python.3.11_qbz5n2kfra8p0\\LocalCache\\local-packages\\Python311\\site-packages\\matplotlib\\backends\\backend_agg.py:221\u001b[0m, in \u001b[0;36mRendererAgg.get_text_width_height_descent\u001b[1;34m(self, s, prop, ismath)\u001b[0m\n\u001b[0;32m    218\u001b[0m     \u001b[38;5;28;01mreturn\u001b[39;00m width, height, descent\n\u001b[0;32m    220\u001b[0m font \u001b[38;5;241m=\u001b[39m \u001b[38;5;28mself\u001b[39m\u001b[38;5;241m.\u001b[39m_prepare_font(prop)\n\u001b[1;32m--> 221\u001b[0m \u001b[43mfont\u001b[49m\u001b[38;5;241;43m.\u001b[39;49m\u001b[43mset_text\u001b[49m\u001b[43m(\u001b[49m\u001b[43ms\u001b[49m\u001b[43m,\u001b[49m\u001b[43m \u001b[49m\u001b[38;5;241;43m0.0\u001b[39;49m\u001b[43m,\u001b[49m\u001b[43m \u001b[49m\u001b[43mflags\u001b[49m\u001b[38;5;241;43m=\u001b[39;49m\u001b[43mget_hinting_flag\u001b[49m\u001b[43m(\u001b[49m\u001b[43m)\u001b[49m\u001b[43m)\u001b[49m\n\u001b[0;32m    222\u001b[0m w, h \u001b[38;5;241m=\u001b[39m font\u001b[38;5;241m.\u001b[39mget_width_height()  \u001b[38;5;66;03m# width and height of unrotated string\u001b[39;00m\n\u001b[0;32m    223\u001b[0m d \u001b[38;5;241m=\u001b[39m font\u001b[38;5;241m.\u001b[39mget_descent()\n",
      "\u001b[1;31mKeyboardInterrupt\u001b[0m: "
     ]
    }
   ],
   "source": [
    "for i, user_index in enumerate(user_indices):\n",
    "    top_n=5\n",
    "    fig, ax = plt.subplots()\n",
    "    ax.bar(range(len(recommendations[i])), recommendations[i])\n",
    "    ax.set_xlabel('Movie Index')\n",
    "    ax.set_ylabel('Predicted Rating')\n",
    "    ax.set_title(f'Top {top_n} Recommendations for User {user_index}')\n",
    "    ax.set_xticks(range(len(recommendations[i])))\n",
    "    ax.set_xticklabels([f'Movie {j}' for j in range(1, len(recommendations[i]) + 1)], rotation=45)\n",
    "    plt.show()"
   ]
  }
 ],
 "metadata": {
  "kernelspec": {
   "display_name": "Python 3 (ipykernel)",
   "language": "python",
   "name": "python3"
  },
  "language_info": {
   "codemirror_mode": {
    "name": "ipython",
    "version": 3
   },
   "file_extension": ".py",
   "mimetype": "text/x-python",
   "name": "python",
   "nbconvert_exporter": "python",
   "pygments_lexer": "ipython3",
   "version": "3.11.8"
  }
 },
 "nbformat": 4,
 "nbformat_minor": 5
}
