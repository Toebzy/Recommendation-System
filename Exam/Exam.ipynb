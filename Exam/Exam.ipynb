{
 "cells": [
  {
   "cell_type": "markdown",
   "id": "0685659d-4ebb-40c0-90e6-e543af31bed8",
   "metadata": {},
   "source": [
    "### Importing libraries"
   ]
  },
  {
   "cell_type": "code",
   "execution_count": 93,
   "id": "bf790c39-479e-4f56-99c4-a7fb5d1e2856",
   "metadata": {},
   "outputs": [],
   "source": [
    "# pandas for data structures and operations for manipulating numerical tables and time series\n",
    "import pandas as pd\n",
    "from pandas.plotting import scatter_matrix\n",
    "\n",
    "# matplotlib.pyplot for data plots\n",
    "import matplotlib.pyplot as plt\n",
    "\n",
    "# seaborn for statistical data visualization\n",
    "import seaborn as sns\n",
    "\n",
    "# sklearn for machine learning methods\n",
    "from sklearn import tree\n",
    "from sklearn import model_selection\n",
    "from sklearn.metrics import classification_report\n",
    "from sklearn.metrics import confusion_matrix\n",
    "from sklearn.metrics import accuracy_score\n",
    "from sklearn.metrics.pairwise import cosine_similarity\n",
    "from sklearn.model_selection import train_test_split\n",
    "from sklearn.feature_extraction.text import TfidfVectorizer\n",
    "from sklearn.metrics import mean_absolute_error\n",
    "from sklearn.metrics import mean_squared_error\n",
    "from sklearn.metrics.pairwise import linear_kernel\n",
    "from sklearn import metrics\n",
    "\n",
    "# for numeric calculations\n",
    "import numpy as np\n",
    "from scipy.sparse import coo_matrix\n",
    "\n",
    "#for saving files\n",
    "import os"
   ]
  },
  {
   "cell_type": "markdown",
   "id": "201e038e-c658-48e9-b899-526452dd5aff",
   "metadata": {},
   "source": [
    "## 1) Loading data"
   ]
  },
  {
   "cell_type": "markdown",
   "id": "ecab63c3-eaf3-4c31-8cf2-2da3afe66b4f",
   "metadata": {},
   "source": [
    "### Movies"
   ]
  },
  {
   "cell_type": "code",
   "execution_count": 94,
   "id": "aab108f7-28ac-47b7-bfcf-4160e018c0d5",
   "metadata": {},
   "outputs": [],
   "source": [
    "movies = pd.read_csv('./ml-latest-small/movies.csv', index_col=None, na_values=['NA'])"
   ]
  },
  {
   "cell_type": "code",
   "execution_count": 95,
   "id": "5b5d63ca-ac4a-40e4-927c-6783f74cb59b",
   "metadata": {},
   "outputs": [
    {
     "data": {
      "text/html": [
       "<div>\n",
       "<style scoped>\n",
       "    .dataframe tbody tr th:only-of-type {\n",
       "        vertical-align: middle;\n",
       "    }\n",
       "\n",
       "    .dataframe tbody tr th {\n",
       "        vertical-align: top;\n",
       "    }\n",
       "\n",
       "    .dataframe thead th {\n",
       "        text-align: right;\n",
       "    }\n",
       "</style>\n",
       "<table border=\"1\" class=\"dataframe\">\n",
       "  <thead>\n",
       "    <tr style=\"text-align: right;\">\n",
       "      <th></th>\n",
       "      <th>movieId</th>\n",
       "      <th>title</th>\n",
       "      <th>genres</th>\n",
       "    </tr>\n",
       "  </thead>\n",
       "  <tbody>\n",
       "    <tr>\n",
       "      <th>0</th>\n",
       "      <td>1</td>\n",
       "      <td>Toy Story (1995)</td>\n",
       "      <td>Adventure|Animation|Children|Comedy|Fantasy</td>\n",
       "    </tr>\n",
       "    <tr>\n",
       "      <th>1</th>\n",
       "      <td>2</td>\n",
       "      <td>Jumanji (1995)</td>\n",
       "      <td>Adventure|Children|Fantasy</td>\n",
       "    </tr>\n",
       "    <tr>\n",
       "      <th>2</th>\n",
       "      <td>3</td>\n",
       "      <td>Grumpier Old Men (1995)</td>\n",
       "      <td>Comedy|Romance</td>\n",
       "    </tr>\n",
       "    <tr>\n",
       "      <th>3</th>\n",
       "      <td>4</td>\n",
       "      <td>Waiting to Exhale (1995)</td>\n",
       "      <td>Comedy|Drama|Romance</td>\n",
       "    </tr>\n",
       "    <tr>\n",
       "      <th>4</th>\n",
       "      <td>5</td>\n",
       "      <td>Father of the Bride Part II (1995)</td>\n",
       "      <td>Comedy</td>\n",
       "    </tr>\n",
       "  </tbody>\n",
       "</table>\n",
       "</div>"
      ],
      "text/plain": [
       "   movieId                               title  \\\n",
       "0        1                    Toy Story (1995)   \n",
       "1        2                      Jumanji (1995)   \n",
       "2        3             Grumpier Old Men (1995)   \n",
       "3        4            Waiting to Exhale (1995)   \n",
       "4        5  Father of the Bride Part II (1995)   \n",
       "\n",
       "                                        genres  \n",
       "0  Adventure|Animation|Children|Comedy|Fantasy  \n",
       "1                   Adventure|Children|Fantasy  \n",
       "2                               Comedy|Romance  \n",
       "3                         Comedy|Drama|Romance  \n",
       "4                                       Comedy  "
      ]
     },
     "execution_count": 95,
     "metadata": {},
     "output_type": "execute_result"
    }
   ],
   "source": [
    "movies.head()"
   ]
  },
  {
   "cell_type": "code",
   "execution_count": 96,
   "id": "f224aa03-177e-48cc-b859-d0d071fd7fd1",
   "metadata": {},
   "outputs": [
    {
     "data": {
      "text/plain": [
       "(9742, 3)"
      ]
     },
     "execution_count": 96,
     "metadata": {},
     "output_type": "execute_result"
    }
   ],
   "source": [
    "movies.shape"
   ]
  },
  {
   "cell_type": "code",
   "execution_count": 97,
   "id": "f8cce013-ebb2-481c-b9e6-6ccaa837a4ec",
   "metadata": {},
   "outputs": [
    {
     "data": {
      "text/plain": [
       "193609"
      ]
     },
     "execution_count": 97,
     "metadata": {},
     "output_type": "execute_result"
    }
   ],
   "source": [
    "movies['movieId'].max()"
   ]
  },
  {
   "cell_type": "markdown",
   "id": "c6a84130-4a89-4764-8f72-09826672534c",
   "metadata": {},
   "source": [
    "### Ratings"
   ]
  },
  {
   "cell_type": "code",
   "execution_count": 98,
   "id": "23ff34ac-e00a-449b-927d-d5c17d714479",
   "metadata": {},
   "outputs": [],
   "source": [
    "ratings = pd.read_csv('./ml-latest-small/ratings.csv', index_col=None, na_values=['NA'])"
   ]
  },
  {
   "cell_type": "code",
   "execution_count": 99,
   "id": "71aee61f-73d0-4e7e-a514-da6533ef3bf0",
   "metadata": {},
   "outputs": [
    {
     "data": {
      "text/html": [
       "<div>\n",
       "<style scoped>\n",
       "    .dataframe tbody tr th:only-of-type {\n",
       "        vertical-align: middle;\n",
       "    }\n",
       "\n",
       "    .dataframe tbody tr th {\n",
       "        vertical-align: top;\n",
       "    }\n",
       "\n",
       "    .dataframe thead th {\n",
       "        text-align: right;\n",
       "    }\n",
       "</style>\n",
       "<table border=\"1\" class=\"dataframe\">\n",
       "  <thead>\n",
       "    <tr style=\"text-align: right;\">\n",
       "      <th></th>\n",
       "      <th>userId</th>\n",
       "      <th>movieId</th>\n",
       "      <th>rating</th>\n",
       "      <th>timestamp</th>\n",
       "    </tr>\n",
       "  </thead>\n",
       "  <tbody>\n",
       "    <tr>\n",
       "      <th>0</th>\n",
       "      <td>1</td>\n",
       "      <td>1</td>\n",
       "      <td>4.0</td>\n",
       "      <td>964982703</td>\n",
       "    </tr>\n",
       "    <tr>\n",
       "      <th>1</th>\n",
       "      <td>1</td>\n",
       "      <td>3</td>\n",
       "      <td>4.0</td>\n",
       "      <td>964981247</td>\n",
       "    </tr>\n",
       "    <tr>\n",
       "      <th>2</th>\n",
       "      <td>1</td>\n",
       "      <td>6</td>\n",
       "      <td>4.0</td>\n",
       "      <td>964982224</td>\n",
       "    </tr>\n",
       "    <tr>\n",
       "      <th>3</th>\n",
       "      <td>1</td>\n",
       "      <td>47</td>\n",
       "      <td>5.0</td>\n",
       "      <td>964983815</td>\n",
       "    </tr>\n",
       "    <tr>\n",
       "      <th>4</th>\n",
       "      <td>1</td>\n",
       "      <td>50</td>\n",
       "      <td>5.0</td>\n",
       "      <td>964982931</td>\n",
       "    </tr>\n",
       "  </tbody>\n",
       "</table>\n",
       "</div>"
      ],
      "text/plain": [
       "   userId  movieId  rating  timestamp\n",
       "0       1        1     4.0  964982703\n",
       "1       1        3     4.0  964981247\n",
       "2       1        6     4.0  964982224\n",
       "3       1       47     5.0  964983815\n",
       "4       1       50     5.0  964982931"
      ]
     },
     "execution_count": 99,
     "metadata": {},
     "output_type": "execute_result"
    }
   ],
   "source": [
    "ratings.head()"
   ]
  },
  {
   "cell_type": "code",
   "execution_count": 100,
   "id": "650c3eaa-4bad-41d6-acfa-db3bc3fdd3dd",
   "metadata": {},
   "outputs": [
    {
     "data": {
      "text/plain": [
       "(100836, 4)"
      ]
     },
     "execution_count": 100,
     "metadata": {},
     "output_type": "execute_result"
    }
   ],
   "source": [
    "ratings.shape"
   ]
  },
  {
   "cell_type": "markdown",
   "id": "edf6ee4e-1d46-41e4-96b4-14ed0db234c0",
   "metadata": {},
   "source": [
    "## 2) Aggregating data"
   ]
  },
  {
   "cell_type": "code",
   "execution_count": 101,
   "id": "e39ae89d-d1cb-4443-99ea-07becd7893fa",
   "metadata": {},
   "outputs": [],
   "source": [
    "mvrt = pd.merge(ratings, movies, on='movieId')"
   ]
  },
  {
   "cell_type": "code",
   "execution_count": 102,
   "id": "d31d0293-48e4-4221-b409-f635054595a0",
   "metadata": {},
   "outputs": [
    {
     "data": {
      "text/html": [
       "<div>\n",
       "<style scoped>\n",
       "    .dataframe tbody tr th:only-of-type {\n",
       "        vertical-align: middle;\n",
       "    }\n",
       "\n",
       "    .dataframe tbody tr th {\n",
       "        vertical-align: top;\n",
       "    }\n",
       "\n",
       "    .dataframe thead th {\n",
       "        text-align: right;\n",
       "    }\n",
       "</style>\n",
       "<table border=\"1\" class=\"dataframe\">\n",
       "  <thead>\n",
       "    <tr style=\"text-align: right;\">\n",
       "      <th></th>\n",
       "      <th>userId</th>\n",
       "      <th>movieId</th>\n",
       "      <th>rating</th>\n",
       "      <th>timestamp</th>\n",
       "      <th>title</th>\n",
       "      <th>genres</th>\n",
       "    </tr>\n",
       "  </thead>\n",
       "  <tbody>\n",
       "    <tr>\n",
       "      <th>100269</th>\n",
       "      <td>599</td>\n",
       "      <td>55061</td>\n",
       "      <td>1.0</td>\n",
       "      <td>1498531554</td>\n",
       "      <td>Electroma (2006)</td>\n",
       "      <td>Drama|Sci-Fi</td>\n",
       "    </tr>\n",
       "    <tr>\n",
       "      <th>46979</th>\n",
       "      <td>45</td>\n",
       "      <td>50872</td>\n",
       "      <td>5.0</td>\n",
       "      <td>1193288853</td>\n",
       "      <td>Ratatouille (2007)</td>\n",
       "      <td>Animation|Children|Drama</td>\n",
       "    </tr>\n",
       "    <tr>\n",
       "      <th>2203</th>\n",
       "      <td>372</td>\n",
       "      <td>316</td>\n",
       "      <td>5.0</td>\n",
       "      <td>874416615</td>\n",
       "      <td>Stargate (1994)</td>\n",
       "      <td>Action|Adventure|Sci-Fi</td>\n",
       "    </tr>\n",
       "    <tr>\n",
       "      <th>18635</th>\n",
       "      <td>477</td>\n",
       "      <td>2424</td>\n",
       "      <td>4.0</td>\n",
       "      <td>1200941338</td>\n",
       "      <td>You've Got Mail (1998)</td>\n",
       "      <td>Comedy|Romance</td>\n",
       "    </tr>\n",
       "    <tr>\n",
       "      <th>87575</th>\n",
       "      <td>414</td>\n",
       "      <td>27873</td>\n",
       "      <td>3.5</td>\n",
       "      <td>1126758881</td>\n",
       "      <td>Metallica: Some Kind of Monster (2004)</td>\n",
       "      <td>Documentary</td>\n",
       "    </tr>\n",
       "    <tr>\n",
       "      <th>85781</th>\n",
       "      <td>608</td>\n",
       "      <td>5065</td>\n",
       "      <td>4.0</td>\n",
       "      <td>1117506631</td>\n",
       "      <td>Mothman Prophecies, The (2002)</td>\n",
       "      <td>Drama|Fantasy|Horror|Mystery|Thriller</td>\n",
       "    </tr>\n",
       "    <tr>\n",
       "      <th>74886</th>\n",
       "      <td>590</td>\n",
       "      <td>805</td>\n",
       "      <td>3.5</td>\n",
       "      <td>1258421509</td>\n",
       "      <td>Time to Kill, A (1996)</td>\n",
       "      <td>Drama|Thriller</td>\n",
       "    </tr>\n",
       "    <tr>\n",
       "      <th>40340</th>\n",
       "      <td>274</td>\n",
       "      <td>5481</td>\n",
       "      <td>2.5</td>\n",
       "      <td>1173819620</td>\n",
       "      <td>Austin Powers in Goldmember (2002)</td>\n",
       "      <td>Comedy</td>\n",
       "    </tr>\n",
       "    <tr>\n",
       "      <th>85817</th>\n",
       "      <td>448</td>\n",
       "      <td>5803</td>\n",
       "      <td>2.0</td>\n",
       "      <td>1087149734</td>\n",
       "      <td>I Spy (2002)</td>\n",
       "      <td>Action|Adventure|Comedy|Crime</td>\n",
       "    </tr>\n",
       "    <tr>\n",
       "      <th>495</th>\n",
       "      <td>369</td>\n",
       "      <td>47</td>\n",
       "      <td>3.5</td>\n",
       "      <td>1237083091</td>\n",
       "      <td>Seven (a.k.a. Se7en) (1995)</td>\n",
       "      <td>Mystery|Thriller</td>\n",
       "    </tr>\n",
       "    <tr>\n",
       "      <th>97819</th>\n",
       "      <td>387</td>\n",
       "      <td>26002</td>\n",
       "      <td>3.5</td>\n",
       "      <td>1172390168</td>\n",
       "      <td>Confidential Report (1955)</td>\n",
       "      <td>Crime|Drama|Mystery|Thriller</td>\n",
       "    </tr>\n",
       "    <tr>\n",
       "      <th>21549</th>\n",
       "      <td>483</td>\n",
       "      <td>1266</td>\n",
       "      <td>4.5</td>\n",
       "      <td>1327277266</td>\n",
       "      <td>Unforgiven (1992)</td>\n",
       "      <td>Drama|Western</td>\n",
       "    </tr>\n",
       "    <tr>\n",
       "      <th>7774</th>\n",
       "      <td>100</td>\n",
       "      <td>1213</td>\n",
       "      <td>3.5</td>\n",
       "      <td>1100183731</td>\n",
       "      <td>Goodfellas (1990)</td>\n",
       "      <td>Crime|Drama</td>\n",
       "    </tr>\n",
       "    <tr>\n",
       "      <th>17001</th>\n",
       "      <td>282</td>\n",
       "      <td>48516</td>\n",
       "      <td>4.5</td>\n",
       "      <td>1378498161</td>\n",
       "      <td>Departed, The (2006)</td>\n",
       "      <td>Crime|Drama|Thriller</td>\n",
       "    </tr>\n",
       "    <tr>\n",
       "      <th>15698</th>\n",
       "      <td>144</td>\n",
       "      <td>3578</td>\n",
       "      <td>4.0</td>\n",
       "      <td>1137323761</td>\n",
       "      <td>Gladiator (2000)</td>\n",
       "      <td>Action|Adventure|Drama</td>\n",
       "    </tr>\n",
       "    <tr>\n",
       "      <th>25974</th>\n",
       "      <td>530</td>\n",
       "      <td>300</td>\n",
       "      <td>3.0</td>\n",
       "      <td>843226909</td>\n",
       "      <td>Quiz Show (1994)</td>\n",
       "      <td>Drama</td>\n",
       "    </tr>\n",
       "    <tr>\n",
       "      <th>57118</th>\n",
       "      <td>21</td>\n",
       "      <td>116797</td>\n",
       "      <td>2.5</td>\n",
       "      <td>1423422308</td>\n",
       "      <td>The Imitation Game (2014)</td>\n",
       "      <td>Drama|Thriller|War</td>\n",
       "    </tr>\n",
       "    <tr>\n",
       "      <th>96979</th>\n",
       "      <td>318</td>\n",
       "      <td>145080</td>\n",
       "      <td>2.5</td>\n",
       "      <td>1526236187</td>\n",
       "      <td>Extraordinary Tales (2015)</td>\n",
       "      <td>Animation|Horror|Mystery</td>\n",
       "    </tr>\n",
       "    <tr>\n",
       "      <th>81555</th>\n",
       "      <td>288</td>\n",
       "      <td>1965</td>\n",
       "      <td>4.5</td>\n",
       "      <td>1079984319</td>\n",
       "      <td>Repo Man (1984)</td>\n",
       "      <td>Comedy|Sci-Fi</td>\n",
       "    </tr>\n",
       "    <tr>\n",
       "      <th>75715</th>\n",
       "      <td>438</td>\n",
       "      <td>6708</td>\n",
       "      <td>3.5</td>\n",
       "      <td>1105650276</td>\n",
       "      <td>Matchstick Men (2003)</td>\n",
       "      <td>Comedy|Crime|Drama</td>\n",
       "    </tr>\n",
       "  </tbody>\n",
       "</table>\n",
       "</div>"
      ],
      "text/plain": [
       "        userId  movieId  rating   timestamp  \\\n",
       "100269     599    55061     1.0  1498531554   \n",
       "46979       45    50872     5.0  1193288853   \n",
       "2203       372      316     5.0   874416615   \n",
       "18635      477     2424     4.0  1200941338   \n",
       "87575      414    27873     3.5  1126758881   \n",
       "85781      608     5065     4.0  1117506631   \n",
       "74886      590      805     3.5  1258421509   \n",
       "40340      274     5481     2.5  1173819620   \n",
       "85817      448     5803     2.0  1087149734   \n",
       "495        369       47     3.5  1237083091   \n",
       "97819      387    26002     3.5  1172390168   \n",
       "21549      483     1266     4.5  1327277266   \n",
       "7774       100     1213     3.5  1100183731   \n",
       "17001      282    48516     4.5  1378498161   \n",
       "15698      144     3578     4.0  1137323761   \n",
       "25974      530      300     3.0   843226909   \n",
       "57118       21   116797     2.5  1423422308   \n",
       "96979      318   145080     2.5  1526236187   \n",
       "81555      288     1965     4.5  1079984319   \n",
       "75715      438     6708     3.5  1105650276   \n",
       "\n",
       "                                         title  \\\n",
       "100269                        Electroma (2006)   \n",
       "46979                       Ratatouille (2007)   \n",
       "2203                           Stargate (1994)   \n",
       "18635                   You've Got Mail (1998)   \n",
       "87575   Metallica: Some Kind of Monster (2004)   \n",
       "85781           Mothman Prophecies, The (2002)   \n",
       "74886                   Time to Kill, A (1996)   \n",
       "40340       Austin Powers in Goldmember (2002)   \n",
       "85817                             I Spy (2002)   \n",
       "495                Seven (a.k.a. Se7en) (1995)   \n",
       "97819               Confidential Report (1955)   \n",
       "21549                        Unforgiven (1992)   \n",
       "7774                         Goodfellas (1990)   \n",
       "17001                     Departed, The (2006)   \n",
       "15698                         Gladiator (2000)   \n",
       "25974                         Quiz Show (1994)   \n",
       "57118                The Imitation Game (2014)   \n",
       "96979               Extraordinary Tales (2015)   \n",
       "81555                          Repo Man (1984)   \n",
       "75715                    Matchstick Men (2003)   \n",
       "\n",
       "                                       genres  \n",
       "100269                           Drama|Sci-Fi  \n",
       "46979                Animation|Children|Drama  \n",
       "2203                  Action|Adventure|Sci-Fi  \n",
       "18635                          Comedy|Romance  \n",
       "87575                             Documentary  \n",
       "85781   Drama|Fantasy|Horror|Mystery|Thriller  \n",
       "74886                          Drama|Thriller  \n",
       "40340                                  Comedy  \n",
       "85817           Action|Adventure|Comedy|Crime  \n",
       "495                          Mystery|Thriller  \n",
       "97819            Crime|Drama|Mystery|Thriller  \n",
       "21549                           Drama|Western  \n",
       "7774                              Crime|Drama  \n",
       "17001                    Crime|Drama|Thriller  \n",
       "15698                  Action|Adventure|Drama  \n",
       "25974                                   Drama  \n",
       "57118                      Drama|Thriller|War  \n",
       "96979                Animation|Horror|Mystery  \n",
       "81555                           Comedy|Sci-Fi  \n",
       "75715                      Comedy|Crime|Drama  "
      ]
     },
     "execution_count": 102,
     "metadata": {},
     "output_type": "execute_result"
    }
   ],
   "source": [
    "mvrt.sample(20)"
   ]
  },
  {
   "cell_type": "code",
   "execution_count": 103,
   "id": "f4a42cef-7491-43a7-b409-a17c0c63852c",
   "metadata": {},
   "outputs": [
    {
     "data": {
      "text/plain": [
       "(100836, 6)"
      ]
     },
     "execution_count": 103,
     "metadata": {},
     "output_type": "execute_result"
    }
   ],
   "source": [
    "mvrt.shape"
   ]
  },
  {
   "cell_type": "markdown",
   "id": "b3a1ab30-7d4f-420e-aa1b-988d87caaf5b",
   "metadata": {},
   "source": [
    "## 3) Cleaning data"
   ]
  },
  {
   "cell_type": "markdown",
   "id": "135f8ba9-a8ad-40b9-8d5b-c754767c93ed",
   "metadata": {},
   "source": [
    "We have loaded and aggregated the data we want to use. Next we will prepare by cleaning the data."
   ]
  },
  {
   "cell_type": "code",
   "execution_count": 104,
   "id": "b4e5c7bf-03a3-4f60-8f89-014b5015c65e",
   "metadata": {},
   "outputs": [
    {
     "name": "stdout",
     "output_type": "stream",
     "text": [
      "--- Missing values: ---\n",
      "userId       0\n",
      "movieId      0\n",
      "rating       0\n",
      "timestamp    0\n",
      "title        0\n",
      "genres       0\n",
      "dtype: int64\n",
      "--- NaN values: -------\n",
      "userId       0\n",
      "movieId      0\n",
      "rating       0\n",
      "timestamp    0\n",
      "title        0\n",
      "genres       0\n",
      "dtype: int64\n"
     ]
    }
   ],
   "source": [
    "print(\"--- Missing values: ---\")\n",
    "print(mvrt.isnull().sum())\n",
    "\n",
    "print(\"--- NaN values: -------\")\n",
    "print(mvrt.isna().sum())"
   ]
  },
  {
   "cell_type": "markdown",
   "id": "195882f8-9b69-4756-9a50-e9ba953345a1",
   "metadata": {},
   "source": [
    "We can see that there are no missing or NaN values."
   ]
  },
  {
   "cell_type": "code",
   "execution_count": 105,
   "id": "ae56d7fa-654d-4f0e-80c9-13f838bf6fa8",
   "metadata": {},
   "outputs": [
    {
     "name": "stdout",
     "output_type": "stream",
     "text": [
      "Number of occurrences for each genre:\n",
      "Drama                 4361\n",
      "Comedy                3756\n",
      "Thriller              1894\n",
      "Action                1828\n",
      "Romance               1596\n",
      "Adventure             1263\n",
      "Crime                 1199\n",
      "Sci-Fi                 980\n",
      "Horror                 978\n",
      "Fantasy                779\n",
      "Children               664\n",
      "Animation              611\n",
      "Mystery                573\n",
      "Documentary            440\n",
      "War                    382\n",
      "Musical                334\n",
      "Western                167\n",
      "IMAX                   158\n",
      "Film-Noir               87\n",
      "(no genres listed)      34\n",
      "Name: count, dtype: int64\n"
     ]
    }
   ],
   "source": [
    "all_genres = movies['genres'].str.split('|', expand=True).stack()\n",
    "unique_genres_movies = all_genres.value_counts()\n",
    "print(\"Number of occurrences for each genre:\")\n",
    "print(unique_genres_movies)"
   ]
  },
  {
   "cell_type": "markdown",
   "id": "09ea5362-155b-48ba-b4a2-f94f011324b7",
   "metadata": {},
   "source": [
    "By looking at the number of occurrences for each genre, we can se there is 34 occurrences with no genres listed, we are going to remove movies without listed genres."
   ]
  },
  {
   "cell_type": "code",
   "execution_count": 106,
   "id": "d871b3f3-b3f8-4053-ba01-e368f76f8670",
   "metadata": {},
   "outputs": [],
   "source": [
    "rows_with_no_genre = mvrt[mvrt['genres'] == '(no genres listed)']"
   ]
  },
  {
   "cell_type": "code",
   "execution_count": 107,
   "id": "be975cf5-0da3-4dc2-bf44-be975a9c168b",
   "metadata": {},
   "outputs": [
    {
     "data": {
      "text/plain": [
       "movieId\n",
       "122896    7\n",
       "141866    3\n",
       "142456    2\n",
       "152037    2\n",
       "166024    2\n",
       "171495    2\n",
       "172591    2\n",
       "147250    1\n",
       "171749    1\n",
       "132084    1\n",
       "181719    1\n",
       "141131    1\n",
       "156605    1\n",
       "122888    1\n",
       "174403    1\n",
       "165489    1\n",
       "182727    1\n",
       "149330    1\n",
       "143410    1\n",
       "129250    1\n",
       "167570    1\n",
       "176601    1\n",
       "172497    1\n",
       "114335    1\n",
       "169034    1\n",
       "159779    1\n",
       "181413    1\n",
       "155589    1\n",
       "171891    1\n",
       "171631    1\n",
       "159161    1\n",
       "134861    1\n",
       "173535    1\n",
       "161008    1\n",
       "Name: count, dtype: int64"
      ]
     },
     "execution_count": 107,
     "metadata": {},
     "output_type": "execute_result"
    }
   ],
   "source": [
    "rows_with_no_genre.movieId.value_counts()"
   ]
  },
  {
   "cell_type": "code",
   "execution_count": 108,
   "id": "ea5eacab-5243-4003-be24-30b71a8867c6",
   "metadata": {},
   "outputs": [],
   "source": [
    "mvrt = mvrt[~mvrt['movieId'].isin(rows_with_no_genre['movieId'])]\n",
    "movies = movies[~movies['movieId'].isin(rows_with_no_genre['movieId'])]"
   ]
  },
  {
   "cell_type": "markdown",
   "id": "0d493cce",
   "metadata": {},
   "source": [
    "Removing movies with no genres listed in both the movies and mvrt dataframes."
   ]
  },
  {
   "cell_type": "code",
   "execution_count": 109,
   "id": "048fd8ad-73d8-417b-881b-f7929fbdd14c",
   "metadata": {},
   "outputs": [
    {
     "data": {
      "text/plain": [
       "(100789, 6)"
      ]
     },
     "execution_count": 109,
     "metadata": {},
     "output_type": "execute_result"
    }
   ],
   "source": [
    "mvrt.shape"
   ]
  },
  {
   "cell_type": "code",
   "execution_count": 110,
   "id": "7981106d-dcc3-4701-8f15-bce25cb79dd3",
   "metadata": {},
   "outputs": [
    {
     "name": "stdout",
     "output_type": "stream",
     "text": [
      "Number of occurrences for each genre:\n",
      "Drama          4361\n",
      "Comedy         3756\n",
      "Thriller       1894\n",
      "Action         1828\n",
      "Romance        1596\n",
      "Adventure      1263\n",
      "Crime          1199\n",
      "Sci-Fi          980\n",
      "Horror          978\n",
      "Fantasy         779\n",
      "Children        664\n",
      "Animation       611\n",
      "Mystery         573\n",
      "Documentary     440\n",
      "War             382\n",
      "Musical         334\n",
      "Western         167\n",
      "IMAX            158\n",
      "Film-Noir        87\n",
      "Name: count, dtype: int64\n"
     ]
    }
   ],
   "source": [
    "all_genres = movies['genres'].str.split('|', expand=True).stack()\n",
    "unique_genres = all_genres.value_counts()\n",
    "print(\"Number of occurrences for each genre:\")\n",
    "print(unique_genres)"
   ]
  },
  {
   "cell_type": "markdown",
   "id": "6329eaf2-1d9e-4508-b134-033d6e5b6788",
   "metadata": {},
   "source": [
    "Now we can see that we have succesfully gotten rid of movies with no listed genres."
   ]
  },
  {
   "cell_type": "markdown",
   "id": "68894cdd-e14a-43b9-9a3c-d5fc7431f235",
   "metadata": {},
   "source": [
    "Let's remove year from the title of the movie and give it it's own column."
   ]
  },
  {
   "cell_type": "code",
   "execution_count": 111,
   "id": "60cdf39b-606e-4fae-9153-149f17ca5b39",
   "metadata": {},
   "outputs": [],
   "source": [
    "mvrt['year_released'] = mvrt['title'].str.extract(r'\\((\\d{4})\\)', expand=False)\n",
    "mvrt['title'] = mvrt['title'].str.replace(r'\\s*\\(\\d{4}\\)\\s*', '', regex=True)"
   ]
  },
  {
   "cell_type": "code",
   "execution_count": 112,
   "id": "2e208f0b-18ce-46c5-bf7b-d173c160c76c",
   "metadata": {},
   "outputs": [
    {
     "data": {
      "text/html": [
       "<div>\n",
       "<style scoped>\n",
       "    .dataframe tbody tr th:only-of-type {\n",
       "        vertical-align: middle;\n",
       "    }\n",
       "\n",
       "    .dataframe tbody tr th {\n",
       "        vertical-align: top;\n",
       "    }\n",
       "\n",
       "    .dataframe thead th {\n",
       "        text-align: right;\n",
       "    }\n",
       "</style>\n",
       "<table border=\"1\" class=\"dataframe\">\n",
       "  <thead>\n",
       "    <tr style=\"text-align: right;\">\n",
       "      <th></th>\n",
       "      <th>userId</th>\n",
       "      <th>movieId</th>\n",
       "      <th>rating</th>\n",
       "      <th>timestamp</th>\n",
       "      <th>title</th>\n",
       "      <th>genres</th>\n",
       "      <th>year_released</th>\n",
       "    </tr>\n",
       "  </thead>\n",
       "  <tbody>\n",
       "    <tr>\n",
       "      <th>0</th>\n",
       "      <td>1</td>\n",
       "      <td>1</td>\n",
       "      <td>4.0</td>\n",
       "      <td>964982703</td>\n",
       "      <td>Toy Story</td>\n",
       "      <td>Adventure|Animation|Children|Comedy|Fantasy</td>\n",
       "      <td>1995</td>\n",
       "    </tr>\n",
       "    <tr>\n",
       "      <th>1</th>\n",
       "      <td>5</td>\n",
       "      <td>1</td>\n",
       "      <td>4.0</td>\n",
       "      <td>847434962</td>\n",
       "      <td>Toy Story</td>\n",
       "      <td>Adventure|Animation|Children|Comedy|Fantasy</td>\n",
       "      <td>1995</td>\n",
       "    </tr>\n",
       "    <tr>\n",
       "      <th>2</th>\n",
       "      <td>7</td>\n",
       "      <td>1</td>\n",
       "      <td>4.5</td>\n",
       "      <td>1106635946</td>\n",
       "      <td>Toy Story</td>\n",
       "      <td>Adventure|Animation|Children|Comedy|Fantasy</td>\n",
       "      <td>1995</td>\n",
       "    </tr>\n",
       "    <tr>\n",
       "      <th>3</th>\n",
       "      <td>15</td>\n",
       "      <td>1</td>\n",
       "      <td>2.5</td>\n",
       "      <td>1510577970</td>\n",
       "      <td>Toy Story</td>\n",
       "      <td>Adventure|Animation|Children|Comedy|Fantasy</td>\n",
       "      <td>1995</td>\n",
       "    </tr>\n",
       "    <tr>\n",
       "      <th>4</th>\n",
       "      <td>17</td>\n",
       "      <td>1</td>\n",
       "      <td>4.5</td>\n",
       "      <td>1305696483</td>\n",
       "      <td>Toy Story</td>\n",
       "      <td>Adventure|Animation|Children|Comedy|Fantasy</td>\n",
       "      <td>1995</td>\n",
       "    </tr>\n",
       "  </tbody>\n",
       "</table>\n",
       "</div>"
      ],
      "text/plain": [
       "   userId  movieId  rating   timestamp      title  \\\n",
       "0       1        1     4.0   964982703  Toy Story   \n",
       "1       5        1     4.0   847434962  Toy Story   \n",
       "2       7        1     4.5  1106635946  Toy Story   \n",
       "3      15        1     2.5  1510577970  Toy Story   \n",
       "4      17        1     4.5  1305696483  Toy Story   \n",
       "\n",
       "                                        genres year_released  \n",
       "0  Adventure|Animation|Children|Comedy|Fantasy          1995  \n",
       "1  Adventure|Animation|Children|Comedy|Fantasy          1995  \n",
       "2  Adventure|Animation|Children|Comedy|Fantasy          1995  \n",
       "3  Adventure|Animation|Children|Comedy|Fantasy          1995  \n",
       "4  Adventure|Animation|Children|Comedy|Fantasy          1995  "
      ]
     },
     "execution_count": 112,
     "metadata": {},
     "output_type": "execute_result"
    }
   ],
   "source": [
    "mvrt.head()"
   ]
  },
  {
   "cell_type": "code",
   "execution_count": 113,
   "id": "8011836f-253b-4f16-a11a-2b766b070ede",
   "metadata": {},
   "outputs": [
    {
     "data": {
      "text/plain": [
       "userId           0\n",
       "movieId          0\n",
       "rating           0\n",
       "timestamp        0\n",
       "title            0\n",
       "genres           0\n",
       "year_released    8\n",
       "dtype: int64"
      ]
     },
     "execution_count": 113,
     "metadata": {},
     "output_type": "execute_result"
    }
   ],
   "source": [
    "mvrt.isnull().sum()"
   ]
  },
  {
   "cell_type": "markdown",
   "id": "c6b54f00-d527-4e1a-b281-eec1c03e310a",
   "metadata": {},
   "source": [
    "We can see that 8 movies have no release year."
   ]
  },
  {
   "cell_type": "markdown",
   "id": "8bde1a54",
   "metadata": {},
   "source": [
    "Checking what movies has no release year."
   ]
  },
  {
   "cell_type": "code",
   "execution_count": 114,
   "id": "0c26d8b3-eebf-4342-9106-06dbbc42b6fd",
   "metadata": {},
   "outputs": [
    {
     "data": {
      "text/html": [
       "<div>\n",
       "<style scoped>\n",
       "    .dataframe tbody tr th:only-of-type {\n",
       "        vertical-align: middle;\n",
       "    }\n",
       "\n",
       "    .dataframe tbody tr th {\n",
       "        vertical-align: top;\n",
       "    }\n",
       "\n",
       "    .dataframe thead th {\n",
       "        text-align: right;\n",
       "    }\n",
       "</style>\n",
       "<table border=\"1\" class=\"dataframe\">\n",
       "  <thead>\n",
       "    <tr style=\"text-align: right;\">\n",
       "      <th></th>\n",
       "      <th>userId</th>\n",
       "      <th>movieId</th>\n",
       "      <th>rating</th>\n",
       "      <th>timestamp</th>\n",
       "      <th>title</th>\n",
       "      <th>genres</th>\n",
       "      <th>year_released</th>\n",
       "    </tr>\n",
       "  </thead>\n",
       "  <tbody>\n",
       "    <tr>\n",
       "      <th>93457</th>\n",
       "      <td>209</td>\n",
       "      <td>140956</td>\n",
       "      <td>3.5</td>\n",
       "      <td>1524522239</td>\n",
       "      <td>Ready Player One</td>\n",
       "      <td>Action|Sci-Fi|Thriller</td>\n",
       "      <td>NaN</td>\n",
       "    </tr>\n",
       "    <tr>\n",
       "      <th>93458</th>\n",
       "      <td>305</td>\n",
       "      <td>140956</td>\n",
       "      <td>4.5</td>\n",
       "      <td>1533043577</td>\n",
       "      <td>Ready Player One</td>\n",
       "      <td>Action|Sci-Fi|Thriller</td>\n",
       "      <td>NaN</td>\n",
       "    </tr>\n",
       "    <tr>\n",
       "      <th>93459</th>\n",
       "      <td>380</td>\n",
       "      <td>140956</td>\n",
       "      <td>3.0</td>\n",
       "      <td>1534176158</td>\n",
       "      <td>Ready Player One</td>\n",
       "      <td>Action|Sci-Fi|Thriller</td>\n",
       "      <td>NaN</td>\n",
       "    </tr>\n",
       "    <tr>\n",
       "      <th>93460</th>\n",
       "      <td>514</td>\n",
       "      <td>140956</td>\n",
       "      <td>3.0</td>\n",
       "      <td>1533946119</td>\n",
       "      <td>Ready Player One</td>\n",
       "      <td>Action|Sci-Fi|Thriller</td>\n",
       "      <td>NaN</td>\n",
       "    </tr>\n",
       "    <tr>\n",
       "      <th>93476</th>\n",
       "      <td>210</td>\n",
       "      <td>40697</td>\n",
       "      <td>4.0</td>\n",
       "      <td>1527266191</td>\n",
       "      <td>Babylon 5</td>\n",
       "      <td>Sci-Fi</td>\n",
       "      <td>NaN</td>\n",
       "    </tr>\n",
       "    <tr>\n",
       "      <th>93477</th>\n",
       "      <td>528</td>\n",
       "      <td>40697</td>\n",
       "      <td>0.5</td>\n",
       "      <td>1391736467</td>\n",
       "      <td>Babylon 5</td>\n",
       "      <td>Sci-Fi</td>\n",
       "      <td>NaN</td>\n",
       "    </tr>\n",
       "    <tr>\n",
       "      <th>96413</th>\n",
       "      <td>306</td>\n",
       "      <td>149334</td>\n",
       "      <td>3.0</td>\n",
       "      <td>1518380372</td>\n",
       "      <td>Nocturnal Animals</td>\n",
       "      <td>Drama|Thriller</td>\n",
       "      <td>NaN</td>\n",
       "    </tr>\n",
       "    <tr>\n",
       "      <th>99001</th>\n",
       "      <td>462</td>\n",
       "      <td>162414</td>\n",
       "      <td>5.0</td>\n",
       "      <td>1478489531</td>\n",
       "      <td>Moonlight</td>\n",
       "      <td>Drama</td>\n",
       "      <td>NaN</td>\n",
       "    </tr>\n",
       "  </tbody>\n",
       "</table>\n",
       "</div>"
      ],
      "text/plain": [
       "       userId  movieId  rating   timestamp              title  \\\n",
       "93457     209   140956     3.5  1524522239   Ready Player One   \n",
       "93458     305   140956     4.5  1533043577   Ready Player One   \n",
       "93459     380   140956     3.0  1534176158   Ready Player One   \n",
       "93460     514   140956     3.0  1533946119   Ready Player One   \n",
       "93476     210    40697     4.0  1527266191          Babylon 5   \n",
       "93477     528    40697     0.5  1391736467          Babylon 5   \n",
       "96413     306   149334     3.0  1518380372  Nocturnal Animals   \n",
       "99001     462   162414     5.0  1478489531          Moonlight   \n",
       "\n",
       "                       genres year_released  \n",
       "93457  Action|Sci-Fi|Thriller           NaN  \n",
       "93458  Action|Sci-Fi|Thriller           NaN  \n",
       "93459  Action|Sci-Fi|Thriller           NaN  \n",
       "93460  Action|Sci-Fi|Thriller           NaN  \n",
       "93476                  Sci-Fi           NaN  \n",
       "93477                  Sci-Fi           NaN  \n",
       "96413          Drama|Thriller           NaN  \n",
       "99001                   Drama           NaN  "
      ]
     },
     "execution_count": 114,
     "metadata": {},
     "output_type": "execute_result"
    }
   ],
   "source": [
    "mvrt_movies_with_no_year = mvrt[mvrt['year_released'].isnull()]\n",
    "mvrt_movies_with_no_year"
   ]
  },
  {
   "cell_type": "markdown",
   "id": "01ca78dd-5c5a-480e-a668-4f6529f15b01",
   "metadata": {},
   "source": [
    "We are adding the missing release years on our own."
   ]
  },
  {
   "cell_type": "code",
   "execution_count": 115,
   "id": "f9bda5d0-035c-40f1-8432-f79c7d0c0ffd",
   "metadata": {},
   "outputs": [],
   "source": [
    "#giving the movies with no release year the correct year.\n",
    "mvrt.loc[mvrt['title'] == 'Ready Player One', 'year_released'] = 2018\n",
    "mvrt.loc[mvrt['title'] == 'Babylon 5', 'year_released'] = 1994\n",
    "mvrt.loc[mvrt['title'] == 'Nocturnal Animals', 'year_released'] = 2016\n",
    "mvrt.loc[mvrt['title'] == 'Moonlight', 'year_released'] = 2016"
   ]
  },
  {
   "cell_type": "code",
   "execution_count": 116,
   "id": "807feae9-729e-44c5-91b0-b66586faca1a",
   "metadata": {},
   "outputs": [
    {
     "data": {
      "text/plain": [
       "(0, 7)"
      ]
     },
     "execution_count": 116,
     "metadata": {},
     "output_type": "execute_result"
    }
   ],
   "source": [
    "#checking that movies with no year now is empty\n",
    "mvrt_movies_with_no_year1 = mvrt[pd.isna(mvrt['year_released'])]\n",
    "mvrt_movies_with_no_year1.shape"
   ]
  },
  {
   "cell_type": "code",
   "execution_count": 117,
   "id": "0ff5b98b-c723-4bb0-9af5-99b63a1dc23a",
   "metadata": {},
   "outputs": [],
   "source": [
    "mvrt.drop(columns=['timestamp'], inplace=True)"
   ]
  },
  {
   "cell_type": "markdown",
   "id": "81fa3c94",
   "metadata": {},
   "source": [
    "Dropping the timestamp columnn, since we are not planning on using it."
   ]
  },
  {
   "cell_type": "code",
   "execution_count": 118,
   "id": "7a833931-47fb-4dba-b57f-257ce6052e69",
   "metadata": {},
   "outputs": [
    {
     "data": {
      "text/html": [
       "<div>\n",
       "<style scoped>\n",
       "    .dataframe tbody tr th:only-of-type {\n",
       "        vertical-align: middle;\n",
       "    }\n",
       "\n",
       "    .dataframe tbody tr th {\n",
       "        vertical-align: top;\n",
       "    }\n",
       "\n",
       "    .dataframe thead th {\n",
       "        text-align: right;\n",
       "    }\n",
       "</style>\n",
       "<table border=\"1\" class=\"dataframe\">\n",
       "  <thead>\n",
       "    <tr style=\"text-align: right;\">\n",
       "      <th></th>\n",
       "      <th>userId</th>\n",
       "      <th>movieId</th>\n",
       "      <th>rating</th>\n",
       "      <th>title</th>\n",
       "      <th>genres</th>\n",
       "      <th>year_released</th>\n",
       "    </tr>\n",
       "  </thead>\n",
       "  <tbody>\n",
       "    <tr>\n",
       "      <th>92497</th>\n",
       "      <td>462</td>\n",
       "      <td>3925</td>\n",
       "      <td>1.5</td>\n",
       "      <td>Stranger Than Paradise</td>\n",
       "      <td>Comedy|Drama</td>\n",
       "      <td>1984</td>\n",
       "    </tr>\n",
       "    <tr>\n",
       "      <th>5703</th>\n",
       "      <td>590</td>\n",
       "      <td>923</td>\n",
       "      <td>4.0</td>\n",
       "      <td>Citizen Kane</td>\n",
       "      <td>Drama|Mystery</td>\n",
       "      <td>1941</td>\n",
       "    </tr>\n",
       "    <tr>\n",
       "      <th>22592</th>\n",
       "      <td>19</td>\n",
       "      <td>2186</td>\n",
       "      <td>4.0</td>\n",
       "      <td>Strangers on a Train</td>\n",
       "      <td>Crime|Drama|Film-Noir|Thriller</td>\n",
       "      <td>1951</td>\n",
       "    </tr>\n",
       "  </tbody>\n",
       "</table>\n",
       "</div>"
      ],
      "text/plain": [
       "       userId  movieId  rating                   title  \\\n",
       "92497     462     3925     1.5  Stranger Than Paradise   \n",
       "5703      590      923     4.0            Citizen Kane   \n",
       "22592      19     2186     4.0    Strangers on a Train   \n",
       "\n",
       "                               genres year_released  \n",
       "92497                    Comedy|Drama          1984  \n",
       "5703                    Drama|Mystery          1941  \n",
       "22592  Crime|Drama|Film-Noir|Thriller          1951  "
      ]
     },
     "execution_count": 118,
     "metadata": {},
     "output_type": "execute_result"
    }
   ],
   "source": [
    "mvrt.sample(3)"
   ]
  },
  {
   "cell_type": "code",
   "execution_count": 119,
   "id": "4d1e943b-6715-46f6-8a76-fdba7c8ae169",
   "metadata": {},
   "outputs": [
    {
     "data": {
      "text/plain": [
       "userId             int64\n",
       "movieId            int64\n",
       "rating           float64\n",
       "title             object\n",
       "genres            object\n",
       "year_released     object\n",
       "dtype: object"
      ]
     },
     "execution_count": 119,
     "metadata": {},
     "output_type": "execute_result"
    }
   ],
   "source": [
    "mvrt.dtypes"
   ]
  },
  {
   "cell_type": "markdown",
   "id": "4c863b1c",
   "metadata": {},
   "source": [
    "Checking the type of data from each column."
   ]
  },
  {
   "cell_type": "code",
   "execution_count": 120,
   "id": "40a227ef-3a5f-48bf-bf8b-5ab08548f1d9",
   "metadata": {},
   "outputs": [
    {
     "data": {
      "text/plain": [
       "userId             int64\n",
       "movieId            int64\n",
       "rating           float64\n",
       "title             object\n",
       "genres            object\n",
       "year_released      int64\n",
       "dtype: object"
      ]
     },
     "execution_count": 120,
     "metadata": {},
     "output_type": "execute_result"
    }
   ],
   "source": [
    "mvrt['year_released'] = pd.to_numeric(mvrt['year_released'], errors='coerce')\n",
    "mvrt.dtypes"
   ]
  },
  {
   "cell_type": "markdown",
   "id": "ba38aef7",
   "metadata": {},
   "source": [
    "Changing year_released into an int, so we can use it for calculating and making graphs."
   ]
  },
  {
   "cell_type": "markdown",
   "id": "a6e20cff-e48d-4761-bf3b-467f58830830",
   "metadata": {},
   "source": [
    "## 4) Exploring data"
   ]
  },
  {
   "cell_type": "code",
   "execution_count": 121,
   "id": "94e18c2a-0636-4d84-8670-709221a0baca",
   "metadata": {},
   "outputs": [
    {
     "data": {
      "image/png": "[encoded data removed]",
      "text/plain": [
       "<Figure size 640x480 with 1 Axes>"
      ]
     },
     "metadata": {},
     "output_type": "display_data"
    }
   ],
   "source": [
    "plt.bar(unique_genres.index, unique_genres)\n",
    "plt.xlabel('Genres')\n",
    "plt.ylabel('Count')\n",
    "plt.title('Genre Distribution')\n",
    "plt.xticks(rotation=45, ha='right')\n",
    "plt.show()"
   ]
  },
  {
   "cell_type": "code",
   "execution_count": 122,
   "id": "222d3873-ef8b-4b9c-a168-9c606df1c043",
   "metadata": {},
   "outputs": [
    {
     "data": {
      "image/png": "[encoded data removed]",
      "text/plain": [
       "<Figure size 1000x800 with 1 Axes>"
      ]
     },
     "metadata": {},
     "output_type": "display_data"
    }
   ],
   "source": [
    "threshold = 2\n",
    "filtered_genres = unique_genres[unique_genres >= threshold]\n",
    "plt.figure(figsize=(10, 8))\n",
    "patches, _, autotexts = plt.pie(filtered_genres, labels=None, autopct=lambda p: f'{p:.1f}%' if p >= threshold else '',\n",
    "                                startangle=45, labeldistance=1.1)\n",
    "plt.legend(patches, filtered_genres.index, loc=\"center left\", bbox_to_anchor=(1, 0.5))\n",
    "plt.title('Genre Distribution as pie chart')\n",
    "plt.show()"
   ]
  },
  {
   "cell_type": "markdown",
   "id": "3b38578c",
   "metadata": {},
   "source": [
    "This is the distribution of the genres in the dataset. Viewed first as a histogram with numbers, and now as a pie chart with percentages. The most common genre is Drama, followed by Comedy and Thriller."
   ]
  },
  {
   "cell_type": "code",
   "execution_count": 123,
   "id": "c182f8c9-6f62-4a9e-ab0d-2ae103bf34dd",
   "metadata": {},
   "outputs": [
    {
     "data": {
      "image/png": "[encoded data removed]",
      "text/plain": [
       "<Figure size 640x480 with 1 Axes>"
      ]
     },
     "metadata": {},
     "output_type": "display_data"
    }
   ],
   "source": [
    "plt.hist(mvrt['rating'], bins=10, edgecolor='black')\n",
    "plt.xlabel('Rating')\n",
    "plt.ylabel('Count')\n",
    "plt.title('Histogram of Ratings')\n",
    "plt.show()"
   ]
  },
  {
   "cell_type": "markdown",
   "id": "1b0e631c",
   "metadata": {},
   "source": [
    "Here we can see that the most common rating is 4.0, and the least common is 0.5."
   ]
  },
  {
   "cell_type": "code",
   "execution_count": 124,
   "id": "1ec96930-fd13-4546-b3d0-bf91a4874d78",
   "metadata": {},
   "outputs": [],
   "source": [
    "genres_list = ['Drama', 'Comedy', 'Action', 'Thriller', 'Adventure', 'Romance',\n",
    "               'Sci-Fi', 'Crime', 'Fantasy', 'Children', 'Mystery', 'Horror',\n",
    "               'Animation', 'War', 'IMAX', 'Musical', 'Western', 'Documentary', 'Film-Noir']"
   ]
  },
  {
   "cell_type": "code",
   "execution_count": 125,
   "id": "59f88396-1024-4c3a-99b5-fecdb79d579a",
   "metadata": {},
   "outputs": [],
   "source": [
    "def average_rating_by_genre(data, genre_list):\n",
    "\n",
    "    genres_expanded = data['genres'].str.get_dummies(sep='|')\n",
    "    \n",
    "    data_genres = pd.concat([data, genres_expanded], axis=1)\n",
    "    \n",
    "    average_ratings = {}\n",
    "    for genre in genre_list:\n",
    "        if genre in data_genres.columns:\n",
    "            average_rating = data_genres[data_genres[genre] == 1]['rating'].mean()\n",
    "            average_ratings[genre] = average_rating\n",
    "\n",
    "    return average_ratings"
   ]
  },
  {
   "cell_type": "markdown",
   "id": "46299035",
   "metadata": {},
   "source": [
    "In the function average_rating_by_genre, we use one-hot to encode the genres, and then merge with the previous dataframe. Then we calcuate the average rating for each genre."
   ]
  },
  {
   "cell_type": "code",
   "execution_count": 126,
   "id": "64a2616e-9a63-4212-931c-7d280ca81c15",
   "metadata": {},
   "outputs": [
    {
     "data": {
      "text/plain": [
       "{'Drama': 3.6561844113718758,\n",
       " 'Comedy': 3.3847207640898267,\n",
       " 'Action': 3.447984331646809,\n",
       " 'Thriller': 3.4937055799183425,\n",
       " 'Adventure': 3.5086089151939075,\n",
       " 'Romance': 3.5065107040388437,\n",
       " 'Sci-Fi': 3.455721162210752,\n",
       " 'Crime': 3.658293867274144,\n",
       " 'Fantasy': 3.4910005070136894,\n",
       " 'Children': 3.412956125108601,\n",
       " 'Mystery': 3.632460255407871,\n",
       " 'Horror': 3.258195034974626,\n",
       " 'Animation': 3.6299370349170004,\n",
       " 'War': 3.8082938876312,\n",
       " 'IMAX': 3.618335343787696,\n",
       " 'Musical': 3.5636781053649105,\n",
       " 'Western': 3.583937823834197,\n",
       " 'Documentary': 3.797785069729286,\n",
       " 'Film-Noir': 3.920114942528736}"
      ]
     },
     "execution_count": 126,
     "metadata": {},
     "output_type": "execute_result"
    }
   ],
   "source": [
    "result = average_rating_by_genre(mvrt,genres_list)\n",
    "result"
   ]
  },
  {
   "cell_type": "code",
   "execution_count": 127,
   "id": "4b8ab972-d834-4e70-8a16-25ca3f561021",
   "metadata": {},
   "outputs": [
    {
     "data": {
      "image/png": "[encoded data removed]",
      "text/plain": [
       "<Figure size 640x480 with 1 Axes>"
      ]
     },
     "metadata": {},
     "output_type": "display_data"
    }
   ],
   "source": [
    "plt.bar(result.keys(), result.values())\n",
    "plt.xlabel('Genres')\n",
    "plt.ylabel('Average Rating')\n",
    "plt.title('Average Ratings by Genre')\n",
    "plt.ylim(0, 5)  \n",
    "plt.xticks(rotation=45, ha='right')  \n",
    "plt.show()"
   ]
  },
  {
   "cell_type": "markdown",
   "id": "d7d7a9bb",
   "metadata": {},
   "source": [
    "Here we have the average rating for each genre. The highest average rating is for Film-Noir and the lowest is for Horror.\n",
    "The reason for this could be that we have so few film-noir movies to base our data on. "
   ]
  },
  {
   "cell_type": "code",
   "execution_count": 128,
   "id": "ed80658b-1e47-4fc6-8f0e-293a61b9fc90",
   "metadata": {},
   "outputs": [
    {
     "data": {
      "image/png": "[encoded data removed]",
      "text/plain": [
       "<Figure size 640x480 with 1 Axes>"
      ]
     },
     "metadata": {},
     "output_type": "display_data"
    }
   ],
   "source": [
    "mvrt['decade'] = (mvrt['year_released'] // 10) * 10\n",
    "average_ratings_by_decade = mvrt.groupby('decade')['rating'].mean()\n",
    "plt.bar(average_ratings_by_decade.index.astype(str), average_ratings_by_decade.values)\n",
    "plt.xlabel('Decade')\n",
    "plt.ylabel('Average Rating')\n",
    "plt.ylim(0, 5) \n",
    "plt.title('Average Ratings by Decade')\n",
    "plt.xticks(rotation=45, ha='right')\n",
    "plt.show()"
   ]
  },
  {
   "cell_type": "markdown",
   "id": "fd9c3347",
   "metadata": {},
   "source": [
    "We can see that the best movies were made in the 1940's and 1950's. "
   ]
  },
  {
   "cell_type": "code",
   "execution_count": 129,
   "id": "28f6e17e-ceec-45e0-949d-39330432a810",
   "metadata": {},
   "outputs": [
    {
     "data": {
      "text/html": [
       "<div>\n",
       "<style scoped>\n",
       "    .dataframe tbody tr th:only-of-type {\n",
       "        vertical-align: middle;\n",
       "    }\n",
       "\n",
       "    .dataframe tbody tr th {\n",
       "        vertical-align: top;\n",
       "    }\n",
       "\n",
       "    .dataframe thead th {\n",
       "        text-align: right;\n",
       "    }\n",
       "</style>\n",
       "<table border=\"1\" class=\"dataframe\">\n",
       "  <thead>\n",
       "    <tr style=\"text-align: right;\">\n",
       "      <th></th>\n",
       "      <th>userId</th>\n",
       "      <th>movieId</th>\n",
       "      <th>rating</th>\n",
       "      <th>title</th>\n",
       "      <th>genres</th>\n",
       "      <th>year_released</th>\n",
       "      <th>decade</th>\n",
       "      <th>vote_count</th>\n",
       "    </tr>\n",
       "  </thead>\n",
       "  <tbody>\n",
       "    <tr>\n",
       "      <th>0</th>\n",
       "      <td>1</td>\n",
       "      <td>1</td>\n",
       "      <td>4.0</td>\n",
       "      <td>Toy Story</td>\n",
       "      <td>Adventure|Animation|Children|Comedy|Fantasy</td>\n",
       "      <td>1995</td>\n",
       "      <td>1990</td>\n",
       "      <td>215</td>\n",
       "    </tr>\n",
       "    <tr>\n",
       "      <th>1</th>\n",
       "      <td>5</td>\n",
       "      <td>1</td>\n",
       "      <td>4.0</td>\n",
       "      <td>Toy Story</td>\n",
       "      <td>Adventure|Animation|Children|Comedy|Fantasy</td>\n",
       "      <td>1995</td>\n",
       "      <td>1990</td>\n",
       "      <td>215</td>\n",
       "    </tr>\n",
       "    <tr>\n",
       "      <th>2</th>\n",
       "      <td>7</td>\n",
       "      <td>1</td>\n",
       "      <td>4.5</td>\n",
       "      <td>Toy Story</td>\n",
       "      <td>Adventure|Animation|Children|Comedy|Fantasy</td>\n",
       "      <td>1995</td>\n",
       "      <td>1990</td>\n",
       "      <td>215</td>\n",
       "    </tr>\n",
       "    <tr>\n",
       "      <th>3</th>\n",
       "      <td>15</td>\n",
       "      <td>1</td>\n",
       "      <td>2.5</td>\n",
       "      <td>Toy Story</td>\n",
       "      <td>Adventure|Animation|Children|Comedy|Fantasy</td>\n",
       "      <td>1995</td>\n",
       "      <td>1990</td>\n",
       "      <td>215</td>\n",
       "    </tr>\n",
       "    <tr>\n",
       "      <th>4</th>\n",
       "      <td>17</td>\n",
       "      <td>1</td>\n",
       "      <td>4.5</td>\n",
       "      <td>Toy Story</td>\n",
       "      <td>Adventure|Animation|Children|Comedy|Fantasy</td>\n",
       "      <td>1995</td>\n",
       "      <td>1990</td>\n",
       "      <td>215</td>\n",
       "    </tr>\n",
       "  </tbody>\n",
       "</table>\n",
       "</div>"
      ],
      "text/plain": [
       "   userId  movieId  rating      title  \\\n",
       "0       1        1     4.0  Toy Story   \n",
       "1       5        1     4.0  Toy Story   \n",
       "2       7        1     4.5  Toy Story   \n",
       "3      15        1     2.5  Toy Story   \n",
       "4      17        1     4.5  Toy Story   \n",
       "\n",
       "                                        genres  year_released  decade  \\\n",
       "0  Adventure|Animation|Children|Comedy|Fantasy           1995    1990   \n",
       "1  Adventure|Animation|Children|Comedy|Fantasy           1995    1990   \n",
       "2  Adventure|Animation|Children|Comedy|Fantasy           1995    1990   \n",
       "3  Adventure|Animation|Children|Comedy|Fantasy           1995    1990   \n",
       "4  Adventure|Animation|Children|Comedy|Fantasy           1995    1990   \n",
       "\n",
       "   vote_count  \n",
       "0         215  \n",
       "1         215  \n",
       "2         215  \n",
       "3         215  \n",
       "4         215  "
      ]
     },
     "execution_count": 129,
     "metadata": {},
     "output_type": "execute_result"
    }
   ],
   "source": [
    "vote_counts = mvrt['movieId'].value_counts().reset_index()\n",
    "vote_counts.columns = ['movieId', 'vote_count']\n",
    "mvrt = pd.merge(mvrt, vote_counts, on='movieId', how='left', suffixes=('_original', '_count'))\n",
    "mvrt.head()"
   ]
  },
  {
   "cell_type": "markdown",
   "id": "c72fbabb",
   "metadata": {},
   "source": [
    "Counting how many ratings each movie has, and adding it to the mvrt dataframe."
   ]
  },
  {
   "cell_type": "code",
   "execution_count": 130,
   "id": "a2ab7da4-0e4f-45da-8109-9273045fb150",
   "metadata": {},
   "outputs": [],
   "source": [
    "merged_movies = pd.merge(movies, vote_counts, on='movieId', how='left')"
   ]
  },
  {
   "cell_type": "markdown",
   "id": "7a7b42e4",
   "metadata": {},
   "source": [
    "We are merging movies with vote_count so we only get each movie once for calculating the quantile."
   ]
  },
  {
   "cell_type": "code",
   "execution_count": 131,
   "id": "d4ab8f97-c7b7-482b-b276-5e1bb01ff145",
   "metadata": {},
   "outputs": [
    {
     "data": {
      "text/html": [
       "<div>\n",
       "<style scoped>\n",
       "    .dataframe tbody tr th:only-of-type {\n",
       "        vertical-align: middle;\n",
       "    }\n",
       "\n",
       "    .dataframe tbody tr th {\n",
       "        vertical-align: top;\n",
       "    }\n",
       "\n",
       "    .dataframe thead th {\n",
       "        text-align: right;\n",
       "    }\n",
       "</style>\n",
       "<table border=\"1\" class=\"dataframe\">\n",
       "  <thead>\n",
       "    <tr style=\"text-align: right;\">\n",
       "      <th></th>\n",
       "      <th>movieId</th>\n",
       "      <th>title</th>\n",
       "      <th>genres</th>\n",
       "      <th>vote_count</th>\n",
       "    </tr>\n",
       "  </thead>\n",
       "  <tbody>\n",
       "    <tr>\n",
       "      <th>0</th>\n",
       "      <td>1</td>\n",
       "      <td>Toy Story (1995)</td>\n",
       "      <td>Adventure|Animation|Children|Comedy|Fantasy</td>\n",
       "      <td>215.0</td>\n",
       "    </tr>\n",
       "    <tr>\n",
       "      <th>1</th>\n",
       "      <td>2</td>\n",
       "      <td>Jumanji (1995)</td>\n",
       "      <td>Adventure|Children|Fantasy</td>\n",
       "      <td>110.0</td>\n",
       "    </tr>\n",
       "    <tr>\n",
       "      <th>2</th>\n",
       "      <td>3</td>\n",
       "      <td>Grumpier Old Men (1995)</td>\n",
       "      <td>Comedy|Romance</td>\n",
       "      <td>52.0</td>\n",
       "    </tr>\n",
       "    <tr>\n",
       "      <th>3</th>\n",
       "      <td>4</td>\n",
       "      <td>Waiting to Exhale (1995)</td>\n",
       "      <td>Comedy|Drama|Romance</td>\n",
       "      <td>7.0</td>\n",
       "    </tr>\n",
       "    <tr>\n",
       "      <th>4</th>\n",
       "      <td>5</td>\n",
       "      <td>Father of the Bride Part II (1995)</td>\n",
       "      <td>Comedy</td>\n",
       "      <td>49.0</td>\n",
       "    </tr>\n",
       "    <tr>\n",
       "      <th>...</th>\n",
       "      <td>...</td>\n",
       "      <td>...</td>\n",
       "      <td>...</td>\n",
       "      <td>...</td>\n",
       "    </tr>\n",
       "    <tr>\n",
       "      <th>9703</th>\n",
       "      <td>193581</td>\n",
       "      <td>Black Butler: Book of the Atlantic (2017)</td>\n",
       "      <td>Action|Animation|Comedy|Fantasy</td>\n",
       "      <td>1.0</td>\n",
       "    </tr>\n",
       "    <tr>\n",
       "      <th>9704</th>\n",
       "      <td>193583</td>\n",
       "      <td>No Game No Life: Zero (2017)</td>\n",
       "      <td>Animation|Comedy|Fantasy</td>\n",
       "      <td>1.0</td>\n",
       "    </tr>\n",
       "    <tr>\n",
       "      <th>9705</th>\n",
       "      <td>193585</td>\n",
       "      <td>Flint (2017)</td>\n",
       "      <td>Drama</td>\n",
       "      <td>1.0</td>\n",
       "    </tr>\n",
       "    <tr>\n",
       "      <th>9706</th>\n",
       "      <td>193587</td>\n",
       "      <td>Bungo Stray Dogs: Dead Apple (2018)</td>\n",
       "      <td>Action|Animation</td>\n",
       "      <td>1.0</td>\n",
       "    </tr>\n",
       "    <tr>\n",
       "      <th>9707</th>\n",
       "      <td>193609</td>\n",
       "      <td>Andrew Dice Clay: Dice Rules (1991)</td>\n",
       "      <td>Comedy</td>\n",
       "      <td>1.0</td>\n",
       "    </tr>\n",
       "  </tbody>\n",
       "</table>\n",
       "<p>9708 rows × 4 columns</p>\n",
       "</div>"
      ],
      "text/plain": [
       "      movieId                                      title  \\\n",
       "0           1                           Toy Story (1995)   \n",
       "1           2                             Jumanji (1995)   \n",
       "2           3                    Grumpier Old Men (1995)   \n",
       "3           4                   Waiting to Exhale (1995)   \n",
       "4           5         Father of the Bride Part II (1995)   \n",
       "...       ...                                        ...   \n",
       "9703   193581  Black Butler: Book of the Atlantic (2017)   \n",
       "9704   193583               No Game No Life: Zero (2017)   \n",
       "9705   193585                               Flint (2017)   \n",
       "9706   193587        Bungo Stray Dogs: Dead Apple (2018)   \n",
       "9707   193609        Andrew Dice Clay: Dice Rules (1991)   \n",
       "\n",
       "                                           genres  vote_count  \n",
       "0     Adventure|Animation|Children|Comedy|Fantasy       215.0  \n",
       "1                      Adventure|Children|Fantasy       110.0  \n",
       "2                                  Comedy|Romance        52.0  \n",
       "3                            Comedy|Drama|Romance         7.0  \n",
       "4                                          Comedy        49.0  \n",
       "...                                           ...         ...  \n",
       "9703              Action|Animation|Comedy|Fantasy         1.0  \n",
       "9704                     Animation|Comedy|Fantasy         1.0  \n",
       "9705                                        Drama         1.0  \n",
       "9706                             Action|Animation         1.0  \n",
       "9707                                       Comedy         1.0  \n",
       "\n",
       "[9708 rows x 4 columns]"
      ]
     },
     "execution_count": 131,
     "metadata": {},
     "output_type": "execute_result"
    }
   ],
   "source": [
    "merged_movies"
   ]
  },
  {
   "cell_type": "code",
   "execution_count": 132,
   "id": "5a890d40-aadc-4274-9887-7ec5238ed0c6",
   "metadata": {},
   "outputs": [],
   "source": [
    "merged_movies['year_released'] = merged_movies['title'].str.extract(r'\\((\\d{4})\\)', expand=False)\n",
    "merged_movies['title'] = merged_movies['title'].str.replace(r'\\s*\\(\\d{4}\\)\\s*', '', regex=True)\n",
    "movies['year_released'] = movies['title'].str.extract(r'\\((\\d{4})\\)', expand=False)\n",
    "movies['title'] = movies['title'].str.replace(r'\\s*\\(\\d{4}\\)\\s*', '', regex=True)"
   ]
  },
  {
   "cell_type": "markdown",
   "id": "2a7aff22",
   "metadata": {},
   "source": [
    "Adding the year to the movies dataframe."
   ]
  },
  {
   "cell_type": "code",
   "execution_count": 133,
   "id": "950a0a13-f949-452b-a190-98f30da42e6e",
   "metadata": {},
   "outputs": [
    {
     "data": {
      "text/plain": [
       "movieId           int64\n",
       "title            object\n",
       "genres           object\n",
       "year_released     Int64\n",
       "dtype: object"
      ]
     },
     "execution_count": 133,
     "metadata": {},
     "output_type": "execute_result"
    }
   ],
   "source": [
    "movies['year_released'] = pd.to_numeric(movies['year_released'], errors='coerce').astype('Int64')\n",
    "movies.dtypes"
   ]
  },
  {
   "cell_type": "code",
   "execution_count": 134,
   "id": "940edfd7-306a-44c7-b334-9046842a3349",
   "metadata": {},
   "outputs": [
    {
     "data": {
      "image/png": "[encoded data removed]",
      "text/plain": [
       "<Figure size 1600x800 with 1 Axes>"
      ]
     },
     "metadata": {},
     "output_type": "display_data"
    }
   ],
   "source": [
    "def stackplot_genres_per_10year(df, saving=False, filename=None):\n",
    "    sns.set(style=\"whitegrid\")\n",
    "    df = df.sort_values(\"year_released\")\n",
    "\n",
    "    df = df[df[\"year_released\"].notna()]\n",
    "\n",
    "    #Create a range of 10-year intervals\n",
    "    year_intervals = pd.cut(df[\"year_released\"], bins=range(df[\"year_released\"].min(), df[\"year_released\"].max() + 11, 10), right=False)\n",
    "\n",
    "    counts = []\n",
    "    genres = df[\"genres\"].str.split(\"|\").explode().unique()\n",
    "\n",
    "    for genre in genres:\n",
    "        #Use observed=False to suppress the FutureWarning\n",
    "        genre_counts = df[df[\"genres\"].str.contains(fr'\\b{genre}\\b', na=False)].groupby(year_intervals, observed=False).size()     \n",
    "        counts.append(genre_counts)\n",
    "\n",
    "    counts_df = pd.concat(counts, axis=1, keys=genres).fillna(0)\n",
    "    \n",
    "    #Normalize the counts to get percentages\n",
    "    counts_df = counts_df.div(counts_df.sum(axis=1), axis=0) * 100\n",
    "\n",
    "    #Create a stackplot\n",
    "    f, ax = plt.subplots(figsize=(16, 8))\n",
    "    plt.stackplot(counts_df.index.astype(str), counts_df.T, labels=genres)\n",
    "    \n",
    "    plt.xlabel(\"Year Released (10-Year Intervals)\")\n",
    "    plt.ylabel(\"Percentage of Movies (%)\")\n",
    "    plt.title(\"Stacked Percentage of Movies by Genre in 10-Year Intervals\")\n",
    "    plt.legend(title=\"Genre\", bbox_to_anchor=(1.05, 1), loc='upper left')  #Move legend outside the plot\n",
    "\n",
    "    if saving:\n",
    "        plt.savefig(filename, dpi=200, bbox_inches=\"tight\")\n",
    "\n",
    "    plt.show()\n",
    "\n",
    "stackplot_genres_per_10year(movies, saving=False, filename=None)"
   ]
  },
  {
   "cell_type": "markdown",
   "id": "5522604b",
   "metadata": {},
   "source": [
    "Creating a stackplot to show the percentages of what genres came out in what year. "
   ]
  },
  {
   "cell_type": "code",
   "execution_count": 135,
   "id": "653ee04e-1bf1-4dbd-91f3-083d4ec79354",
   "metadata": {},
   "outputs": [
    {
     "name": "stdout",
     "output_type": "stream",
     "text": [
      "27.0\n"
     ]
    }
   ],
   "source": [
    "m = merged_movies['vote_count'].quantile(0.90)\n",
    "print(m)"
   ]
  },
  {
   "cell_type": "markdown",
   "id": "2f0ebc8e",
   "metadata": {},
   "source": [
    "Calculating the 90th percentile."
   ]
  },
  {
   "cell_type": "markdown",
   "id": "6e980dda",
   "metadata": {},
   "source": [
    "We just wanna keep the movies with more than m (27) votes, in a new dataframe called q_movies."
   ]
  },
  {
   "cell_type": "code",
   "execution_count": 136,
   "id": "3bfc05f9-4bb2-4df6-8642-7466279917d9",
   "metadata": {},
   "outputs": [
    {
     "data": {
      "text/html": [
       "<div>\n",
       "<style scoped>\n",
       "    .dataframe tbody tr th:only-of-type {\n",
       "        vertical-align: middle;\n",
       "    }\n",
       "\n",
       "    .dataframe tbody tr th {\n",
       "        vertical-align: top;\n",
       "    }\n",
       "\n",
       "    .dataframe thead th {\n",
       "        text-align: right;\n",
       "    }\n",
       "</style>\n",
       "<table border=\"1\" class=\"dataframe\">\n",
       "  <thead>\n",
       "    <tr style=\"text-align: right;\">\n",
       "      <th></th>\n",
       "      <th>movieId</th>\n",
       "      <th>title</th>\n",
       "      <th>genres</th>\n",
       "      <th>vote_count</th>\n",
       "      <th>year_released</th>\n",
       "    </tr>\n",
       "  </thead>\n",
       "  <tbody>\n",
       "    <tr>\n",
       "      <th>0</th>\n",
       "      <td>1</td>\n",
       "      <td>Toy Story</td>\n",
       "      <td>Adventure|Animation|Children|Comedy|Fantasy</td>\n",
       "      <td>215.0</td>\n",
       "      <td>1995</td>\n",
       "    </tr>\n",
       "    <tr>\n",
       "      <th>1</th>\n",
       "      <td>2</td>\n",
       "      <td>Jumanji</td>\n",
       "      <td>Adventure|Children|Fantasy</td>\n",
       "      <td>110.0</td>\n",
       "      <td>1995</td>\n",
       "    </tr>\n",
       "    <tr>\n",
       "      <th>2</th>\n",
       "      <td>3</td>\n",
       "      <td>Grumpier Old Men</td>\n",
       "      <td>Comedy|Romance</td>\n",
       "      <td>52.0</td>\n",
       "      <td>1995</td>\n",
       "    </tr>\n",
       "    <tr>\n",
       "      <th>3</th>\n",
       "      <td>5</td>\n",
       "      <td>Father of the Bride Part II</td>\n",
       "      <td>Comedy</td>\n",
       "      <td>49.0</td>\n",
       "      <td>1995</td>\n",
       "    </tr>\n",
       "    <tr>\n",
       "      <th>4</th>\n",
       "      <td>6</td>\n",
       "      <td>Heat</td>\n",
       "      <td>Action|Crime|Thriller</td>\n",
       "      <td>102.0</td>\n",
       "      <td>1995</td>\n",
       "    </tr>\n",
       "    <tr>\n",
       "      <th>...</th>\n",
       "      <td>...</td>\n",
       "      <td>...</td>\n",
       "      <td>...</td>\n",
       "      <td>...</td>\n",
       "      <td>...</td>\n",
       "    </tr>\n",
       "    <tr>\n",
       "      <th>971</th>\n",
       "      <td>134130</td>\n",
       "      <td>The Martian</td>\n",
       "      <td>Adventure|Drama|Sci-Fi</td>\n",
       "      <td>48.0</td>\n",
       "      <td>2015</td>\n",
       "    </tr>\n",
       "    <tr>\n",
       "      <th>972</th>\n",
       "      <td>134853</td>\n",
       "      <td>Inside Out</td>\n",
       "      <td>Adventure|Animation|Children|Comedy|Drama|Fantasy</td>\n",
       "      <td>43.0</td>\n",
       "      <td>2015</td>\n",
       "    </tr>\n",
       "    <tr>\n",
       "      <th>973</th>\n",
       "      <td>139385</td>\n",
       "      <td>The Revenant</td>\n",
       "      <td>Adventure|Drama</td>\n",
       "      <td>31.0</td>\n",
       "      <td>2015</td>\n",
       "    </tr>\n",
       "    <tr>\n",
       "      <th>974</th>\n",
       "      <td>152081</td>\n",
       "      <td>Zootopia</td>\n",
       "      <td>Action|Adventure|Animation|Children|Comedy</td>\n",
       "      <td>32.0</td>\n",
       "      <td>2016</td>\n",
       "    </tr>\n",
       "    <tr>\n",
       "      <th>975</th>\n",
       "      <td>166528</td>\n",
       "      <td>Rogue One: A Star Wars Story</td>\n",
       "      <td>Action|Adventure|Fantasy|Sci-Fi</td>\n",
       "      <td>27.0</td>\n",
       "      <td>2016</td>\n",
       "    </tr>\n",
       "  </tbody>\n",
       "</table>\n",
       "<p>976 rows × 5 columns</p>\n",
       "</div>"
      ],
      "text/plain": [
       "     movieId                         title  \\\n",
       "0          1                     Toy Story   \n",
       "1          2                       Jumanji   \n",
       "2          3              Grumpier Old Men   \n",
       "3          5   Father of the Bride Part II   \n",
       "4          6                          Heat   \n",
       "..       ...                           ...   \n",
       "971   134130                   The Martian   \n",
       "972   134853                    Inside Out   \n",
       "973   139385                  The Revenant   \n",
       "974   152081                      Zootopia   \n",
       "975   166528  Rogue One: A Star Wars Story   \n",
       "\n",
       "                                                genres  vote_count  \\\n",
       "0          Adventure|Animation|Children|Comedy|Fantasy       215.0   \n",
       "1                           Adventure|Children|Fantasy       110.0   \n",
       "2                                       Comedy|Romance        52.0   \n",
       "3                                               Comedy        49.0   \n",
       "4                                Action|Crime|Thriller       102.0   \n",
       "..                                                 ...         ...   \n",
       "971                             Adventure|Drama|Sci-Fi        48.0   \n",
       "972  Adventure|Animation|Children|Comedy|Drama|Fantasy        43.0   \n",
       "973                                    Adventure|Drama        31.0   \n",
       "974         Action|Adventure|Animation|Children|Comedy        32.0   \n",
       "975                    Action|Adventure|Fantasy|Sci-Fi        27.0   \n",
       "\n",
       "    year_released  \n",
       "0            1995  \n",
       "1            1995  \n",
       "2            1995  \n",
       "3            1995  \n",
       "4            1995  \n",
       "..            ...  \n",
       "971          2015  \n",
       "972          2015  \n",
       "973          2015  \n",
       "974          2016  \n",
       "975          2016  \n",
       "\n",
       "[976 rows x 5 columns]"
      ]
     },
     "execution_count": 136,
     "metadata": {},
     "output_type": "execute_result"
    }
   ],
   "source": [
    "q_movies = merged_movies.copy().loc[merged_movies['vote_count'] >= m]\n",
    "q_movies = q_movies.reset_index(drop=True)\n",
    "q_movies"
   ]
  },
  {
   "cell_type": "markdown",
   "id": "a4d793fa",
   "metadata": {},
   "source": [
    "And then we are resetting the index to easier read the dataframe."
   ]
  },
  {
   "cell_type": "code",
   "execution_count": 137,
   "id": "9d88c008-2fef-48fb-8510-b4ef36d89a67",
   "metadata": {},
   "outputs": [
    {
     "data": {
      "text/html": [
       "<div>\n",
       "<style scoped>\n",
       "    .dataframe tbody tr th:only-of-type {\n",
       "        vertical-align: middle;\n",
       "    }\n",
       "\n",
       "    .dataframe tbody tr th {\n",
       "        vertical-align: top;\n",
       "    }\n",
       "\n",
       "    .dataframe thead th {\n",
       "        text-align: right;\n",
       "    }\n",
       "</style>\n",
       "<table border=\"1\" class=\"dataframe\">\n",
       "  <thead>\n",
       "    <tr style=\"text-align: right;\">\n",
       "      <th></th>\n",
       "      <th>movieId</th>\n",
       "      <th>title</th>\n",
       "      <th>genres</th>\n",
       "      <th>vote_count</th>\n",
       "      <th>year_released</th>\n",
       "      <th>average_rating</th>\n",
       "    </tr>\n",
       "  </thead>\n",
       "  <tbody>\n",
       "    <tr>\n",
       "      <th>0</th>\n",
       "      <td>1</td>\n",
       "      <td>Toy Story</td>\n",
       "      <td>Adventure|Animation|Children|Comedy|Fantasy</td>\n",
       "      <td>215.0</td>\n",
       "      <td>1995</td>\n",
       "      <td>3.920930</td>\n",
       "    </tr>\n",
       "    <tr>\n",
       "      <th>1</th>\n",
       "      <td>2</td>\n",
       "      <td>Jumanji</td>\n",
       "      <td>Adventure|Children|Fantasy</td>\n",
       "      <td>110.0</td>\n",
       "      <td>1995</td>\n",
       "      <td>3.431818</td>\n",
       "    </tr>\n",
       "    <tr>\n",
       "      <th>2</th>\n",
       "      <td>3</td>\n",
       "      <td>Grumpier Old Men</td>\n",
       "      <td>Comedy|Romance</td>\n",
       "      <td>52.0</td>\n",
       "      <td>1995</td>\n",
       "      <td>3.259615</td>\n",
       "    </tr>\n",
       "    <tr>\n",
       "      <th>3</th>\n",
       "      <td>4</td>\n",
       "      <td>Waiting to Exhale</td>\n",
       "      <td>Comedy|Drama|Romance</td>\n",
       "      <td>7.0</td>\n",
       "      <td>1995</td>\n",
       "      <td>2.357143</td>\n",
       "    </tr>\n",
       "    <tr>\n",
       "      <th>4</th>\n",
       "      <td>5</td>\n",
       "      <td>Father of the Bride Part II</td>\n",
       "      <td>Comedy</td>\n",
       "      <td>49.0</td>\n",
       "      <td>1995</td>\n",
       "      <td>3.071429</td>\n",
       "    </tr>\n",
       "    <tr>\n",
       "      <th>...</th>\n",
       "      <td>...</td>\n",
       "      <td>...</td>\n",
       "      <td>...</td>\n",
       "      <td>...</td>\n",
       "      <td>...</td>\n",
       "      <td>...</td>\n",
       "    </tr>\n",
       "    <tr>\n",
       "      <th>9703</th>\n",
       "      <td>193581</td>\n",
       "      <td>Black Butler: Book of the Atlantic</td>\n",
       "      <td>Action|Animation|Comedy|Fantasy</td>\n",
       "      <td>1.0</td>\n",
       "      <td>2017</td>\n",
       "      <td>4.000000</td>\n",
       "    </tr>\n",
       "    <tr>\n",
       "      <th>9704</th>\n",
       "      <td>193583</td>\n",
       "      <td>No Game No Life: Zero</td>\n",
       "      <td>Animation|Comedy|Fantasy</td>\n",
       "      <td>1.0</td>\n",
       "      <td>2017</td>\n",
       "      <td>3.500000</td>\n",
       "    </tr>\n",
       "    <tr>\n",
       "      <th>9705</th>\n",
       "      <td>193585</td>\n",
       "      <td>Flint</td>\n",
       "      <td>Drama</td>\n",
       "      <td>1.0</td>\n",
       "      <td>2017</td>\n",
       "      <td>3.500000</td>\n",
       "    </tr>\n",
       "    <tr>\n",
       "      <th>9706</th>\n",
       "      <td>193587</td>\n",
       "      <td>Bungo Stray Dogs: Dead Apple</td>\n",
       "      <td>Action|Animation</td>\n",
       "      <td>1.0</td>\n",
       "      <td>2018</td>\n",
       "      <td>3.500000</td>\n",
       "    </tr>\n",
       "    <tr>\n",
       "      <th>9707</th>\n",
       "      <td>193609</td>\n",
       "      <td>Andrew Dice Clay: Dice Rules</td>\n",
       "      <td>Comedy</td>\n",
       "      <td>1.0</td>\n",
       "      <td>1991</td>\n",
       "      <td>4.000000</td>\n",
       "    </tr>\n",
       "  </tbody>\n",
       "</table>\n",
       "<p>9708 rows × 6 columns</p>\n",
       "</div>"
      ],
      "text/plain": [
       "      movieId                               title  \\\n",
       "0           1                           Toy Story   \n",
       "1           2                             Jumanji   \n",
       "2           3                    Grumpier Old Men   \n",
       "3           4                   Waiting to Exhale   \n",
       "4           5         Father of the Bride Part II   \n",
       "...       ...                                 ...   \n",
       "9703   193581  Black Butler: Book of the Atlantic   \n",
       "9704   193583               No Game No Life: Zero   \n",
       "9705   193585                               Flint   \n",
       "9706   193587        Bungo Stray Dogs: Dead Apple   \n",
       "9707   193609        Andrew Dice Clay: Dice Rules   \n",
       "\n",
       "                                           genres  vote_count year_released  \\\n",
       "0     Adventure|Animation|Children|Comedy|Fantasy       215.0          1995   \n",
       "1                      Adventure|Children|Fantasy       110.0          1995   \n",
       "2                                  Comedy|Romance        52.0          1995   \n",
       "3                            Comedy|Drama|Romance         7.0          1995   \n",
       "4                                          Comedy        49.0          1995   \n",
       "...                                           ...         ...           ...   \n",
       "9703              Action|Animation|Comedy|Fantasy         1.0          2017   \n",
       "9704                     Animation|Comedy|Fantasy         1.0          2017   \n",
       "9705                                        Drama         1.0          2017   \n",
       "9706                             Action|Animation         1.0          2018   \n",
       "9707                                       Comedy         1.0          1991   \n",
       "\n",
       "      average_rating  \n",
       "0           3.920930  \n",
       "1           3.431818  \n",
       "2           3.259615  \n",
       "3           2.357143  \n",
       "4           3.071429  \n",
       "...              ...  \n",
       "9703        4.000000  \n",
       "9704        3.500000  \n",
       "9705        3.500000  \n",
       "9706        3.500000  \n",
       "9707        4.000000  \n",
       "\n",
       "[9708 rows x 6 columns]"
      ]
     },
     "execution_count": 137,
     "metadata": {},
     "output_type": "execute_result"
    }
   ],
   "source": [
    "average_ratings = mvrt.groupby('movieId')['rating'].mean().reset_index()\n",
    "average_ratings.columns = ['movieId', 'average_rating']\n",
    "\n",
    "movies_average = pd.merge(merged_movies, average_ratings, on='movieId', how='left')\n",
    "movies_average"
   ]
  },
  {
   "cell_type": "markdown",
   "id": "7b44350d",
   "metadata": {},
   "source": [
    "We are calculating the average rating for each movie, and after that we are merging the merged_movies with average_ratings."
   ]
  },
  {
   "cell_type": "code",
   "execution_count": 138,
   "id": "4c7b3564-2d89-4aa5-bf3c-033eff268f75",
   "metadata": {},
   "outputs": [
    {
     "name": "stdout",
     "output_type": "stream",
     "text": [
      "3.2620668706545675\n"
     ]
    }
   ],
   "source": [
    "average_rating_of_all = movies_average['average_rating'].mean()\n",
    "print(average_rating_of_all)"
   ]
  },
  {
   "cell_type": "markdown",
   "id": "8d92f0c0",
   "metadata": {},
   "source": [
    "We are calculating to see the average of all ratings."
   ]
  },
  {
   "cell_type": "code",
   "execution_count": 139,
   "id": "794157ab-2834-497e-ab43-9d867c386541",
   "metadata": {},
   "outputs": [
    {
     "data": {
      "text/html": [
       "<div>\n",
       "<style scoped>\n",
       "    .dataframe tbody tr th:only-of-type {\n",
       "        vertical-align: middle;\n",
       "    }\n",
       "\n",
       "    .dataframe tbody tr th {\n",
       "        vertical-align: top;\n",
       "    }\n",
       "\n",
       "    .dataframe thead th {\n",
       "        text-align: right;\n",
       "    }\n",
       "</style>\n",
       "<table border=\"1\" class=\"dataframe\">\n",
       "  <thead>\n",
       "    <tr style=\"text-align: right;\">\n",
       "      <th></th>\n",
       "      <th>movieId</th>\n",
       "      <th>title</th>\n",
       "      <th>genres</th>\n",
       "      <th>vote_count</th>\n",
       "      <th>year_released</th>\n",
       "      <th>average_rating</th>\n",
       "    </tr>\n",
       "  </thead>\n",
       "  <tbody>\n",
       "    <tr>\n",
       "      <th>0</th>\n",
       "      <td>1</td>\n",
       "      <td>Toy Story</td>\n",
       "      <td>Adventure|Animation|Children|Comedy|Fantasy</td>\n",
       "      <td>215.0</td>\n",
       "      <td>1995</td>\n",
       "      <td>3.920930</td>\n",
       "    </tr>\n",
       "    <tr>\n",
       "      <th>1</th>\n",
       "      <td>2</td>\n",
       "      <td>Jumanji</td>\n",
       "      <td>Adventure|Children|Fantasy</td>\n",
       "      <td>110.0</td>\n",
       "      <td>1995</td>\n",
       "      <td>3.431818</td>\n",
       "    </tr>\n",
       "    <tr>\n",
       "      <th>2</th>\n",
       "      <td>3</td>\n",
       "      <td>Grumpier Old Men</td>\n",
       "      <td>Comedy|Romance</td>\n",
       "      <td>52.0</td>\n",
       "      <td>1995</td>\n",
       "      <td>3.259615</td>\n",
       "    </tr>\n",
       "    <tr>\n",
       "      <th>4</th>\n",
       "      <td>5</td>\n",
       "      <td>Father of the Bride Part II</td>\n",
       "      <td>Comedy</td>\n",
       "      <td>49.0</td>\n",
       "      <td>1995</td>\n",
       "      <td>3.071429</td>\n",
       "    </tr>\n",
       "    <tr>\n",
       "      <th>5</th>\n",
       "      <td>6</td>\n",
       "      <td>Heat</td>\n",
       "      <td>Action|Crime|Thriller</td>\n",
       "      <td>102.0</td>\n",
       "      <td>1995</td>\n",
       "      <td>3.946078</td>\n",
       "    </tr>\n",
       "    <tr>\n",
       "      <th>...</th>\n",
       "      <td>...</td>\n",
       "      <td>...</td>\n",
       "      <td>...</td>\n",
       "      <td>...</td>\n",
       "      <td>...</td>\n",
       "      <td>...</td>\n",
       "    </tr>\n",
       "    <tr>\n",
       "      <th>8874</th>\n",
       "      <td>134130</td>\n",
       "      <td>The Martian</td>\n",
       "      <td>Adventure|Drama|Sci-Fi</td>\n",
       "      <td>48.0</td>\n",
       "      <td>2015</td>\n",
       "      <td>4.000000</td>\n",
       "    </tr>\n",
       "    <tr>\n",
       "      <th>8895</th>\n",
       "      <td>134853</td>\n",
       "      <td>Inside Out</td>\n",
       "      <td>Adventure|Animation|Children|Comedy|Drama|Fantasy</td>\n",
       "      <td>43.0</td>\n",
       "      <td>2015</td>\n",
       "      <td>3.813953</td>\n",
       "    </tr>\n",
       "    <tr>\n",
       "      <th>8984</th>\n",
       "      <td>139385</td>\n",
       "      <td>The Revenant</td>\n",
       "      <td>Adventure|Drama</td>\n",
       "      <td>31.0</td>\n",
       "      <td>2015</td>\n",
       "      <td>3.903226</td>\n",
       "    </tr>\n",
       "    <tr>\n",
       "      <th>9210</th>\n",
       "      <td>152081</td>\n",
       "      <td>Zootopia</td>\n",
       "      <td>Action|Adventure|Animation|Children|Comedy</td>\n",
       "      <td>32.0</td>\n",
       "      <td>2016</td>\n",
       "      <td>3.890625</td>\n",
       "    </tr>\n",
       "    <tr>\n",
       "      <th>9413</th>\n",
       "      <td>166528</td>\n",
       "      <td>Rogue One: A Star Wars Story</td>\n",
       "      <td>Action|Adventure|Fantasy|Sci-Fi</td>\n",
       "      <td>27.0</td>\n",
       "      <td>2016</td>\n",
       "      <td>3.925926</td>\n",
       "    </tr>\n",
       "  </tbody>\n",
       "</table>\n",
       "<p>976 rows × 6 columns</p>\n",
       "</div>"
      ],
      "text/plain": [
       "      movieId                         title  \\\n",
       "0           1                     Toy Story   \n",
       "1           2                       Jumanji   \n",
       "2           3              Grumpier Old Men   \n",
       "4           5   Father of the Bride Part II   \n",
       "5           6                          Heat   \n",
       "...       ...                           ...   \n",
       "8874   134130                   The Martian   \n",
       "8895   134853                    Inside Out   \n",
       "8984   139385                  The Revenant   \n",
       "9210   152081                      Zootopia   \n",
       "9413   166528  Rogue One: A Star Wars Story   \n",
       "\n",
       "                                                 genres  vote_count  \\\n",
       "0           Adventure|Animation|Children|Comedy|Fantasy       215.0   \n",
       "1                            Adventure|Children|Fantasy       110.0   \n",
       "2                                        Comedy|Romance        52.0   \n",
       "4                                                Comedy        49.0   \n",
       "5                                 Action|Crime|Thriller       102.0   \n",
       "...                                                 ...         ...   \n",
       "8874                             Adventure|Drama|Sci-Fi        48.0   \n",
       "8895  Adventure|Animation|Children|Comedy|Drama|Fantasy        43.0   \n",
       "8984                                    Adventure|Drama        31.0   \n",
       "9210         Action|Adventure|Animation|Children|Comedy        32.0   \n",
       "9413                    Action|Adventure|Fantasy|Sci-Fi        27.0   \n",
       "\n",
       "     year_released  average_rating  \n",
       "0             1995        3.920930  \n",
       "1             1995        3.431818  \n",
       "2             1995        3.259615  \n",
       "4             1995        3.071429  \n",
       "5             1995        3.946078  \n",
       "...            ...             ...  \n",
       "8874          2015        4.000000  \n",
       "8895          2015        3.813953  \n",
       "8984          2015        3.903226  \n",
       "9210          2016        3.890625  \n",
       "9413          2016        3.925926  \n",
       "\n",
       "[976 rows x 6 columns]"
      ]
     },
     "execution_count": 139,
     "metadata": {},
     "output_type": "execute_result"
    }
   ],
   "source": [
    "q_movies = movies_average.copy().loc[merged_movies['vote_count'] >= m]\n",
    "q_movies"
   ]
  },
  {
   "cell_type": "code",
   "execution_count": 140,
   "id": "2a265388-a8ed-4a4a-a13a-9ef3da762e57",
   "metadata": {},
   "outputs": [
    {
     "data": {
      "image/png": "[encoded data removed]",
      "text/plain": [
       "<Figure size 640x480 with 1 Axes>"
      ]
     },
     "metadata": {},
     "output_type": "display_data"
    }
   ],
   "source": [
    "plt.hist(q_movies['average_rating'], bins=10, edgecolor='black', color='green')\n",
    "plt.xlabel('Average rating')\n",
    "plt.ylabel('Count')\n",
    "plt.title('Histogram of Average ratings for each movie')\n",
    "plt.show()"
   ]
  },
  {
   "cell_type": "markdown",
   "id": "815c7740",
   "metadata": {},
   "source": [
    "Creating a histogram of average rating for each movie and counts, to visualise it. Notice that its almost a normal distribution curve."
   ]
  },
  {
   "cell_type": "markdown",
   "id": "5e9b4c10",
   "metadata": {},
   "source": [
    "The histogram shows that most of the movies have an average rating between 3 and 4.5."
   ]
  },
  {
   "cell_type": "code",
   "execution_count": 141,
   "id": "1a19c816-c23a-47de-bf2a-70ef9467dc27",
   "metadata": {},
   "outputs": [
    {
     "data": {
      "image/png": "[encoded data removed]",
      "text/plain": [
       "<Figure size 800x600 with 1 Axes>"
      ]
     },
     "metadata": {},
     "output_type": "display_data"
    }
   ],
   "source": [
    "plt.figure(figsize=(8, 6))\n",
    "sns.scatterplot(x='average_rating', y='vote_count', data=movies_average)\n",
    "plt.title('Relationship between Average Rating and Vote Count')\n",
    "plt.xlabel('Average Rating')\n",
    "plt.ylabel('Vote Count')\n",
    "plt.show()"
   ]
  },
  {
   "cell_type": "markdown",
   "id": "1e2df41a-9fa8-4d54-b325-dcf61a460d6a",
   "metadata": {},
   "source": [
    "This Scatterplot shows that movies that have an Average Rating in the extremities ie. 0-1 or close to 5 have very few votes and thus are not to be trusted."
   ]
  },
  {
   "cell_type": "markdown",
   "id": "b74533ac-8fa1-43ce-89d8-eadc50e5b0d1",
   "metadata": {},
   "source": [
    "# Content-based recommender"
   ]
  },
  {
   "cell_type": "markdown",
   "id": "015aa2d3-ee06-4d0c-8702-d573be3a4d54",
   "metadata": {},
   "source": [
    "### Weighted average\n",
    "Weighted average is used to give a more fair rating for each movie, by taking into consideration average rating of the movie (r), amount of ratings of the movie (v), average rating for all movies (c) and minimum amount of ratings required to be listed in the chart (m), which in our case is movies in the 90th percentile, which comes down to 27 ratings as we saw earlier."
   ]
  },
  {
   "cell_type": "code",
   "execution_count": 142,
   "id": "1b5cc47a-d9a1-4eaf-9f80-91b48a3cbf7d",
   "metadata": {},
   "outputs": [],
   "source": [
    "def war(x, m=m, c=average_rating_of_all):\n",
    "    v = x['vote_count']\n",
    "    r = x['average_rating']\n",
    "    return (v/(v+m) * r) + (m/(m+v) * c)"
   ]
  },
  {
   "cell_type": "code",
   "execution_count": 143,
   "id": "08f5b095-52c2-4203-bc42-e0a84c77c54e",
   "metadata": {},
   "outputs": [
    {
     "name": "stdout",
     "output_type": "stream",
     "text": [
      "0       3.847421\n",
      "1       3.398364\n",
      "2       3.260453\n",
      "4       3.139155\n",
      "5       3.802913\n",
      "          ...   \n",
      "8874    3.734344\n",
      "8895    3.601083\n",
      "8984    3.604755\n",
      "9210    3.602980\n",
      "9413    3.593996\n",
      "Name: score, Length: 976, dtype: float64\n"
     ]
    }
   ],
   "source": [
    "q_movies['score'] = movies_average.apply(war, axis=1)\n",
    "print(q_movies['score'])"
   ]
  },
  {
   "cell_type": "markdown",
   "id": "aa9ea6e4",
   "metadata": {},
   "source": [
    "We are using the function on each of the movies and adding the scores to q_movies in a new column called score."
   ]
  },
  {
   "cell_type": "code",
   "execution_count": 144,
   "id": "ffe35d78-105e-402f-b227-84b859429f88",
   "metadata": {},
   "outputs": [
    {
     "data": {
      "text/html": [
       "<div>\n",
       "<style scoped>\n",
       "    .dataframe tbody tr th:only-of-type {\n",
       "        vertical-align: middle;\n",
       "    }\n",
       "\n",
       "    .dataframe tbody tr th {\n",
       "        vertical-align: top;\n",
       "    }\n",
       "\n",
       "    .dataframe thead th {\n",
       "        text-align: right;\n",
       "    }\n",
       "</style>\n",
       "<table border=\"1\" class=\"dataframe\">\n",
       "  <thead>\n",
       "    <tr style=\"text-align: right;\">\n",
       "      <th></th>\n",
       "      <th>movieId</th>\n",
       "      <th>title</th>\n",
       "      <th>genres</th>\n",
       "      <th>vote_count</th>\n",
       "      <th>year_released</th>\n",
       "      <th>average_rating</th>\n",
       "      <th>score</th>\n",
       "    </tr>\n",
       "  </thead>\n",
       "  <tbody>\n",
       "    <tr>\n",
       "      <th>0</th>\n",
       "      <td>1</td>\n",
       "      <td>Toy Story</td>\n",
       "      <td>Adventure|Animation|Children|Comedy|Fantasy</td>\n",
       "      <td>215.0</td>\n",
       "      <td>1995</td>\n",
       "      <td>3.920930</td>\n",
       "      <td>3.847421</td>\n",
       "    </tr>\n",
       "    <tr>\n",
       "      <th>1</th>\n",
       "      <td>2</td>\n",
       "      <td>Jumanji</td>\n",
       "      <td>Adventure|Children|Fantasy</td>\n",
       "      <td>110.0</td>\n",
       "      <td>1995</td>\n",
       "      <td>3.431818</td>\n",
       "      <td>3.398364</td>\n",
       "    </tr>\n",
       "    <tr>\n",
       "      <th>2</th>\n",
       "      <td>3</td>\n",
       "      <td>Grumpier Old Men</td>\n",
       "      <td>Comedy|Romance</td>\n",
       "      <td>52.0</td>\n",
       "      <td>1995</td>\n",
       "      <td>3.259615</td>\n",
       "      <td>3.260453</td>\n",
       "    </tr>\n",
       "    <tr>\n",
       "      <th>4</th>\n",
       "      <td>5</td>\n",
       "      <td>Father of the Bride Part II</td>\n",
       "      <td>Comedy</td>\n",
       "      <td>49.0</td>\n",
       "      <td>1995</td>\n",
       "      <td>3.071429</td>\n",
       "      <td>3.139155</td>\n",
       "    </tr>\n",
       "    <tr>\n",
       "      <th>5</th>\n",
       "      <td>6</td>\n",
       "      <td>Heat</td>\n",
       "      <td>Action|Crime|Thriller</td>\n",
       "      <td>102.0</td>\n",
       "      <td>1995</td>\n",
       "      <td>3.946078</td>\n",
       "      <td>3.802913</td>\n",
       "    </tr>\n",
       "    <tr>\n",
       "      <th>...</th>\n",
       "      <td>...</td>\n",
       "      <td>...</td>\n",
       "      <td>...</td>\n",
       "      <td>...</td>\n",
       "      <td>...</td>\n",
       "      <td>...</td>\n",
       "      <td>...</td>\n",
       "    </tr>\n",
       "    <tr>\n",
       "      <th>8874</th>\n",
       "      <td>134130</td>\n",
       "      <td>The Martian</td>\n",
       "      <td>Adventure|Drama|Sci-Fi</td>\n",
       "      <td>48.0</td>\n",
       "      <td>2015</td>\n",
       "      <td>4.000000</td>\n",
       "      <td>3.734344</td>\n",
       "    </tr>\n",
       "    <tr>\n",
       "      <th>8895</th>\n",
       "      <td>134853</td>\n",
       "      <td>Inside Out</td>\n",
       "      <td>Adventure|Animation|Children|Comedy|Drama|Fantasy</td>\n",
       "      <td>43.0</td>\n",
       "      <td>2015</td>\n",
       "      <td>3.813953</td>\n",
       "      <td>3.601083</td>\n",
       "    </tr>\n",
       "    <tr>\n",
       "      <th>8984</th>\n",
       "      <td>139385</td>\n",
       "      <td>The Revenant</td>\n",
       "      <td>Adventure|Drama</td>\n",
       "      <td>31.0</td>\n",
       "      <td>2015</td>\n",
       "      <td>3.903226</td>\n",
       "      <td>3.604755</td>\n",
       "    </tr>\n",
       "    <tr>\n",
       "      <th>9210</th>\n",
       "      <td>152081</td>\n",
       "      <td>Zootopia</td>\n",
       "      <td>Action|Adventure|Animation|Children|Comedy</td>\n",
       "      <td>32.0</td>\n",
       "      <td>2016</td>\n",
       "      <td>3.890625</td>\n",
       "      <td>3.602980</td>\n",
       "    </tr>\n",
       "    <tr>\n",
       "      <th>9413</th>\n",
       "      <td>166528</td>\n",
       "      <td>Rogue One: A Star Wars Story</td>\n",
       "      <td>Action|Adventure|Fantasy|Sci-Fi</td>\n",
       "      <td>27.0</td>\n",
       "      <td>2016</td>\n",
       "      <td>3.925926</td>\n",
       "      <td>3.593996</td>\n",
       "    </tr>\n",
       "  </tbody>\n",
       "</table>\n",
       "<p>976 rows × 7 columns</p>\n",
       "</div>"
      ],
      "text/plain": [
       "      movieId                         title  \\\n",
       "0           1                     Toy Story   \n",
       "1           2                       Jumanji   \n",
       "2           3              Grumpier Old Men   \n",
       "4           5   Father of the Bride Part II   \n",
       "5           6                          Heat   \n",
       "...       ...                           ...   \n",
       "8874   134130                   The Martian   \n",
       "8895   134853                    Inside Out   \n",
       "8984   139385                  The Revenant   \n",
       "9210   152081                      Zootopia   \n",
       "9413   166528  Rogue One: A Star Wars Story   \n",
       "\n",
       "                                                 genres  vote_count  \\\n",
       "0           Adventure|Animation|Children|Comedy|Fantasy       215.0   \n",
       "1                            Adventure|Children|Fantasy       110.0   \n",
       "2                                        Comedy|Romance        52.0   \n",
       "4                                                Comedy        49.0   \n",
       "5                                 Action|Crime|Thriller       102.0   \n",
       "...                                                 ...         ...   \n",
       "8874                             Adventure|Drama|Sci-Fi        48.0   \n",
       "8895  Adventure|Animation|Children|Comedy|Drama|Fantasy        43.0   \n",
       "8984                                    Adventure|Drama        31.0   \n",
       "9210         Action|Adventure|Animation|Children|Comedy        32.0   \n",
       "9413                    Action|Adventure|Fantasy|Sci-Fi        27.0   \n",
       "\n",
       "     year_released  average_rating     score  \n",
       "0             1995        3.920930  3.847421  \n",
       "1             1995        3.431818  3.398364  \n",
       "2             1995        3.259615  3.260453  \n",
       "4             1995        3.071429  3.139155  \n",
       "5             1995        3.946078  3.802913  \n",
       "...            ...             ...       ...  \n",
       "8874          2015        4.000000  3.734344  \n",
       "8895          2015        3.813953  3.601083  \n",
       "8984          2015        3.903226  3.604755  \n",
       "9210          2016        3.890625  3.602980  \n",
       "9413          2016        3.925926  3.593996  \n",
       "\n",
       "[976 rows x 7 columns]"
      ]
     },
     "execution_count": 144,
     "metadata": {},
     "output_type": "execute_result"
    }
   ],
   "source": [
    "q_movies"
   ]
  },
  {
   "cell_type": "markdown",
   "id": "9ba6ae77",
   "metadata": {},
   "source": [
    "Checking the data in q_movies."
   ]
  },
  {
   "cell_type": "code",
   "execution_count": 145,
   "id": "38cfad69-f899-4c00-ba62-c7402b065539",
   "metadata": {},
   "outputs": [],
   "source": [
    "current_directory = os.getcwd()\n",
    "#q_movies.to_csv(current_directory + '/q_movies.csv', index=False)\n",
    "#mvrt.to_csv(current_directory + '/year.csv', index=False)"
   ]
  },
  {
   "cell_type": "markdown",
   "id": "683f99e7",
   "metadata": {},
   "source": [
    "Saving q_movies and mvrt in a csv file to use for Streamlit later."
   ]
  },
  {
   "cell_type": "code",
   "execution_count": 146,
   "id": "ccacc095-35b6-4ba7-9f74-11e515ec689f",
   "metadata": {},
   "outputs": [
    {
     "data": {
      "text/html": [
       "<div>\n",
       "<style scoped>\n",
       "    .dataframe tbody tr th:only-of-type {\n",
       "        vertical-align: middle;\n",
       "    }\n",
       "\n",
       "    .dataframe tbody tr th {\n",
       "        vertical-align: top;\n",
       "    }\n",
       "\n",
       "    .dataframe thead th {\n",
       "        text-align: right;\n",
       "    }\n",
       "</style>\n",
       "<table border=\"1\" class=\"dataframe\">\n",
       "  <thead>\n",
       "    <tr style=\"text-align: right;\">\n",
       "      <th></th>\n",
       "      <th>title</th>\n",
       "      <th>vote_count</th>\n",
       "      <th>average_rating</th>\n",
       "      <th>score</th>\n",
       "    </tr>\n",
       "  </thead>\n",
       "  <tbody>\n",
       "    <tr>\n",
       "      <th>277</th>\n",
       "      <td>Shawshank Redemption, The</td>\n",
       "      <td>317.0</td>\n",
       "      <td>4.429022</td>\n",
       "      <td>4.337430</td>\n",
       "    </tr>\n",
       "    <tr>\n",
       "      <th>659</th>\n",
       "      <td>Godfather, The</td>\n",
       "      <td>192.0</td>\n",
       "      <td>4.289062</td>\n",
       "      <td>4.162447</td>\n",
       "    </tr>\n",
       "    <tr>\n",
       "      <th>2226</th>\n",
       "      <td>Fight Club</td>\n",
       "      <td>218.0</td>\n",
       "      <td>4.272936</td>\n",
       "      <td>4.161534</td>\n",
       "    </tr>\n",
       "    <tr>\n",
       "      <th>224</th>\n",
       "      <td>Star Wars: Episode IV - A New Hope</td>\n",
       "      <td>251.0</td>\n",
       "      <td>4.231076</td>\n",
       "      <td>4.136963</td>\n",
       "    </tr>\n",
       "    <tr>\n",
       "      <th>46</th>\n",
       "      <td>Usual Suspects, The</td>\n",
       "      <td>204.0</td>\n",
       "      <td>4.237745</td>\n",
       "      <td>4.123705</td>\n",
       "    </tr>\n",
       "    <tr>\n",
       "      <th>257</th>\n",
       "      <td>Pulp Fiction</td>\n",
       "      <td>307.0</td>\n",
       "      <td>4.197068</td>\n",
       "      <td>4.121484</td>\n",
       "    </tr>\n",
       "    <tr>\n",
       "      <th>461</th>\n",
       "      <td>Schindler's List</td>\n",
       "      <td>220.0</td>\n",
       "      <td>4.225000</td>\n",
       "      <td>4.119740</td>\n",
       "    </tr>\n",
       "    <tr>\n",
       "      <th>1939</th>\n",
       "      <td>Matrix, The</td>\n",
       "      <td>278.0</td>\n",
       "      <td>4.192446</td>\n",
       "      <td>4.110085</td>\n",
       "    </tr>\n",
       "    <tr>\n",
       "      <th>898</th>\n",
       "      <td>Star Wars: Episode V - The Empire Strikes Back</td>\n",
       "      <td>211.0</td>\n",
       "      <td>4.215640</td>\n",
       "      <td>4.107461</td>\n",
       "    </tr>\n",
       "    <tr>\n",
       "      <th>314</th>\n",
       "      <td>Forrest Gump</td>\n",
       "      <td>329.0</td>\n",
       "      <td>4.164134</td>\n",
       "      <td>4.095719</td>\n",
       "    </tr>\n",
       "    <tr>\n",
       "      <th>900</th>\n",
       "      <td>Raiders of the Lost Ark (Indiana Jones and the...</td>\n",
       "      <td>200.0</td>\n",
       "      <td>4.207500</td>\n",
       "      <td>4.095048</td>\n",
       "    </tr>\n",
       "    <tr>\n",
       "      <th>6710</th>\n",
       "      <td>Dark Knight, The</td>\n",
       "      <td>149.0</td>\n",
       "      <td>4.238255</td>\n",
       "      <td>4.088499</td>\n",
       "    </tr>\n",
       "    <tr>\n",
       "      <th>922</th>\n",
       "      <td>Godfather: Part II, The</td>\n",
       "      <td>129.0</td>\n",
       "      <td>4.259690</td>\n",
       "      <td>4.087024</td>\n",
       "    </tr>\n",
       "    <tr>\n",
       "      <th>510</th>\n",
       "      <td>Silence of the Lambs, The</td>\n",
       "      <td>279.0</td>\n",
       "      <td>4.161290</td>\n",
       "      <td>4.081947</td>\n",
       "    </tr>\n",
       "    <tr>\n",
       "      <th>899</th>\n",
       "      <td>Princess Bride, The</td>\n",
       "      <td>142.0</td>\n",
       "      <td>4.232394</td>\n",
       "      <td>4.077372</td>\n",
       "    </tr>\n",
       "  </tbody>\n",
       "</table>\n",
       "</div>"
      ],
      "text/plain": [
       "                                                  title  vote_count  \\\n",
       "277                           Shawshank Redemption, The       317.0   \n",
       "659                                      Godfather, The       192.0   \n",
       "2226                                         Fight Club       218.0   \n",
       "224                  Star Wars: Episode IV - A New Hope       251.0   \n",
       "46                                  Usual Suspects, The       204.0   \n",
       "257                                        Pulp Fiction       307.0   \n",
       "461                                    Schindler's List       220.0   \n",
       "1939                                        Matrix, The       278.0   \n",
       "898      Star Wars: Episode V - The Empire Strikes Back       211.0   \n",
       "314                                        Forrest Gump       329.0   \n",
       "900   Raiders of the Lost Ark (Indiana Jones and the...       200.0   \n",
       "6710                                   Dark Knight, The       149.0   \n",
       "922                             Godfather: Part II, The       129.0   \n",
       "510                           Silence of the Lambs, The       279.0   \n",
       "899                                 Princess Bride, The       142.0   \n",
       "\n",
       "      average_rating     score  \n",
       "277         4.429022  4.337430  \n",
       "659         4.289062  4.162447  \n",
       "2226        4.272936  4.161534  \n",
       "224         4.231076  4.136963  \n",
       "46          4.237745  4.123705  \n",
       "257         4.197068  4.121484  \n",
       "461         4.225000  4.119740  \n",
       "1939        4.192446  4.110085  \n",
       "898         4.215640  4.107461  \n",
       "314         4.164134  4.095719  \n",
       "900         4.207500  4.095048  \n",
       "6710        4.238255  4.088499  \n",
       "922         4.259690  4.087024  \n",
       "510         4.161290  4.081947  \n",
       "899         4.232394  4.077372  "
      ]
     },
     "execution_count": 146,
     "metadata": {},
     "output_type": "execute_result"
    }
   ],
   "source": [
    "q_movies = q_movies.sort_values('score', ascending=False)\n",
    "\n",
    "q_movies[['title', 'vote_count', 'average_rating', 'score']].head(15)"
   ]
  },
  {
   "cell_type": "markdown",
   "id": "85e678b7",
   "metadata": {},
   "source": [
    "Printed the top 15 movies, based on score."
   ]
  },
  {
   "cell_type": "code",
   "execution_count": 147,
   "id": "eec7320e-8c5c-4160-bbef-b4e84fbd8f35",
   "metadata": {},
   "outputs": [
    {
     "data": {
      "text/html": [
       "<div>\n",
       "<style scoped>\n",
       "    .dataframe tbody tr th:only-of-type {\n",
       "        vertical-align: middle;\n",
       "    }\n",
       "\n",
       "    .dataframe tbody tr th {\n",
       "        vertical-align: top;\n",
       "    }\n",
       "\n",
       "    .dataframe thead th {\n",
       "        text-align: right;\n",
       "    }\n",
       "</style>\n",
       "<table border=\"1\" class=\"dataframe\">\n",
       "  <thead>\n",
       "    <tr style=\"text-align: right;\">\n",
       "      <th></th>\n",
       "      <th>movieId</th>\n",
       "      <th>title</th>\n",
       "      <th>genres</th>\n",
       "      <th>year_released</th>\n",
       "      <th>score</th>\n",
       "    </tr>\n",
       "  </thead>\n",
       "  <tbody>\n",
       "    <tr>\n",
       "      <th>0</th>\n",
       "      <td>1</td>\n",
       "      <td>Toy Story</td>\n",
       "      <td>Adventure|Animation|Children|Comedy|Fantasy</td>\n",
       "      <td>1995</td>\n",
       "      <td>3.847421</td>\n",
       "    </tr>\n",
       "    <tr>\n",
       "      <th>1</th>\n",
       "      <td>2</td>\n",
       "      <td>Jumanji</td>\n",
       "      <td>Adventure|Children|Fantasy</td>\n",
       "      <td>1995</td>\n",
       "      <td>3.398364</td>\n",
       "    </tr>\n",
       "    <tr>\n",
       "      <th>2</th>\n",
       "      <td>3</td>\n",
       "      <td>Grumpier Old Men</td>\n",
       "      <td>Comedy|Romance</td>\n",
       "      <td>1995</td>\n",
       "      <td>3.260453</td>\n",
       "    </tr>\n",
       "    <tr>\n",
       "      <th>3</th>\n",
       "      <td>4</td>\n",
       "      <td>Waiting to Exhale</td>\n",
       "      <td>Comedy|Drama|Romance</td>\n",
       "      <td>1995</td>\n",
       "      <td>NaN</td>\n",
       "    </tr>\n",
       "    <tr>\n",
       "      <th>4</th>\n",
       "      <td>5</td>\n",
       "      <td>Father of the Bride Part II</td>\n",
       "      <td>Comedy</td>\n",
       "      <td>1995</td>\n",
       "      <td>3.139155</td>\n",
       "    </tr>\n",
       "    <tr>\n",
       "      <th>...</th>\n",
       "      <td>...</td>\n",
       "      <td>...</td>\n",
       "      <td>...</td>\n",
       "      <td>...</td>\n",
       "      <td>...</td>\n",
       "    </tr>\n",
       "    <tr>\n",
       "      <th>9737</th>\n",
       "      <td>193581</td>\n",
       "      <td>Black Butler: Book of the Atlantic</td>\n",
       "      <td>Action|Animation|Comedy|Fantasy</td>\n",
       "      <td>2017</td>\n",
       "      <td>NaN</td>\n",
       "    </tr>\n",
       "    <tr>\n",
       "      <th>9738</th>\n",
       "      <td>193583</td>\n",
       "      <td>No Game No Life: Zero</td>\n",
       "      <td>Animation|Comedy|Fantasy</td>\n",
       "      <td>2017</td>\n",
       "      <td>NaN</td>\n",
       "    </tr>\n",
       "    <tr>\n",
       "      <th>9739</th>\n",
       "      <td>193585</td>\n",
       "      <td>Flint</td>\n",
       "      <td>Drama</td>\n",
       "      <td>2017</td>\n",
       "      <td>NaN</td>\n",
       "    </tr>\n",
       "    <tr>\n",
       "      <th>9740</th>\n",
       "      <td>193587</td>\n",
       "      <td>Bungo Stray Dogs: Dead Apple</td>\n",
       "      <td>Action|Animation</td>\n",
       "      <td>2018</td>\n",
       "      <td>NaN</td>\n",
       "    </tr>\n",
       "    <tr>\n",
       "      <th>9741</th>\n",
       "      <td>193609</td>\n",
       "      <td>Andrew Dice Clay: Dice Rules</td>\n",
       "      <td>Comedy</td>\n",
       "      <td>1991</td>\n",
       "      <td>NaN</td>\n",
       "    </tr>\n",
       "  </tbody>\n",
       "</table>\n",
       "<p>9708 rows × 5 columns</p>\n",
       "</div>"
      ],
      "text/plain": [
       "      movieId                               title  \\\n",
       "0           1                           Toy Story   \n",
       "1           2                             Jumanji   \n",
       "2           3                    Grumpier Old Men   \n",
       "3           4                   Waiting to Exhale   \n",
       "4           5         Father of the Bride Part II   \n",
       "...       ...                                 ...   \n",
       "9737   193581  Black Butler: Book of the Atlantic   \n",
       "9738   193583               No Game No Life: Zero   \n",
       "9739   193585                               Flint   \n",
       "9740   193587        Bungo Stray Dogs: Dead Apple   \n",
       "9741   193609        Andrew Dice Clay: Dice Rules   \n",
       "\n",
       "                                           genres  year_released     score  \n",
       "0     Adventure|Animation|Children|Comedy|Fantasy           1995  3.847421  \n",
       "1                      Adventure|Children|Fantasy           1995  3.398364  \n",
       "2                                  Comedy|Romance           1995  3.260453  \n",
       "3                            Comedy|Drama|Romance           1995       NaN  \n",
       "4                                          Comedy           1995  3.139155  \n",
       "...                                           ...            ...       ...  \n",
       "9737              Action|Animation|Comedy|Fantasy           2017       NaN  \n",
       "9738                     Animation|Comedy|Fantasy           2017       NaN  \n",
       "9739                                        Drama           2017       NaN  \n",
       "9740                             Action|Animation           2018       NaN  \n",
       "9741                                       Comedy           1991       NaN  \n",
       "\n",
       "[9708 rows x 5 columns]"
      ]
     },
     "execution_count": 147,
     "metadata": {},
     "output_type": "execute_result"
    }
   ],
   "source": [
    "movies['score'] = q_movies['score']\n",
    "movies"
   ]
  },
  {
   "cell_type": "markdown",
   "id": "72b846e5",
   "metadata": {},
   "source": [
    "We add the scores to the movies dataframe."
   ]
  },
  {
   "cell_type": "code",
   "execution_count": 148,
   "id": "2c3a6c64-2500-4ac3-b39a-f2bd87964991",
   "metadata": {},
   "outputs": [],
   "source": [
    "tfidf = TfidfVectorizer(stop_words='english')"
   ]
  },
  {
   "cell_type": "markdown",
   "id": "63e2ab9e",
   "metadata": {},
   "source": [
    "Initializing the vectorizer that we are going to use. "
   ]
  },
  {
   "cell_type": "code",
   "execution_count": 149,
   "id": "321c1ae6-f06b-40e7-a2bc-72376f3b7db6",
   "metadata": {},
   "outputs": [],
   "source": [
    "movies['genres'] = movies['genres'].fillna('')\n",
    "movies['score'] = movies['score'].fillna(0)"
   ]
  },
  {
   "cell_type": "markdown",
   "id": "0eb4d9db",
   "metadata": {},
   "source": [
    "Filling everthing that is null or NaN."
   ]
  },
  {
   "cell_type": "code",
   "execution_count": 150,
   "id": "c7f1edf6-803b-4b7a-bf5d-e62cff68b657",
   "metadata": {},
   "outputs": [
    {
     "data": {
      "text/html": [
       "<div>\n",
       "<style scoped>\n",
       "    .dataframe tbody tr th:only-of-type {\n",
       "        vertical-align: middle;\n",
       "    }\n",
       "\n",
       "    .dataframe tbody tr th {\n",
       "        vertical-align: top;\n",
       "    }\n",
       "\n",
       "    .dataframe thead th {\n",
       "        text-align: right;\n",
       "    }\n",
       "</style>\n",
       "<table border=\"1\" class=\"dataframe\">\n",
       "  <thead>\n",
       "    <tr style=\"text-align: right;\">\n",
       "      <th></th>\n",
       "      <th>movieId</th>\n",
       "      <th>title</th>\n",
       "      <th>genres</th>\n",
       "      <th>year_released</th>\n",
       "      <th>score</th>\n",
       "    </tr>\n",
       "  </thead>\n",
       "  <tbody>\n",
       "    <tr>\n",
       "      <th>277</th>\n",
       "      <td>318</td>\n",
       "      <td>Shawshank Redemption, The</td>\n",
       "      <td>Crime|Drama</td>\n",
       "      <td>1994</td>\n",
       "      <td>4.33743</td>\n",
       "    </tr>\n",
       "  </tbody>\n",
       "</table>\n",
       "</div>"
      ],
      "text/plain": [
       "     movieId                      title       genres  year_released    score\n",
       "277      318  Shawshank Redemption, The  Crime|Drama           1994  4.33743"
      ]
     },
     "execution_count": 150,
     "metadata": {},
     "output_type": "execute_result"
    }
   ],
   "source": [
    "movies[movies['title'] == 'Shawshank Redemption, The']"
   ]
  },
  {
   "cell_type": "code",
   "execution_count": 151,
   "id": "8d6c33bb-73c4-44e5-b61a-ec55c61b94a9",
   "metadata": {},
   "outputs": [],
   "source": [
    "#for streamlit\n",
    "#¢unique_genres_moviest.to_csv(current_directory + '/unique_genres_movies.csv', index=False)"
   ]
  },
  {
   "cell_type": "code",
   "execution_count": 152,
   "id": "3f103702-8cd8-453f-9df2-85b92327ee4a",
   "metadata": {},
   "outputs": [],
   "source": [
    "tfidf_matrix = tfidf.fit_transform(movies['genres'])"
   ]
  },
  {
   "cell_type": "markdown",
   "id": "f6434357",
   "metadata": {},
   "source": [
    "Converting the genres into vectors."
   ]
  },
  {
   "cell_type": "code",
   "execution_count": 153,
   "id": "725bf653-5a0c-4b89-98fe-254c76062b9d",
   "metadata": {},
   "outputs": [
    {
     "data": {
      "text/plain": [
       "(9708, 21)"
      ]
     },
     "execution_count": 153,
     "metadata": {},
     "output_type": "execute_result"
    }
   ],
   "source": [
    "tfidf_matrix.shape"
   ]
  },
  {
   "cell_type": "code",
   "execution_count": 154,
   "id": "8834bc8c-fe9a-4e74-80b1-022b9a21e826",
   "metadata": {},
   "outputs": [
    {
     "data": {
      "text/plain": [
       "(9708, 9708)"
      ]
     },
     "execution_count": 154,
     "metadata": {},
     "output_type": "execute_result"
    }
   ],
   "source": [
    "cosine_sim = linear_kernel(tfidf_matrix, tfidf_matrix)\n",
    "cosine_sim.shape"
   ]
  },
  {
   "cell_type": "raw",
   "id": "4123814c",
   "metadata": {},
   "source": [
    "Creating the cosine similarity matrix."
   ]
  },
  {
   "cell_type": "code",
   "execution_count": 155,
   "id": "61181290-74ca-4224-8ea2-cb3129e3035e",
   "metadata": {},
   "outputs": [
    {
     "name": "stdout",
     "output_type": "stream",
     "text": [
      "[[1.         0.8136036  0.15259961 ... 0.         0.42114166 0.26738778]\n",
      " [0.8136036  1.         0.         ... 0.         0.         0.        ]\n",
      " [0.15259961 0.         1.         ... 0.         0.         0.57070525]\n",
      " ...\n",
      " [0.         0.         0.         ... 1.         0.         0.        ]\n",
      " [0.42114166 0.         0.         ... 0.         1.         0.        ]\n",
      " [0.26738778 0.         0.57070525 ... 0.         0.         1.        ]]\n"
     ]
    }
   ],
   "source": [
    "print(cosine_sim)"
   ]
  },
  {
   "cell_type": "markdown",
   "id": "92f174fb",
   "metadata": {},
   "source": [
    "See the cosine matrix. (Or some of it atleast)."
   ]
  },
  {
   "cell_type": "code",
   "execution_count": 156,
   "id": "70d79b5d-1954-44ea-94d4-5266bfab19c4",
   "metadata": {},
   "outputs": [
    {
     "data": {
      "text/plain": [
       "genres\n",
       "Adventure|Animation|Children|Comedy|Fantasy       0\n",
       "Adventure|Children|Fantasy                        1\n",
       "Comedy|Romance                                    2\n",
       "Comedy|Drama|Romance                              3\n",
       "Comedy                                            4\n",
       "                                               ... \n",
       "Action|Animation|Comedy|Fantasy                9737\n",
       "Animation|Comedy|Fantasy                       9738\n",
       "Drama                                          9739\n",
       "Action|Animation                               9740\n",
       "Comedy                                         9741\n",
       "Length: 9708, dtype: int64"
      ]
     },
     "execution_count": 156,
     "metadata": {},
     "output_type": "execute_result"
    }
   ],
   "source": [
    "indices = pd.Series(movies.index, index=movies['genres']).drop_duplicates()\n",
    "indices"
   ]
  },
  {
   "cell_type": "code",
   "execution_count": 157,
   "id": "708ee7e8-5bed-4ab1-9187-504b99ddd0aa",
   "metadata": {},
   "outputs": [],
   "source": [
    "def get_recommendations(genre, cosine_sim=cosine_sim):\n",
    "        # Get the indices of movies with the specified genre\n",
    "        genre_list = genre.split('|')\n",
    "        sorted_genre_list = sorted(genre_list)\n",
    "        separator = '|'\n",
    "        genre = separator.join(sorted_genre_list)\n",
    "        genre_indices = indices[genre]\n",
    "\n",
    "        # Initialize an empty list to store similarity scores\n",
    "        sim_scores = []\n",
    "\n",
    "        # Iterate over the genre indices and get the cosine similarity scores\n",
    "        for idx in genre_indices:\n",
    "            if idx < len(cosine_sim):\n",
    "                sim_scores.extend(list(enumerate(cosine_sim[idx])))\n",
    "\n",
    "        # Sort the movies based on the similarity scores\n",
    "        sim_scores = sorted(sim_scores, key=lambda x: x[1], reverse=True)\n",
    "\n",
    "        # Get the scores of the 10 most similar movies\n",
    "        sim_scores = sim_scores[1:10]\n",
    "\n",
    "        # Get the movie indices\n",
    "        movie_indices = [i[0] for i in sim_scores]\n",
    "\n",
    "        # Return the top 10 most similar movies\n",
    "        genre_list = genre.split('|')\n",
    "        movies_with_score = movies[['title', 'genres', 'score']].iloc[movie_indices]\n",
    "        sorted_genre_list = sorted(genre_list)\n",
    "        filtered_movies = movies[(movies['score'] > 0) & movies['genres'].apply(lambda x: all(genre in x for genre in sorted_genre_list))]\n",
    "        sorted_movies = filtered_movies.sort_values(by='score', ascending=False)\n",
    "        return sorted_movies.drop_duplicates(subset='title').head(5)"
   ]
  },
  {
   "cell_type": "markdown",
   "id": "f87255b5",
   "metadata": {},
   "source": [
    "Creating the function to create recommendations. "
   ]
  },
  {
   "cell_type": "code",
   "execution_count": 158,
   "id": "4bed1402-2a0b-4efe-aa80-5fb5eb2e6969",
   "metadata": {},
   "outputs": [
    {
     "data": {
      "text/html": [
       "<div>\n",
       "<style scoped>\n",
       "    .dataframe tbody tr th:only-of-type {\n",
       "        vertical-align: middle;\n",
       "    }\n",
       "\n",
       "    .dataframe tbody tr th {\n",
       "        vertical-align: top;\n",
       "    }\n",
       "\n",
       "    .dataframe thead th {\n",
       "        text-align: right;\n",
       "    }\n",
       "</style>\n",
       "<table border=\"1\" class=\"dataframe\">\n",
       "  <thead>\n",
       "    <tr style=\"text-align: right;\">\n",
       "      <th></th>\n",
       "      <th>movieId</th>\n",
       "      <th>title</th>\n",
       "      <th>genres</th>\n",
       "      <th>year_released</th>\n",
       "      <th>score</th>\n",
       "    </tr>\n",
       "  </thead>\n",
       "  <tbody>\n",
       "    <tr>\n",
       "      <th>951</th>\n",
       "      <td>1252</td>\n",
       "      <td>Chinatown</td>\n",
       "      <td>Crime|Film-Noir|Mystery|Thriller</td>\n",
       "      <td>1974</td>\n",
       "      <td>3.913672</td>\n",
       "    </tr>\n",
       "    <tr>\n",
       "      <th>1218</th>\n",
       "      <td>1617</td>\n",
       "      <td>L.A. Confidential</td>\n",
       "      <td>Crime|Film-Noir|Mystery|Thriller</td>\n",
       "      <td>1997</td>\n",
       "      <td>3.887708</td>\n",
       "    </tr>\n",
       "    <tr>\n",
       "      <th>695</th>\n",
       "      <td>913</td>\n",
       "      <td>Maltese Falcon, The</td>\n",
       "      <td>Film-Noir|Mystery</td>\n",
       "      <td>1941</td>\n",
       "      <td>3.825011</td>\n",
       "    </tr>\n",
       "    <tr>\n",
       "      <th>704</th>\n",
       "      <td>922</td>\n",
       "      <td>Sunset Blvd. (a.k.a. Sunset Boulevard)</td>\n",
       "      <td>Drama|Film-Noir|Romance</td>\n",
       "      <td>1950</td>\n",
       "      <td>3.797700</td>\n",
       "    </tr>\n",
       "    <tr>\n",
       "      <th>5850</th>\n",
       "      <td>32587</td>\n",
       "      <td>Sin City</td>\n",
       "      <td>Action|Crime|Film-Noir|Mystery|Thriller</td>\n",
       "      <td>2005</td>\n",
       "      <td>3.712395</td>\n",
       "    </tr>\n",
       "  </tbody>\n",
       "</table>\n",
       "</div>"
      ],
      "text/plain": [
       "      movieId                                   title  \\\n",
       "951      1252                               Chinatown   \n",
       "1218     1617                       L.A. Confidential   \n",
       "695       913                     Maltese Falcon, The   \n",
       "704       922  Sunset Blvd. (a.k.a. Sunset Boulevard)   \n",
       "5850    32587                                Sin City   \n",
       "\n",
       "                                       genres  year_released     score  \n",
       "951          Crime|Film-Noir|Mystery|Thriller           1974  3.913672  \n",
       "1218         Crime|Film-Noir|Mystery|Thriller           1997  3.887708  \n",
       "695                         Film-Noir|Mystery           1941  3.825011  \n",
       "704                   Drama|Film-Noir|Romance           1950  3.797700  \n",
       "5850  Action|Crime|Film-Noir|Mystery|Thriller           2005  3.712395  "
      ]
     },
     "execution_count": 158,
     "metadata": {},
     "output_type": "execute_result"
    }
   ],
   "source": [
    "get_recommendations('Film-Noir')"
   ]
  },
  {
   "cell_type": "code",
   "execution_count": 159,
   "id": "de51d894",
   "metadata": {},
   "outputs": [
    {
     "data": {
      "text/html": [
       "<div>\n",
       "<style scoped>\n",
       "    .dataframe tbody tr th:only-of-type {\n",
       "        vertical-align: middle;\n",
       "    }\n",
       "\n",
       "    .dataframe tbody tr th {\n",
       "        vertical-align: top;\n",
       "    }\n",
       "\n",
       "    .dataframe thead th {\n",
       "        text-align: right;\n",
       "    }\n",
       "</style>\n",
       "<table border=\"1\" class=\"dataframe\">\n",
       "  <thead>\n",
       "    <tr style=\"text-align: right;\">\n",
       "      <th></th>\n",
       "      <th>movieId</th>\n",
       "      <th>title</th>\n",
       "      <th>genres</th>\n",
       "      <th>year_released</th>\n",
       "      <th>score</th>\n",
       "    </tr>\n",
       "  </thead>\n",
       "  <tbody>\n",
       "    <tr>\n",
       "      <th>2226</th>\n",
       "      <td>2959</td>\n",
       "      <td>Fight Club</td>\n",
       "      <td>Action|Crime|Drama|Thriller</td>\n",
       "      <td>1999</td>\n",
       "      <td>4.161534</td>\n",
       "    </tr>\n",
       "    <tr>\n",
       "      <th>6710</th>\n",
       "      <td>58559</td>\n",
       "      <td>Dark Knight, The</td>\n",
       "      <td>Action|Crime|Drama|IMAX</td>\n",
       "      <td>2008</td>\n",
       "      <td>4.088499</td>\n",
       "    </tr>\n",
       "    <tr>\n",
       "      <th>1503</th>\n",
       "      <td>2028</td>\n",
       "      <td>Saving Private Ryan</td>\n",
       "      <td>Action|Drama|War</td>\n",
       "      <td>1998</td>\n",
       "      <td>4.035236</td>\n",
       "    </tr>\n",
       "    <tr>\n",
       "      <th>909</th>\n",
       "      <td>1208</td>\n",
       "      <td>Apocalypse Now</td>\n",
       "      <td>Action|Drama|War</td>\n",
       "      <td>1979</td>\n",
       "      <td>4.026685</td>\n",
       "    </tr>\n",
       "    <tr>\n",
       "      <th>4800</th>\n",
       "      <td>7153</td>\n",
       "      <td>Lord of the Rings: The Return of the King, The</td>\n",
       "      <td>Action|Adventure|Drama|Fantasy</td>\n",
       "      <td>2003</td>\n",
       "      <td>4.009792</td>\n",
       "    </tr>\n",
       "  </tbody>\n",
       "</table>\n",
       "</div>"
      ],
      "text/plain": [
       "      movieId                                           title  \\\n",
       "2226     2959                                      Fight Club   \n",
       "6710    58559                                Dark Knight, The   \n",
       "1503     2028                             Saving Private Ryan   \n",
       "909      1208                                  Apocalypse Now   \n",
       "4800     7153  Lord of the Rings: The Return of the King, The   \n",
       "\n",
       "                              genres  year_released     score  \n",
       "2226     Action|Crime|Drama|Thriller           1999  4.161534  \n",
       "6710         Action|Crime|Drama|IMAX           2008  4.088499  \n",
       "1503                Action|Drama|War           1998  4.035236  \n",
       "909                 Action|Drama|War           1979  4.026685  \n",
       "4800  Action|Adventure|Drama|Fantasy           2003  4.009792  "
      ]
     },
     "execution_count": 159,
     "metadata": {},
     "output_type": "execute_result"
    }
   ],
   "source": [
    "get_recommendations('Drama|Action')"
   ]
  },
  {
   "cell_type": "code",
   "execution_count": 160,
   "id": "29010cce",
   "metadata": {},
   "outputs": [
    {
     "data": {
      "text/html": [
       "<div>\n",
       "<style scoped>\n",
       "    .dataframe tbody tr th:only-of-type {\n",
       "        vertical-align: middle;\n",
       "    }\n",
       "\n",
       "    .dataframe tbody tr th {\n",
       "        vertical-align: top;\n",
       "    }\n",
       "\n",
       "    .dataframe thead th {\n",
       "        text-align: right;\n",
       "    }\n",
       "</style>\n",
       "<table border=\"1\" class=\"dataframe\">\n",
       "  <thead>\n",
       "    <tr style=\"text-align: right;\">\n",
       "      <th></th>\n",
       "      <th>movieId</th>\n",
       "      <th>title</th>\n",
       "      <th>genres</th>\n",
       "      <th>year_released</th>\n",
       "      <th>score</th>\n",
       "    </tr>\n",
       "  </thead>\n",
       "  <tbody>\n",
       "    <tr>\n",
       "      <th>257</th>\n",
       "      <td>296</td>\n",
       "      <td>Pulp Fiction</td>\n",
       "      <td>Comedy|Crime|Drama|Thriller</td>\n",
       "      <td>1994</td>\n",
       "      <td>4.121484</td>\n",
       "    </tr>\n",
       "    <tr>\n",
       "      <th>314</th>\n",
       "      <td>356</td>\n",
       "      <td>Forrest Gump</td>\n",
       "      <td>Comedy|Drama|Romance|War</td>\n",
       "      <td>1994</td>\n",
       "      <td>4.095719</td>\n",
       "    </tr>\n",
       "    <tr>\n",
       "      <th>899</th>\n",
       "      <td>1197</td>\n",
       "      <td>Princess Bride, The</td>\n",
       "      <td>Action|Adventure|Comedy|Fantasy|Romance</td>\n",
       "      <td>1987</td>\n",
       "      <td>4.077372</td>\n",
       "    </tr>\n",
       "    <tr>\n",
       "      <th>602</th>\n",
       "      <td>750</td>\n",
       "      <td>Dr. Strangelove or: How I Learned to Stop Worr...</td>\n",
       "      <td>Comedy|War</td>\n",
       "      <td>1964</td>\n",
       "      <td>4.048998</td>\n",
       "    </tr>\n",
       "    <tr>\n",
       "      <th>3622</th>\n",
       "      <td>4973</td>\n",
       "      <td>Amelie (Fabuleux destin d'Amélie Poulain, Le)</td>\n",
       "      <td>Comedy|Romance</td>\n",
       "      <td>2001</td>\n",
       "      <td>4.014121</td>\n",
       "    </tr>\n",
       "  </tbody>\n",
       "</table>\n",
       "</div>"
      ],
      "text/plain": [
       "      movieId                                              title  \\\n",
       "257       296                                       Pulp Fiction   \n",
       "314       356                                       Forrest Gump   \n",
       "899      1197                                Princess Bride, The   \n",
       "602       750  Dr. Strangelove or: How I Learned to Stop Worr...   \n",
       "3622     4973      Amelie (Fabuleux destin d'Amélie Poulain, Le)   \n",
       "\n",
       "                                       genres  year_released     score  \n",
       "257               Comedy|Crime|Drama|Thriller           1994  4.121484  \n",
       "314                  Comedy|Drama|Romance|War           1994  4.095719  \n",
       "899   Action|Adventure|Comedy|Fantasy|Romance           1987  4.077372  \n",
       "602                                Comedy|War           1964  4.048998  \n",
       "3622                           Comedy|Romance           2001  4.014121  "
      ]
     },
     "execution_count": 160,
     "metadata": {},
     "output_type": "execute_result"
    }
   ],
   "source": [
    "get_recommendations('Comedy')"
   ]
  },
  {
   "cell_type": "markdown",
   "id": "1f338321-69f6-4b5d-9937-868ac12ae51f",
   "metadata": {},
   "source": [
    "# Collaborative filtering recommender"
   ]
  },
  {
   "cell_type": "markdown",
   "id": "1199abaf-7dc0-4d3f-9135-d0f81aab23ad",
   "metadata": {},
   "source": [
    "### Preparing data, creating user-item matrix and splitting data into train/test"
   ]
  },
  {
   "cell_type": "code",
   "execution_count": 161,
   "id": "089db2c8-95c0-4753-bdd7-1c9cdd6d1638",
   "metadata": {},
   "outputs": [
    {
     "name": "stdout",
     "output_type": "stream",
     "text": [
      "Number of unique user IDs: 547\n"
     ]
    }
   ],
   "source": [
    "# Count the number of ratings per user\n",
    "user_rating_counts = mvrt['userId'].value_counts()\n",
    "\n",
    "# Filter out users with less than 25 ratings\n",
    "valid_users = user_rating_counts[user_rating_counts >= 25].index\n",
    "\n",
    "# Filter the original dataframe to keep only the ratings from valid users\n",
    "mvrt_filtered = mvrt[mvrt['userId'].isin(valid_users)]\n",
    "\n",
    "num_unique_users = mvrt_filtered['userId'].nunique()\n",
    "\n",
    "print(\"Number of unique user IDs:\", num_unique_users)\n",
    "\n",
    "# Pivot the data to create a user-item matrix\n",
    "user_movie_matrix = mvrt_filtered.pivot_table(index='userId', columns='movieId', values='rating', fill_value=0)\n",
    "\n",
    "# Convert the DataFrame to a numpy array\n",
    "user_movie_array = user_movie_matrix.to_numpy()\n",
    "\n",
    "# Split data into train and test\n",
    "train_data, test_data = train_test_split(user_movie_array, test_size=0.3, random_state=42)"
   ]
  },
  {
   "cell_type": "markdown",
   "id": "b7b45646-0bcf-4cf7-a58f-4aa09286d10e",
   "metadata": {},
   "source": [
    "## Cosine similarity"
   ]
  },
  {
   "cell_type": "code",
   "execution_count": 162,
   "id": "9e95ed4f-5d71-45c2-9f53-91e84733b1a0",
   "metadata": {},
   "outputs": [
    {
     "data": {
      "image/png": "[encoded data removed]",
      "text/plain": [
       "<Figure size 1000x800 with 2 Axes>"
      ]
     },
     "metadata": {},
     "output_type": "display_data"
    }
   ],
   "source": [
    "class CollaborativeFilteringRecommender:\n",
    "    def __init__(self, n_neighbors=5):\n",
    "        self.n_neighbors = n_neighbors\n",
    "        self.user_similarity = None\n",
    "\n",
    "    def fit(self, train_data):\n",
    "        # Compute user-user similarity matrix using cosine similarity\n",
    "        self.user_similarity = cosine_similarity(train_data)\n",
    "\n",
    "        plt.figure(figsize=(10, 8))\n",
    "        subset_similarity_matrix = self.user_similarity[:20, :20]\n",
    "        sns.heatmap(subset_similarity_matrix, cmap=\"YlGnBu\", annot=True, fmt=\".2f\", linewidths=.5)\n",
    "        plt.xlabel(\"User ID\")\n",
    "        plt.ylabel(\"User ID\")\n",
    "        plt.title(\"User-User Similarity Matrix for the First 30 Users\")\n",
    "        plt.show()\n",
    "\n",
    "    def predict(self, user_indices, train_data):\n",
    "        # Compute weighted average of ratings from similar users for each user index\n",
    "        recommendations = []\n",
    "        for user_index in user_indices:\n",
    "            user_sim_scores = self.user_similarity[user_index]\n",
    "            top_sim_users = np.argsort(user_sim_scores)[-self.n_neighbors - 1:-1]  # Exclude the user itself\n",
    "\n",
    "            user_ratings = train_data[top_sim_users, :]\n",
    "            user_sim_scores = user_sim_scores[top_sim_users]\n",
    "\n",
    "            # Weighted average of ratings from similar users\n",
    "            pred_ratings = np.dot(user_sim_scores, user_ratings) / np.sum(user_sim_scores)\n",
    "            recommendations.append(pred_ratings)\n",
    "\n",
    "        return recommendations\n",
    "\n",
    "# Instantiate the recommender system\n",
    "recommender = CollaborativeFilteringRecommender(n_neighbors=50)\n",
    "\n",
    "# Train the recommender system\n",
    "recommender.fit(train_data)\n",
    "\n",
    "# Make recommendations for specified user indices\n",
    "user_indices = [8]\n",
    "recommendations = recommender.predict(user_indices, train_data)"
   ]
  },
  {
   "cell_type": "markdown",
   "id": "79696011-ce34-490d-abb7-02455f885dc7",
   "metadata": {},
   "source": [
    "### Recommendations"
   ]
  },
  {
   "cell_type": "code",
   "execution_count": 163,
   "id": "2da9fc9b-648a-499d-9fe7-a59880f67f92",
   "metadata": {},
   "outputs": [
    {
     "name": "stdout",
     "output_type": "stream",
     "text": [
      "User 8:\n",
      "     Known positives:\n",
      "             Usual Suspects, The\n",
      "             Schindler's List\n",
      "             Dances with Wolves\n",
      "     Recommended:\n",
      "             Winnie the Pooh and the Honey Tree (Predicted Rating: 4.20)\n",
      "             Ex Machina (Predicted Rating: 4.18)\n",
      "             Pride & Prejudice (Predicted Rating: 4.06)\n"
     ]
    }
   ],
   "source": [
    "for i, user_index in enumerate(user_indices):\n",
    "    print(f\"User {user_index}:\")\n",
    "    print(\"     Known positives:\")\n",
    "    known_positives = mvrt[(mvrt['userId'] == user_index) & (mvrt['rating'] > 4)].nlargest(3, 'rating')\n",
    "    for _, row in known_positives.iterrows():\n",
    "        print(\"             %s\" % row['title'])\n",
    "    \n",
    "    print(\"     Recommended:\")\n",
    "    for item_index in recommendations[i].argsort()[-3:][::-1]:\n",
    "        movie_id = mvrt['movieId'].unique()[item_index]\n",
    "        movie_title = mvrt[mvrt['movieId'] == movie_id]['title'].iloc[0]\n",
    "        pred_rating = recommendations[i][item_index]  # Predicted rating for the recommended movie\n",
    "        print(\"             %s (Predicted Rating: %.2f)\" % (movie_title, pred_rating))\n"
   ]
  },
  {
   "cell_type": "markdown",
   "id": "0d359c74-3d71-45aa-a97d-f5fa2a034202",
   "metadata": {},
   "source": [
    "### Evaluation"
   ]
  },
  {
   "cell_type": "code",
   "execution_count": 164,
   "id": "b1497f32-cd24-4e8f-97c5-e72c2ca5a940",
   "metadata": {},
   "outputs": [
    {
     "name": "stdout",
     "output_type": "stream",
     "text": [
      "Mean Squared Error: 0.2791590012171851\n",
      "Mean Absolute Error: 0.15100186400598403\n",
      "Root Mean Squared Error: 0.528354995450204\n"
     ]
    }
   ],
   "source": [
    "# Make predictions for the test set\n",
    "test_predictions = recommender.predict(range(len(test_data)), train_data)\n",
    "\n",
    "# Calculate mean squared error\n",
    "mse = mean_squared_error(test_data, test_predictions)\n",
    "print(\"Mean Squared Error:\", mse)\n",
    "# Calculate mean absolute error\n",
    "mae = mean_absolute_error(test_data, test_predictions)\n",
    "print(\"Mean Absolute Error:\", mae)\n",
    "# Calculate root mean squared error\n",
    "rmse = np.sqrt(metrics.mean_squared_error(test_data, test_predictions))\n",
    "print(\"Root Mean Squared Error:\",rmse)\n"
   ]
  },
  {
   "cell_type": "markdown",
   "id": "2199188e-94cd-4d8d-9d6b-153097c40e05",
   "metadata": {},
   "source": [
    "Mean squared error (MSE) can be affected by movies that the user hasn't rated in the test set, since there's no ground truth to compare the predicted rating against. This is a common challenge in recommendation systems evaluation, known as the \"cold start problem\"."
   ]
  },
  {
   "cell_type": "markdown",
   "id": "42a6f59c-cbf5-4190-bba9-f8427f9f7619",
   "metadata": {},
   "source": [
    "## SVD"
   ]
  },
  {
   "cell_type": "code",
   "execution_count": 165,
   "id": "914db4bb-7621-4d78-9a57-9a5aa60f63d1",
   "metadata": {},
   "outputs": [],
   "source": [
    "class CollaborativeFilteringRecommender2:\n",
    "    def __init__(self, n_neighbors=5):\n",
    "        self.n_neighbors = n_neighbors\n",
    "        self.user_similarity = None\n",
    "\n",
    "    def fit(self, train_data):\n",
    "        # Perform Singular Value Decomposition\n",
    "        u, s, vh = np.linalg.svd(train_data, full_matrices=False)\n",
    "\n",
    "        # Compute user-user similarity matrix using cosine similarity\n",
    "        self.user_similarity = np.zeros((train_data.shape[0], train_data.shape[0]))\n",
    "        for i in range(train_data.shape[0]):\n",
    "            for j in range(train_data.shape[0]):\n",
    "                self.user_similarity[i, j] = np.dot(vh[i], vh[j]) / (np.linalg.norm(vh[i]) * np.linalg.norm(vh[j]))\n",
    "\n",
    "    def predict(self, user_indices, train_data):\n",
    "        # Compute weighted average of ratings from similar users for each user index\n",
    "        recommendations = []\n",
    "        for user_index in user_indices:\n",
    "            user_sim_scores = self.user_similarity[user_index]\n",
    "            top_sim_users = np.argsort(user_sim_scores)[-self.n_neighbors - 1:-1]  # Exclude the user itself\n",
    "\n",
    "            user_ratings = train_data[top_sim_users, :]\n",
    "            user_sim_scores = user_sim_scores[top_sim_users]\n",
    "\n",
    "            # Weighted average of ratings from similar users\n",
    "            pred_ratings = np.dot(user_sim_scores, user_ratings) / np.sum(user_sim_scores)\n",
    "            recommendations.append(pred_ratings)\n",
    "\n",
    "        return recommendations\n",
    "\n",
    "\n",
    "# Instantiate the recommender system\n",
    "recommender = CollaborativeFilteringRecommender2(n_neighbors=50)\n",
    "\n",
    "# Train the recommender system\n",
    "recommender.fit(train_data)\n",
    "\n",
    "# Make recommendations for specified user indices\n",
    "user_indices = [8]\n",
    "recommendations = recommender.predict(user_indices, train_data)"
   ]
  },
  {
   "cell_type": "markdown",
   "id": "6d83927d-6133-46c9-b2d8-80138fc423da",
   "metadata": {},
   "source": [
    "### Recommendations"
   ]
  },
  {
   "cell_type": "code",
   "execution_count": 166,
   "id": "8155f97b-437e-49d0-9c55-00fae6078518",
   "metadata": {},
   "outputs": [
    {
     "name": "stdout",
     "output_type": "stream",
     "text": [
      "User 8:\n",
      "     Known positives:\n",
      "             Usual Suspects, The\n",
      "             Schindler's List\n",
      "             Dances with Wolves\n",
      "     Recommended:\n",
      "             Mad Max (Predicted Rating: 2.39)\n",
      "             Four Weddings and a Funeral (Predicted Rating: 2.38)\n",
      "             Winnie the Pooh and the Honey Tree (Predicted Rating: 2.36)\n"
     ]
    }
   ],
   "source": [
    "for i, user_index in enumerate(user_indices):\n",
    "    print(f\"User {user_index}:\")\n",
    "    print(\"     Known positives:\")\n",
    "    known_positives = mvrt[(mvrt['userId'] == user_index) & (mvrt['rating'] > 4)].nlargest(3, 'rating')\n",
    "    for _, row in known_positives.iterrows():\n",
    "        print(\"             %s\" % row['title'])\n",
    "    \n",
    "    print(\"     Recommended:\")\n",
    "    for item_index in recommendations[i].argsort()[-3:][::-1]:\n",
    "        movie_id = mvrt['movieId'].unique()[item_index]\n",
    "        movie_title = mvrt[mvrt['movieId'] == movie_id]['title'].iloc[0]\n",
    "        pred_rating = recommendations[i][item_index]  # Predicted rating for the recommended movie\n",
    "        print(\"             %s (Predicted Rating: %.2f)\" % (movie_title, pred_rating))\n"
   ]
  },
  {
   "cell_type": "markdown",
   "id": "d4de693e-5bf4-48f5-ae61-03a1ce133290",
   "metadata": {},
   "source": [
    "### Evaluation"
   ]
  },
  {
   "cell_type": "code",
   "execution_count": 167,
   "id": "b2bc7e0d-0fc4-4a1f-a9c0-33729773fe86",
   "metadata": {},
   "outputs": [
    {
     "name": "stdout",
     "output_type": "stream",
     "text": [
      "Mean Squared Error: 0.23418213337765983\n",
      "Mean Absolute Error: 0.11969815918376428\n",
      "Root Mean Squared Error: 0.48392368548941667\n"
     ]
    }
   ],
   "source": [
    "# Make predictions for the test set\n",
    "test_predictions = recommender.predict(range(len(test_data)), train_data)\n",
    "\n",
    "# Calculate mean squared error\n",
    "mse = metrics.mean_squared_error(test_data, test_predictions)\n",
    "print(\"Mean Squared Error:\", mse)\n",
    "# Calculate mean absolute error\n",
    "mae = metrics.mean_absolute_error(test_data, test_predictions)\n",
    "print(\"Mean Absolute Error:\", mae)\n",
    "\n",
    "# Calculate root mean squared error\n",
    "rmse = np.sqrt(metrics.mean_squared_error(test_data, test_predictions))\n",
    "print(\"Root Mean Squared Error:\",rmse)"
   ]
  }
 ],
 "metadata": {
  "kernelspec": {
   "display_name": "Python 3 (ipykernel)",
   "language": "python",
   "name": "python3"
  },
  "language_info": {
   "codemirror_mode": {
    "name": "ipython",
    "version": 3
   },
   "file_extension": ".py",
   "mimetype": "text/x-python",
   "name": "python",
   "nbconvert_exporter": "python",
   "pygments_lexer": "ipython3",
   "version": "3.11.5"
  }
 },
 "nbformat": 4,
 "nbformat_minor": 5
}
