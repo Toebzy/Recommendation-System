{
 "cells": [
  {
   "cell_type": "code",
   "execution_count": 64,
   "id": "bf790c39-479e-4f56-99c4-a7fb5d1e2856",
   "metadata": {},
   "outputs": [],
   "source": [
    "# pandas for data structures and operations for manipulating numerical tables and time series\n",
    "import pandas as pd\n",
    "from pandas.plotting import scatter_matrix\n",
    "\n",
    "# matplotlib.pyplot for data plots\n",
    "import matplotlib.pyplot as plt\n",
    "\n",
    "# sklearn for machine learning methods\n",
    "from sklearn import tree\n",
    "from sklearn import model_selection\n",
    "from sklearn.metrics import classification_report\n",
    "from sklearn.metrics import confusion_matrix\n",
    "from sklearn.metrics import accuracy_score\n",
    "from sklearn.tree import DecisionTreeClassifier\n",
    "from sklearn.ensemble import RandomForestClassifier\n",
    "\n",
    "# for numeric calculations\n",
    "import numpy as np"
   ]
  },
  {
   "cell_type": "code",
   "execution_count": 65,
   "id": "aab108f7-28ac-47b7-bfcf-4160e018c0d5",
   "metadata": {},
   "outputs": [],
   "source": [
    "movies = pd.read_csv('./ml-latest-small/movies.csv', index_col=None, na_values=['NA'])"
   ]
  },
  {
   "cell_type": "code",
   "execution_count": 66,
   "id": "f224aa03-177e-48cc-b859-d0d071fd7fd1",
   "metadata": {},
   "outputs": [
    {
     "data": {
      "text/plain": [
       "(9742, 3)"
      ]
     },
     "execution_count": 66,
     "metadata": {},
     "output_type": "execute_result"
    }
   ],
   "source": [
    "movies.shape"
   ]
  },
  {
   "cell_type": "code",
   "execution_count": 67,
   "id": "5b5d63ca-ac4a-40e4-927c-6783f74cb59b",
   "metadata": {},
   "outputs": [
    {
     "data": {
      "text/html": [
       "<div>\n",
       "<style scoped>\n",
       "    .dataframe tbody tr th:only-of-type {\n",
       "        vertical-align: middle;\n",
       "    }\n",
       "\n",
       "    .dataframe tbody tr th {\n",
       "        vertical-align: top;\n",
       "    }\n",
       "\n",
       "    .dataframe thead th {\n",
       "        text-align: right;\n",
       "    }\n",
       "</style>\n",
       "<table border=\"1\" class=\"dataframe\">\n",
       "  <thead>\n",
       "    <tr style=\"text-align: right;\">\n",
       "      <th></th>\n",
       "      <th>movieId</th>\n",
       "      <th>title</th>\n",
       "      <th>genres</th>\n",
       "    </tr>\n",
       "  </thead>\n",
       "  <tbody>\n",
       "    <tr>\n",
       "      <th>0</th>\n",
       "      <td>1</td>\n",
       "      <td>Toy Story (1995)</td>\n",
       "      <td>Adventure|Animation|Children|Comedy|Fantasy</td>\n",
       "    </tr>\n",
       "    <tr>\n",
       "      <th>1</th>\n",
       "      <td>2</td>\n",
       "      <td>Jumanji (1995)</td>\n",
       "      <td>Adventure|Children|Fantasy</td>\n",
       "    </tr>\n",
       "    <tr>\n",
       "      <th>2</th>\n",
       "      <td>3</td>\n",
       "      <td>Grumpier Old Men (1995)</td>\n",
       "      <td>Comedy|Romance</td>\n",
       "    </tr>\n",
       "    <tr>\n",
       "      <th>3</th>\n",
       "      <td>4</td>\n",
       "      <td>Waiting to Exhale (1995)</td>\n",
       "      <td>Comedy|Drama|Romance</td>\n",
       "    </tr>\n",
       "    <tr>\n",
       "      <th>4</th>\n",
       "      <td>5</td>\n",
       "      <td>Father of the Bride Part II (1995)</td>\n",
       "      <td>Comedy</td>\n",
       "    </tr>\n",
       "  </tbody>\n",
       "</table>\n",
       "</div>"
      ],
      "text/plain": [
       "   movieId                               title  \\\n",
       "0        1                    Toy Story (1995)   \n",
       "1        2                      Jumanji (1995)   \n",
       "2        3             Grumpier Old Men (1995)   \n",
       "3        4            Waiting to Exhale (1995)   \n",
       "4        5  Father of the Bride Part II (1995)   \n",
       "\n",
       "                                        genres  \n",
       "0  Adventure|Animation|Children|Comedy|Fantasy  \n",
       "1                   Adventure|Children|Fantasy  \n",
       "2                               Comedy|Romance  \n",
       "3                         Comedy|Drama|Romance  \n",
       "4                                       Comedy  "
      ]
     },
     "execution_count": 67,
     "metadata": {},
     "output_type": "execute_result"
    }
   ],
   "source": [
    "movies.head()"
   ]
  },
  {
   "cell_type": "code",
   "execution_count": 68,
   "id": "f8cce013-ebb2-481c-b9e6-6ccaa837a4ec",
   "metadata": {},
   "outputs": [
    {
     "data": {
      "text/plain": [
       "193609"
      ]
     },
     "execution_count": 68,
     "metadata": {},
     "output_type": "execute_result"
    }
   ],
   "source": [
    "movies['movieId'].max()"
   ]
  },
  {
   "cell_type": "code",
   "execution_count": 69,
   "id": "23ff34ac-e00a-449b-927d-d5c17d714479",
   "metadata": {},
   "outputs": [],
   "source": [
    "ratings = pd.read_csv('./ml-latest-small/ratings.csv', index_col=None, na_values=['NA'])"
   ]
  },
  {
   "cell_type": "code",
   "execution_count": 70,
   "id": "650c3eaa-4bad-41d6-acfa-db3bc3fdd3dd",
   "metadata": {},
   "outputs": [
    {
     "data": {
      "text/plain": [
       "(100836, 4)"
      ]
     },
     "execution_count": 70,
     "metadata": {},
     "output_type": "execute_result"
    }
   ],
   "source": [
    "ratings.shape"
   ]
  },
  {
   "cell_type": "code",
   "execution_count": 71,
   "id": "71aee61f-73d0-4e7e-a514-da6533ef3bf0",
   "metadata": {},
   "outputs": [
    {
     "data": {
      "text/html": [
       "<div>\n",
       "<style scoped>\n",
       "    .dataframe tbody tr th:only-of-type {\n",
       "        vertical-align: middle;\n",
       "    }\n",
       "\n",
       "    .dataframe tbody tr th {\n",
       "        vertical-align: top;\n",
       "    }\n",
       "\n",
       "    .dataframe thead th {\n",
       "        text-align: right;\n",
       "    }\n",
       "</style>\n",
       "<table border=\"1\" class=\"dataframe\">\n",
       "  <thead>\n",
       "    <tr style=\"text-align: right;\">\n",
       "      <th></th>\n",
       "      <th>userId</th>\n",
       "      <th>movieId</th>\n",
       "      <th>rating</th>\n",
       "      <th>timestamp</th>\n",
       "    </tr>\n",
       "  </thead>\n",
       "  <tbody>\n",
       "    <tr>\n",
       "      <th>0</th>\n",
       "      <td>1</td>\n",
       "      <td>1</td>\n",
       "      <td>4.0</td>\n",
       "      <td>964982703</td>\n",
       "    </tr>\n",
       "    <tr>\n",
       "      <th>1</th>\n",
       "      <td>1</td>\n",
       "      <td>3</td>\n",
       "      <td>4.0</td>\n",
       "      <td>964981247</td>\n",
       "    </tr>\n",
       "    <tr>\n",
       "      <th>2</th>\n",
       "      <td>1</td>\n",
       "      <td>6</td>\n",
       "      <td>4.0</td>\n",
       "      <td>964982224</td>\n",
       "    </tr>\n",
       "    <tr>\n",
       "      <th>3</th>\n",
       "      <td>1</td>\n",
       "      <td>47</td>\n",
       "      <td>5.0</td>\n",
       "      <td>964983815</td>\n",
       "    </tr>\n",
       "    <tr>\n",
       "      <th>4</th>\n",
       "      <td>1</td>\n",
       "      <td>50</td>\n",
       "      <td>5.0</td>\n",
       "      <td>964982931</td>\n",
       "    </tr>\n",
       "  </tbody>\n",
       "</table>\n",
       "</div>"
      ],
      "text/plain": [
       "   userId  movieId  rating  timestamp\n",
       "0       1        1     4.0  964982703\n",
       "1       1        3     4.0  964981247\n",
       "2       1        6     4.0  964982224\n",
       "3       1       47     5.0  964983815\n",
       "4       1       50     5.0  964982931"
      ]
     },
     "execution_count": 71,
     "metadata": {},
     "output_type": "execute_result"
    }
   ],
   "source": [
    "ratings.head()"
   ]
  },
  {
   "cell_type": "code",
   "execution_count": 72,
   "id": "cbe23341-ff06-4a95-8be0-1fcb42e6263d",
   "metadata": {},
   "outputs": [],
   "source": [
    "tags = pd.read_csv('./ml-latest-small/tags.csv', index_col=None, na_values=['NA'])"
   ]
  },
  {
   "cell_type": "code",
   "execution_count": 73,
   "id": "98b75349-5b9e-42b9-b13e-487a61cc5022",
   "metadata": {},
   "outputs": [
    {
     "data": {
      "text/plain": [
       "(3683, 4)"
      ]
     },
     "execution_count": 73,
     "metadata": {},
     "output_type": "execute_result"
    }
   ],
   "source": [
    "tags.shape"
   ]
  },
  {
   "cell_type": "code",
   "execution_count": 74,
   "id": "1da69d2e-3562-454d-99fd-13838114c70c",
   "metadata": {},
   "outputs": [
    {
     "data": {
      "text/html": [
       "<div>\n",
       "<style scoped>\n",
       "    .dataframe tbody tr th:only-of-type {\n",
       "        vertical-align: middle;\n",
       "    }\n",
       "\n",
       "    .dataframe tbody tr th {\n",
       "        vertical-align: top;\n",
       "    }\n",
       "\n",
       "    .dataframe thead th {\n",
       "        text-align: right;\n",
       "    }\n",
       "</style>\n",
       "<table border=\"1\" class=\"dataframe\">\n",
       "  <thead>\n",
       "    <tr style=\"text-align: right;\">\n",
       "      <th></th>\n",
       "      <th>userId</th>\n",
       "      <th>movieId</th>\n",
       "      <th>tag</th>\n",
       "      <th>timestamp</th>\n",
       "    </tr>\n",
       "  </thead>\n",
       "  <tbody>\n",
       "    <tr>\n",
       "      <th>0</th>\n",
       "      <td>2</td>\n",
       "      <td>60756</td>\n",
       "      <td>funny</td>\n",
       "      <td>1445714994</td>\n",
       "    </tr>\n",
       "    <tr>\n",
       "      <th>1</th>\n",
       "      <td>2</td>\n",
       "      <td>60756</td>\n",
       "      <td>Highly quotable</td>\n",
       "      <td>1445714996</td>\n",
       "    </tr>\n",
       "    <tr>\n",
       "      <th>2</th>\n",
       "      <td>2</td>\n",
       "      <td>60756</td>\n",
       "      <td>will ferrell</td>\n",
       "      <td>1445714992</td>\n",
       "    </tr>\n",
       "    <tr>\n",
       "      <th>3</th>\n",
       "      <td>2</td>\n",
       "      <td>89774</td>\n",
       "      <td>Boxing story</td>\n",
       "      <td>1445715207</td>\n",
       "    </tr>\n",
       "    <tr>\n",
       "      <th>4</th>\n",
       "      <td>2</td>\n",
       "      <td>89774</td>\n",
       "      <td>MMA</td>\n",
       "      <td>1445715200</td>\n",
       "    </tr>\n",
       "  </tbody>\n",
       "</table>\n",
       "</div>"
      ],
      "text/plain": [
       "   userId  movieId              tag   timestamp\n",
       "0       2    60756            funny  1445714994\n",
       "1       2    60756  Highly quotable  1445714996\n",
       "2       2    60756     will ferrell  1445714992\n",
       "3       2    89774     Boxing story  1445715207\n",
       "4       2    89774              MMA  1445715200"
      ]
     },
     "execution_count": 74,
     "metadata": {},
     "output_type": "execute_result"
    }
   ],
   "source": [
    "tags.head()"
   ]
  },
  {
   "cell_type": "code",
   "execution_count": 75,
   "id": "3fe1d9bc-2222-42ef-a7ab-51158e4e4e44",
   "metadata": {},
   "outputs": [],
   "source": [
    "links = pd.read_csv('./ml-latest-small/links.csv', index_col=None, na_values=['NA'])"
   ]
  },
  {
   "cell_type": "code",
   "execution_count": 76,
   "id": "1594d25c-8f7e-4dad-915d-83e0fc3177bc",
   "metadata": {},
   "outputs": [
    {
     "data": {
      "text/plain": [
       "(9742, 3)"
      ]
     },
     "execution_count": 76,
     "metadata": {},
     "output_type": "execute_result"
    }
   ],
   "source": [
    "links.shape"
   ]
  },
  {
   "cell_type": "code",
   "execution_count": 77,
   "id": "4d16b5a2-bb40-482c-b9b3-3dcfe88df49a",
   "metadata": {},
   "outputs": [
    {
     "data": {
      "text/html": [
       "<div>\n",
       "<style scoped>\n",
       "    .dataframe tbody tr th:only-of-type {\n",
       "        vertical-align: middle;\n",
       "    }\n",
       "\n",
       "    .dataframe tbody tr th {\n",
       "        vertical-align: top;\n",
       "    }\n",
       "\n",
       "    .dataframe thead th {\n",
       "        text-align: right;\n",
       "    }\n",
       "</style>\n",
       "<table border=\"1\" class=\"dataframe\">\n",
       "  <thead>\n",
       "    <tr style=\"text-align: right;\">\n",
       "      <th></th>\n",
       "      <th>movieId</th>\n",
       "      <th>imdbId</th>\n",
       "      <th>tmdbId</th>\n",
       "    </tr>\n",
       "  </thead>\n",
       "  <tbody>\n",
       "    <tr>\n",
       "      <th>676</th>\n",
       "      <td>892</td>\n",
       "      <td>117991</td>\n",
       "      <td>44705.0</td>\n",
       "    </tr>\n",
       "    <tr>\n",
       "      <th>657</th>\n",
       "      <td>851</td>\n",
       "      <td>115632</td>\n",
       "      <td>549.0</td>\n",
       "    </tr>\n",
       "    <tr>\n",
       "      <th>8114</th>\n",
       "      <td>100882</td>\n",
       "      <td>2017561</td>\n",
       "      <td>170657.0</td>\n",
       "    </tr>\n",
       "    <tr>\n",
       "      <th>5020</th>\n",
       "      <td>7792</td>\n",
       "      <td>71970</td>\n",
       "      <td>17365.0</td>\n",
       "    </tr>\n",
       "    <tr>\n",
       "      <th>4968</th>\n",
       "      <td>7573</td>\n",
       "      <td>86006</td>\n",
       "      <td>36670.0</td>\n",
       "    </tr>\n",
       "    <tr>\n",
       "      <th>6293</th>\n",
       "      <td>47997</td>\n",
       "      <td>387808</td>\n",
       "      <td>7512.0</td>\n",
       "    </tr>\n",
       "    <tr>\n",
       "      <th>820</th>\n",
       "      <td>1080</td>\n",
       "      <td>79470</td>\n",
       "      <td>583.0</td>\n",
       "    </tr>\n",
       "    <tr>\n",
       "      <th>671</th>\n",
       "      <td>885</td>\n",
       "      <td>115725</td>\n",
       "      <td>3587.0</td>\n",
       "    </tr>\n",
       "    <tr>\n",
       "      <th>195</th>\n",
       "      <td>229</td>\n",
       "      <td>109579</td>\n",
       "      <td>10531.0</td>\n",
       "    </tr>\n",
       "    <tr>\n",
       "      <th>2361</th>\n",
       "      <td>3129</td>\n",
       "      <td>158371</td>\n",
       "      <td>9684.0</td>\n",
       "    </tr>\n",
       "  </tbody>\n",
       "</table>\n",
       "</div>"
      ],
      "text/plain": [
       "      movieId   imdbId    tmdbId\n",
       "676       892   117991   44705.0\n",
       "657       851   115632     549.0\n",
       "8114   100882  2017561  170657.0\n",
       "5020     7792    71970   17365.0\n",
       "4968     7573    86006   36670.0\n",
       "6293    47997   387808    7512.0\n",
       "820      1080    79470     583.0\n",
       "671       885   115725    3587.0\n",
       "195       229   109579   10531.0\n",
       "2361     3129   158371    9684.0"
      ]
     },
     "execution_count": 77,
     "metadata": {},
     "output_type": "execute_result"
    }
   ],
   "source": [
    "links.sample(10)"
   ]
  },
  {
   "cell_type": "code",
   "execution_count": 78,
   "id": "e39ae89d-d1cb-4443-99ea-07becd7893fa",
   "metadata": {},
   "outputs": [],
   "source": [
    "mvrt = pd.merge(ratings, movies, on='movieId')"
   ]
  },
  {
   "cell_type": "code",
   "execution_count": 79,
   "id": "f4a42cef-7491-43a7-b409-a17c0c63852c",
   "metadata": {},
   "outputs": [
    {
     "data": {
      "text/plain": [
       "(100836, 6)"
      ]
     },
     "execution_count": 79,
     "metadata": {},
     "output_type": "execute_result"
    }
   ],
   "source": [
    "mvrt.shape"
   ]
  },
  {
   "cell_type": "code",
   "execution_count": 132,
   "id": "d31d0293-48e4-4221-b409-f635054595a0",
   "metadata": {},
   "outputs": [
    {
     "data": {
      "text/html": [
       "<div>\n",
       "<style scoped>\n",
       "    .dataframe tbody tr th:only-of-type {\n",
       "        vertical-align: middle;\n",
       "    }\n",
       "\n",
       "    .dataframe tbody tr th {\n",
       "        vertical-align: top;\n",
       "    }\n",
       "\n",
       "    .dataframe thead th {\n",
       "        text-align: right;\n",
       "    }\n",
       "</style>\n",
       "<table border=\"1\" class=\"dataframe\">\n",
       "  <thead>\n",
       "    <tr style=\"text-align: right;\">\n",
       "      <th></th>\n",
       "      <th>userId</th>\n",
       "      <th>movieId</th>\n",
       "      <th>rating</th>\n",
       "      <th>timestamp</th>\n",
       "      <th>title</th>\n",
       "      <th>genres</th>\n",
       "      <th>year_released</th>\n",
       "    </tr>\n",
       "  </thead>\n",
       "  <tbody>\n",
       "    <tr>\n",
       "      <th>84668</th>\n",
       "      <td>414</td>\n",
       "      <td>89470</td>\n",
       "      <td>4.0</td>\n",
       "      <td>1328313102</td>\n",
       "      <td>Contagion</td>\n",
       "      <td>Sci-Fi|Thriller|IMAX</td>\n",
       "      <td>2011</td>\n",
       "    </tr>\n",
       "    <tr>\n",
       "      <th>42073</th>\n",
       "      <td>51</td>\n",
       "      <td>56367</td>\n",
       "      <td>5.0</td>\n",
       "      <td>1230932765</td>\n",
       "      <td>Juno</td>\n",
       "      <td>Comedy|Drama|Romance</td>\n",
       "      <td>2007</td>\n",
       "    </tr>\n",
       "    <tr>\n",
       "      <th>94550</th>\n",
       "      <td>464</td>\n",
       "      <td>50798</td>\n",
       "      <td>1.5</td>\n",
       "      <td>1286829789</td>\n",
       "      <td>Epic Movie</td>\n",
       "      <td>Adventure|Comedy</td>\n",
       "      <td>2007</td>\n",
       "    </tr>\n",
       "    <tr>\n",
       "      <th>71644</th>\n",
       "      <td>33</td>\n",
       "      <td>1678</td>\n",
       "      <td>5.0</td>\n",
       "      <td>939715414</td>\n",
       "      <td>Joy Luck Club, The</td>\n",
       "      <td>Drama|Romance</td>\n",
       "      <td>1993</td>\n",
       "    </tr>\n",
       "    <tr>\n",
       "      <th>55296</th>\n",
       "      <td>18</td>\n",
       "      <td>53129</td>\n",
       "      <td>3.0</td>\n",
       "      <td>1521323641</td>\n",
       "      <td>Mr. Brooks</td>\n",
       "      <td>Crime|Drama|Thriller</td>\n",
       "      <td>2007</td>\n",
       "    </tr>\n",
       "    <tr>\n",
       "      <th>82038</th>\n",
       "      <td>198</td>\n",
       "      <td>4023</td>\n",
       "      <td>5.0</td>\n",
       "      <td>1034195998</td>\n",
       "      <td>Family Man, The</td>\n",
       "      <td>Comedy|Drama|Romance</td>\n",
       "      <td>2000</td>\n",
       "    </tr>\n",
       "    <tr>\n",
       "      <th>25392</th>\n",
       "      <td>162</td>\n",
       "      <td>150</td>\n",
       "      <td>4.0</td>\n",
       "      <td>836488864</td>\n",
       "      <td>Apollo 13</td>\n",
       "      <td>Adventure|Drama|IMAX</td>\n",
       "      <td>1995</td>\n",
       "    </tr>\n",
       "    <tr>\n",
       "      <th>66637</th>\n",
       "      <td>216</td>\n",
       "      <td>3868</td>\n",
       "      <td>2.0</td>\n",
       "      <td>975212571</td>\n",
       "      <td>Naked Gun: From the Files of Police Squad!, The</td>\n",
       "      <td>Action|Comedy|Crime|Romance</td>\n",
       "      <td>1988</td>\n",
       "    </tr>\n",
       "    <tr>\n",
       "      <th>19367</th>\n",
       "      <td>168</td>\n",
       "      <td>265</td>\n",
       "      <td>4.5</td>\n",
       "      <td>1306793369</td>\n",
       "      <td>Like Water for Chocolate (Como agua para choco...</td>\n",
       "      <td>Drama|Fantasy|Romance</td>\n",
       "      <td>1992</td>\n",
       "    </tr>\n",
       "    <tr>\n",
       "      <th>96281</th>\n",
       "      <td>298</td>\n",
       "      <td>74916</td>\n",
       "      <td>2.5</td>\n",
       "      <td>1447517917</td>\n",
       "      <td>Greenberg</td>\n",
       "      <td>Comedy|Drama</td>\n",
       "      <td>2010</td>\n",
       "    </tr>\n",
       "    <tr>\n",
       "      <th>87581</th>\n",
       "      <td>346</td>\n",
       "      <td>2114</td>\n",
       "      <td>3.5</td>\n",
       "      <td>1155066865</td>\n",
       "      <td>Outsiders, The</td>\n",
       "      <td>Drama</td>\n",
       "      <td>1983</td>\n",
       "    </tr>\n",
       "    <tr>\n",
       "      <th>8142</th>\n",
       "      <td>282</td>\n",
       "      <td>1220</td>\n",
       "      <td>4.0</td>\n",
       "      <td>1378495314</td>\n",
       "      <td>Blues Brothers, The</td>\n",
       "      <td>Action|Comedy|Musical</td>\n",
       "      <td>1980</td>\n",
       "    </tr>\n",
       "    <tr>\n",
       "      <th>86281</th>\n",
       "      <td>88</td>\n",
       "      <td>7312</td>\n",
       "      <td>0.5</td>\n",
       "      <td>1331421236</td>\n",
       "      <td>Follow Me, Boys!</td>\n",
       "      <td>Comedy|Drama</td>\n",
       "      <td>1966</td>\n",
       "    </tr>\n",
       "    <tr>\n",
       "      <th>32906</th>\n",
       "      <td>275</td>\n",
       "      <td>587</td>\n",
       "      <td>3.0</td>\n",
       "      <td>1049076150</td>\n",
       "      <td>Ghost</td>\n",
       "      <td>Comedy|Drama|Fantasy|Romance|Thriller</td>\n",
       "      <td>1990</td>\n",
       "    </tr>\n",
       "    <tr>\n",
       "      <th>35911</th>\n",
       "      <td>537</td>\n",
       "      <td>4963</td>\n",
       "      <td>5.0</td>\n",
       "      <td>1424138250</td>\n",
       "      <td>Ocean's Eleven</td>\n",
       "      <td>Crime|Thriller</td>\n",
       "      <td>2001</td>\n",
       "    </tr>\n",
       "    <tr>\n",
       "      <th>83317</th>\n",
       "      <td>483</td>\n",
       "      <td>4015</td>\n",
       "      <td>4.0</td>\n",
       "      <td>1215897603</td>\n",
       "      <td>Dude, Where's My Car?</td>\n",
       "      <td>Comedy|Sci-Fi</td>\n",
       "      <td>2000</td>\n",
       "    </tr>\n",
       "    <tr>\n",
       "      <th>36552</th>\n",
       "      <td>18</td>\n",
       "      <td>5445</td>\n",
       "      <td>4.0</td>\n",
       "      <td>1455209691</td>\n",
       "      <td>Minority Report</td>\n",
       "      <td>Action|Crime|Mystery|Sci-Fi|Thriller</td>\n",
       "      <td>2002</td>\n",
       "    </tr>\n",
       "    <tr>\n",
       "      <th>28677</th>\n",
       "      <td>404</td>\n",
       "      <td>141</td>\n",
       "      <td>4.0</td>\n",
       "      <td>838376079</td>\n",
       "      <td>Birdcage, The</td>\n",
       "      <td>Comedy</td>\n",
       "      <td>1996</td>\n",
       "    </tr>\n",
       "    <tr>\n",
       "      <th>97111</th>\n",
       "      <td>338</td>\n",
       "      <td>189043</td>\n",
       "      <td>2.5</td>\n",
       "      <td>1530148447</td>\n",
       "      <td>Boundaries</td>\n",
       "      <td>Comedy|Drama</td>\n",
       "      <td>2018</td>\n",
       "    </tr>\n",
       "    <tr>\n",
       "      <th>89974</th>\n",
       "      <td>318</td>\n",
       "      <td>65642</td>\n",
       "      <td>3.5</td>\n",
       "      <td>1428266313</td>\n",
       "      <td>Timecrimes (Cronocrímenes, Los)</td>\n",
       "      <td>Sci-Fi|Thriller</td>\n",
       "      <td>2007</td>\n",
       "    </tr>\n",
       "  </tbody>\n",
       "</table>\n",
       "</div>"
      ],
      "text/plain": [
       "       userId  movieId  rating   timestamp  \\\n",
       "84668     414    89470     4.0  1328313102   \n",
       "42073      51    56367     5.0  1230932765   \n",
       "94550     464    50798     1.5  1286829789   \n",
       "71644      33     1678     5.0   939715414   \n",
       "55296      18    53129     3.0  1521323641   \n",
       "82038     198     4023     5.0  1034195998   \n",
       "25392     162      150     4.0   836488864   \n",
       "66637     216     3868     2.0   975212571   \n",
       "19367     168      265     4.5  1306793369   \n",
       "96281     298    74916     2.5  1447517917   \n",
       "87581     346     2114     3.5  1155066865   \n",
       "8142      282     1220     4.0  1378495314   \n",
       "86281      88     7312     0.5  1331421236   \n",
       "32906     275      587     3.0  1049076150   \n",
       "35911     537     4963     5.0  1424138250   \n",
       "83317     483     4015     4.0  1215897603   \n",
       "36552      18     5445     4.0  1455209691   \n",
       "28677     404      141     4.0   838376079   \n",
       "97111     338   189043     2.5  1530148447   \n",
       "89974     318    65642     3.5  1428266313   \n",
       "\n",
       "                                                   title  \\\n",
       "84668                                          Contagion   \n",
       "42073                                               Juno   \n",
       "94550                                         Epic Movie   \n",
       "71644                                 Joy Luck Club, The   \n",
       "55296                                         Mr. Brooks   \n",
       "82038                                    Family Man, The   \n",
       "25392                                          Apollo 13   \n",
       "66637    Naked Gun: From the Files of Police Squad!, The   \n",
       "19367  Like Water for Chocolate (Como agua para choco...   \n",
       "96281                                          Greenberg   \n",
       "87581                                     Outsiders, The   \n",
       "8142                                 Blues Brothers, The   \n",
       "86281                                   Follow Me, Boys!   \n",
       "32906                                              Ghost   \n",
       "35911                                     Ocean's Eleven   \n",
       "83317                              Dude, Where's My Car?   \n",
       "36552                                    Minority Report   \n",
       "28677                                      Birdcage, The   \n",
       "97111                                         Boundaries   \n",
       "89974                    Timecrimes (Cronocrímenes, Los)   \n",
       "\n",
       "                                      genres year_released  \n",
       "84668                   Sci-Fi|Thriller|IMAX          2011  \n",
       "42073                   Comedy|Drama|Romance          2007  \n",
       "94550                       Adventure|Comedy          2007  \n",
       "71644                          Drama|Romance          1993  \n",
       "55296                   Crime|Drama|Thriller          2007  \n",
       "82038                   Comedy|Drama|Romance          2000  \n",
       "25392                   Adventure|Drama|IMAX          1995  \n",
       "66637            Action|Comedy|Crime|Romance          1988  \n",
       "19367                  Drama|Fantasy|Romance          1992  \n",
       "96281                           Comedy|Drama          2010  \n",
       "87581                                  Drama          1983  \n",
       "8142                   Action|Comedy|Musical          1980  \n",
       "86281                           Comedy|Drama          1966  \n",
       "32906  Comedy|Drama|Fantasy|Romance|Thriller          1990  \n",
       "35911                         Crime|Thriller          2001  \n",
       "83317                          Comedy|Sci-Fi          2000  \n",
       "36552   Action|Crime|Mystery|Sci-Fi|Thriller          2002  \n",
       "28677                                 Comedy          1996  \n",
       "97111                           Comedy|Drama          2018  \n",
       "89974                        Sci-Fi|Thriller          2007  "
      ]
     },
     "execution_count": 132,
     "metadata": {},
     "output_type": "execute_result"
    }
   ],
   "source": [
    "mvrt.sample(20)"
   ]
  },
  {
   "cell_type": "code",
   "execution_count": 81,
   "id": "ae56d7fa-654d-4f0e-80c9-13f838bf6fa8",
   "metadata": {},
   "outputs": [
    {
     "name": "stdout",
     "output_type": "stream",
     "text": [
      "Number of occurrences for each genre:\n",
      "Drama                 4361\n",
      "Comedy                3756\n",
      "Thriller              1894\n",
      "Action                1828\n",
      "Romance               1596\n",
      "Adventure             1263\n",
      "Crime                 1199\n",
      "Sci-Fi                 980\n",
      "Horror                 978\n",
      "Fantasy                779\n",
      "Children               664\n",
      "Animation              611\n",
      "Mystery                573\n",
      "Documentary            440\n",
      "War                    382\n",
      "Musical                334\n",
      "Western                167\n",
      "IMAX                   158\n",
      "Film-Noir               87\n",
      "(no genres listed)      34\n",
      "Name: count, dtype: int64\n"
     ]
    }
   ],
   "source": [
    "all_genres = movies['genres'].str.split('|', expand=True).stack()\n",
    "unique_genres = all_genres.value_counts()\n",
    "print(\"Number of occurrences for each genre:\")\n",
    "print(unique_genres)"
   ]
  },
  {
   "cell_type": "code",
   "execution_count": 82,
   "id": "d871b3f3-b3f8-4053-ba01-e368f76f8670",
   "metadata": {},
   "outputs": [],
   "source": [
    "rows_with_no_genre = mvrt[mvrt['genres'] == '(no genres listed)']"
   ]
  },
  {
   "cell_type": "code",
   "execution_count": 50,
   "id": "be975cf5-0da3-4dc2-bf44-be975a9c168b",
   "metadata": {},
   "outputs": [
    {
     "data": {
      "text/plain": [
       "movieId\n",
       "122896    7\n",
       "141866    3\n",
       "142456    2\n",
       "152037    2\n",
       "166024    2\n",
       "171495    2\n",
       "172591    2\n",
       "147250    1\n",
       "171749    1\n",
       "132084    1\n",
       "181719    1\n",
       "141131    1\n",
       "156605    1\n",
       "122888    1\n",
       "174403    1\n",
       "165489    1\n",
       "182727    1\n",
       "149330    1\n",
       "143410    1\n",
       "129250    1\n",
       "167570    1\n",
       "176601    1\n",
       "172497    1\n",
       "114335    1\n",
       "169034    1\n",
       "159779    1\n",
       "181413    1\n",
       "155589    1\n",
       "171891    1\n",
       "171631    1\n",
       "159161    1\n",
       "134861    1\n",
       "173535    1\n",
       "161008    1\n",
       "Name: count, dtype: int64"
      ]
     },
     "execution_count": 50,
     "metadata": {},
     "output_type": "execute_result"
    }
   ],
   "source": [
    "rows_with_no_genre.movieId.value_counts()"
   ]
  },
  {
   "cell_type": "code",
   "execution_count": 83,
   "id": "ea5eacab-5243-4003-be24-30b71a8867c6",
   "metadata": {},
   "outputs": [],
   "source": [
    "mvrt = mvrt[~mvrt['movieId'].isin(rows_with_no_genre['movieId'])]"
   ]
  },
  {
   "cell_type": "code",
   "execution_count": 93,
   "id": "048fd8ad-73d8-417b-881b-f7929fbdd14c",
   "metadata": {},
   "outputs": [
    {
     "data": {
      "text/plain": [
       "(100789, 6)"
      ]
     },
     "execution_count": 93,
     "metadata": {},
     "output_type": "execute_result"
    }
   ],
   "source": [
    "mvrt.shape"
   ]
  },
  {
   "cell_type": "code",
   "execution_count": 85,
   "id": "7981106d-dcc3-4701-8f15-bce25cb79dd3",
   "metadata": {},
   "outputs": [
    {
     "name": "stdout",
     "output_type": "stream",
     "text": [
      "Number of occurrences for each genre:\n",
      "Drama          41928\n",
      "Comedy         39053\n",
      "Action         30635\n",
      "Thriller       26452\n",
      "Adventure      24161\n",
      "Romance        18124\n",
      "Sci-Fi         17243\n",
      "Crime          16681\n",
      "Fantasy        11834\n",
      "Children        9208\n",
      "Mystery         7674\n",
      "Horror          7291\n",
      "Animation       6988\n",
      "War             4859\n",
      "IMAX            4145\n",
      "Musical         4138\n",
      "Western         1930\n",
      "Documentary     1219\n",
      "Film-Noir        870\n",
      "Name: count, dtype: int64\n"
     ]
    }
   ],
   "source": [
    "all_genres = mvrt['genres'].str.split('|', expand=True).stack()\n",
    "unique_genres = all_genres.value_counts()\n",
    "print(\"Number of occurrences for each genre:\")\n",
    "print(unique_genres)"
   ]
  },
  {
   "cell_type": "code",
   "execution_count": 87,
   "id": "ecf11929-d4f3-4c4d-857f-b86b361fe1a5",
   "metadata": {},
   "outputs": [
    {
     "data": {
      "text/plain": [
       "userId       0\n",
       "movieId      0\n",
       "rating       0\n",
       "timestamp    0\n",
       "title        0\n",
       "genres       0\n",
       "dtype: int64"
      ]
     },
     "execution_count": 87,
     "metadata": {},
     "output_type": "execute_result"
    }
   ],
   "source": [
    "mvrt.isnull().sum()"
   ]
  },
  {
   "cell_type": "code",
   "execution_count": 88,
   "id": "c182f8c9-6f62-4a9e-ab0d-2ae103bf34dd",
   "metadata": {},
   "outputs": [
    {
     "data": {
      "image/png": "[encoded data removed]",
      "text/plain": [
       "<Figure size 640x480 with 1 Axes>"
      ]
     },
     "metadata": {},
     "output_type": "display_data"
    }
   ],
   "source": [
    "plt.hist(mvrt['rating'], bins=10, edgecolor='black')\n",
    "plt.xlabel('Rating')\n",
    "plt.ylabel('Count')\n",
    "plt.title('Histogram of Ratings')\n",
    "plt.show()"
   ]
  },
  {
   "cell_type": "code",
   "execution_count": 114,
   "id": "1ec96930-fd13-4546-b3d0-bf91a4874d78",
   "metadata": {},
   "outputs": [],
   "source": [
    "genres_list = ['Drama', 'Comedy', 'Action', 'Thriller', 'Adventure', 'Romance',\n",
    "               'Sci-Fi', 'Crime', 'Fantasy', 'Children', 'Mystery', 'Horror',\n",
    "               'Animation', 'War', 'IMAX', 'Musical', 'Western', 'Documentary', 'Film-Noir']"
   ]
  },
  {
   "cell_type": "code",
   "execution_count": 112,
   "id": "59f88396-1024-4c3a-99b5-fecdb79d579a",
   "metadata": {},
   "outputs": [],
   "source": [
    "def average_rating_by_genre(data, genre_list):\n",
    "    genres_expanded = data['genres'].str.get_dummies(sep='|')\n",
    "\n",
    "    # Step 2: Concatenate 'genres_expanded' with 'data'\n",
    "    data_genres = pd.concat([data, genres_expanded], axis=1)\n",
    "\n",
    "    # Step 3: Calculate average rating for each genre\n",
    "    average_ratings = {}\n",
    "    for genre in genre_list:\n",
    "        if genre in data_genres.columns:\n",
    "            average_rating = data_genres[data_genres[genre] == 1]['rating'].mean()\n",
    "            average_ratings[genre] = average_rating\n",
    "\n",
    "    return average_ratings"
   ]
  },
  {
   "cell_type": "code",
   "execution_count": 116,
   "id": "64a2616e-9a63-4212-931c-7d280ca81c15",
   "metadata": {},
   "outputs": [],
   "source": [
    "result = average_rating_by_genre(mvrt,genres_list)"
   ]
  },
  {
   "cell_type": "code",
   "execution_count": 121,
   "id": "4b8ab972-d834-4e70-8a16-25ca3f561021",
   "metadata": {},
   "outputs": [
    {
     "data": {
      "image/png": "[encoded data removed]",
      "text/plain": [
       "<Figure size 640x480 with 1 Axes>"
      ]
     },
     "metadata": {},
     "output_type": "display_data"
    }
   ],
   "source": [
    "plt.bar(result.keys(), result.values())\n",
    "plt.xlabel('Genres')\n",
    "plt.ylabel('Average Rating')\n",
    "plt.title('Average Ratings by Genre')\n",
    "plt.ylim(0, 5)  # Set the y-axis limit to 5\n",
    "plt.xticks(rotation=45, ha='right')  # Rotate x-axis labels for better visibility\n",
    "plt.show()"
   ]
  },
  {
   "cell_type": "code",
   "execution_count": 126,
   "id": "18662eb8-14b1-4116-af05-a50a186dd0a1",
   "metadata": {},
   "outputs": [
    {
     "data": {
      "text/html": [
       "<div>\n",
       "<style scoped>\n",
       "    .dataframe tbody tr th:only-of-type {\n",
       "        vertical-align: middle;\n",
       "    }\n",
       "\n",
       "    .dataframe tbody tr th {\n",
       "        vertical-align: top;\n",
       "    }\n",
       "\n",
       "    .dataframe thead th {\n",
       "        text-align: right;\n",
       "    }\n",
       "</style>\n",
       "<table border=\"1\" class=\"dataframe\">\n",
       "  <thead>\n",
       "    <tr style=\"text-align: right;\">\n",
       "      <th></th>\n",
       "      <th>userId</th>\n",
       "      <th>movieId</th>\n",
       "      <th>rating</th>\n",
       "      <th>timestamp</th>\n",
       "      <th>title</th>\n",
       "      <th>genres</th>\n",
       "    </tr>\n",
       "  </thead>\n",
       "  <tbody>\n",
       "    <tr>\n",
       "      <th>0</th>\n",
       "      <td>1</td>\n",
       "      <td>1</td>\n",
       "      <td>4.0</td>\n",
       "      <td>964982703</td>\n",
       "      <td>Toy Story (1995)</td>\n",
       "      <td>Adventure|Animation|Children|Comedy|Fantasy</td>\n",
       "    </tr>\n",
       "    <tr>\n",
       "      <th>1</th>\n",
       "      <td>5</td>\n",
       "      <td>1</td>\n",
       "      <td>4.0</td>\n",
       "      <td>847434962</td>\n",
       "      <td>Toy Story (1995)</td>\n",
       "      <td>Adventure|Animation|Children|Comedy|Fantasy</td>\n",
       "    </tr>\n",
       "    <tr>\n",
       "      <th>2</th>\n",
       "      <td>7</td>\n",
       "      <td>1</td>\n",
       "      <td>4.5</td>\n",
       "      <td>1106635946</td>\n",
       "      <td>Toy Story (1995)</td>\n",
       "      <td>Adventure|Animation|Children|Comedy|Fantasy</td>\n",
       "    </tr>\n",
       "    <tr>\n",
       "      <th>3</th>\n",
       "      <td>15</td>\n",
       "      <td>1</td>\n",
       "      <td>2.5</td>\n",
       "      <td>1510577970</td>\n",
       "      <td>Toy Story (1995)</td>\n",
       "      <td>Adventure|Animation|Children|Comedy|Fantasy</td>\n",
       "    </tr>\n",
       "    <tr>\n",
       "      <th>4</th>\n",
       "      <td>17</td>\n",
       "      <td>1</td>\n",
       "      <td>4.5</td>\n",
       "      <td>1305696483</td>\n",
       "      <td>Toy Story (1995)</td>\n",
       "      <td>Adventure|Animation|Children|Comedy|Fantasy</td>\n",
       "    </tr>\n",
       "  </tbody>\n",
       "</table>\n",
       "</div>"
      ],
      "text/plain": [
       "   userId  movieId  rating   timestamp             title  \\\n",
       "0       1        1     4.0   964982703  Toy Story (1995)   \n",
       "1       5        1     4.0   847434962  Toy Story (1995)   \n",
       "2       7        1     4.5  1106635946  Toy Story (1995)   \n",
       "3      15        1     2.5  1510577970  Toy Story (1995)   \n",
       "4      17        1     4.5  1305696483  Toy Story (1995)   \n",
       "\n",
       "                                        genres  \n",
       "0  Adventure|Animation|Children|Comedy|Fantasy  \n",
       "1  Adventure|Animation|Children|Comedy|Fantasy  \n",
       "2  Adventure|Animation|Children|Comedy|Fantasy  \n",
       "3  Adventure|Animation|Children|Comedy|Fantasy  \n",
       "4  Adventure|Animation|Children|Comedy|Fantasy  "
      ]
     },
     "execution_count": 126,
     "metadata": {},
     "output_type": "execute_result"
    }
   ],
   "source": []
  },
  {
   "cell_type": "code",
   "execution_count": 129,
   "id": "b3d2adf0-614d-4eaf-8709-f1bf27d439eb",
   "metadata": {},
   "outputs": [],
   "source": [
    "mvrt['year_released'] = mvrt['title'].str.extract(r'\\((\\d{4})\\)', expand=False)\n",
    "mvrt['title'] = mvrt['title'].str.replace(r'\\s*\\(\\d{4}\\)\\s*', '', regex=True)"
   ]
  },
  {
   "cell_type": "code",
   "execution_count": 130,
   "id": "106328e4-0db6-441a-8038-3a7c51b95499",
   "metadata": {},
   "outputs": [
    {
     "data": {
      "text/html": [
       "<div>\n",
       "<style scoped>\n",
       "    .dataframe tbody tr th:only-of-type {\n",
       "        vertical-align: middle;\n",
       "    }\n",
       "\n",
       "    .dataframe tbody tr th {\n",
       "        vertical-align: top;\n",
       "    }\n",
       "\n",
       "    .dataframe thead th {\n",
       "        text-align: right;\n",
       "    }\n",
       "</style>\n",
       "<table border=\"1\" class=\"dataframe\">\n",
       "  <thead>\n",
       "    <tr style=\"text-align: right;\">\n",
       "      <th></th>\n",
       "      <th>userId</th>\n",
       "      <th>movieId</th>\n",
       "      <th>rating</th>\n",
       "      <th>timestamp</th>\n",
       "      <th>title</th>\n",
       "      <th>genres</th>\n",
       "      <th>year_released</th>\n",
       "    </tr>\n",
       "  </thead>\n",
       "  <tbody>\n",
       "    <tr>\n",
       "      <th>0</th>\n",
       "      <td>1</td>\n",
       "      <td>1</td>\n",
       "      <td>4.0</td>\n",
       "      <td>964982703</td>\n",
       "      <td>Toy Story</td>\n",
       "      <td>Adventure|Animation|Children|Comedy|Fantasy</td>\n",
       "      <td>1995</td>\n",
       "    </tr>\n",
       "    <tr>\n",
       "      <th>1</th>\n",
       "      <td>5</td>\n",
       "      <td>1</td>\n",
       "      <td>4.0</td>\n",
       "      <td>847434962</td>\n",
       "      <td>Toy Story</td>\n",
       "      <td>Adventure|Animation|Children|Comedy|Fantasy</td>\n",
       "      <td>1995</td>\n",
       "    </tr>\n",
       "    <tr>\n",
       "      <th>2</th>\n",
       "      <td>7</td>\n",
       "      <td>1</td>\n",
       "      <td>4.5</td>\n",
       "      <td>1106635946</td>\n",
       "      <td>Toy Story</td>\n",
       "      <td>Adventure|Animation|Children|Comedy|Fantasy</td>\n",
       "      <td>1995</td>\n",
       "    </tr>\n",
       "    <tr>\n",
       "      <th>3</th>\n",
       "      <td>15</td>\n",
       "      <td>1</td>\n",
       "      <td>2.5</td>\n",
       "      <td>1510577970</td>\n",
       "      <td>Toy Story</td>\n",
       "      <td>Adventure|Animation|Children|Comedy|Fantasy</td>\n",
       "      <td>1995</td>\n",
       "    </tr>\n",
       "    <tr>\n",
       "      <th>4</th>\n",
       "      <td>17</td>\n",
       "      <td>1</td>\n",
       "      <td>4.5</td>\n",
       "      <td>1305696483</td>\n",
       "      <td>Toy Story</td>\n",
       "      <td>Adventure|Animation|Children|Comedy|Fantasy</td>\n",
       "      <td>1995</td>\n",
       "    </tr>\n",
       "  </tbody>\n",
       "</table>\n",
       "</div>"
      ],
      "text/plain": [
       "   userId  movieId  rating   timestamp      title  \\\n",
       "0       1        1     4.0   964982703  Toy Story   \n",
       "1       5        1     4.0   847434962  Toy Story   \n",
       "2       7        1     4.5  1106635946  Toy Story   \n",
       "3      15        1     2.5  1510577970  Toy Story   \n",
       "4      17        1     4.5  1305696483  Toy Story   \n",
       "\n",
       "                                        genres year_released  \n",
       "0  Adventure|Animation|Children|Comedy|Fantasy          1995  \n",
       "1  Adventure|Animation|Children|Comedy|Fantasy          1995  \n",
       "2  Adventure|Animation|Children|Comedy|Fantasy          1995  \n",
       "3  Adventure|Animation|Children|Comedy|Fantasy          1995  \n",
       "4  Adventure|Animation|Children|Comedy|Fantasy          1995  "
      ]
     },
     "execution_count": 130,
     "metadata": {},
     "output_type": "execute_result"
    }
   ],
   "source": [
    "mvrt.head()"
   ]
  },
  {
   "cell_type": "code",
   "execution_count": 143,
   "id": "b673853b-f75c-4dca-93e0-9c32d74b4411",
   "metadata": {},
   "outputs": [
    {
     "data": {
      "text/plain": [
       "userId           0\n",
       "movieId          0\n",
       "rating           0\n",
       "timestamp        0\n",
       "title            0\n",
       "genres           0\n",
       "year_released    0\n",
       "dtype: int64"
      ]
     },
     "execution_count": 143,
     "metadata": {},
     "output_type": "execute_result"
    }
   ],
   "source": [
    "mvrt.isnull().sum()"
   ]
  },
  {
   "cell_type": "code",
   "execution_count": 141,
   "id": "c568c398-d66a-4ff0-9c16-23c22b71578b",
   "metadata": {},
   "outputs": [],
   "source": [
    "mvrt_movies_with_no_year = mvrt[mvrt['year_released'].isnull()]"
   ]
  },
  {
   "cell_type": "code",
   "execution_count": 142,
   "id": "59df6b76-ad2d-4164-a372-bb425ad93ffc",
   "metadata": {},
   "outputs": [
    {
     "data": {
      "text/html": [
       "<div>\n",
       "<style scoped>\n",
       "    .dataframe tbody tr th:only-of-type {\n",
       "        vertical-align: middle;\n",
       "    }\n",
       "\n",
       "    .dataframe tbody tr th {\n",
       "        vertical-align: top;\n",
       "    }\n",
       "\n",
       "    .dataframe thead th {\n",
       "        text-align: right;\n",
       "    }\n",
       "</style>\n",
       "<table border=\"1\" class=\"dataframe\">\n",
       "  <thead>\n",
       "    <tr style=\"text-align: right;\">\n",
       "      <th></th>\n",
       "      <th>userId</th>\n",
       "      <th>movieId</th>\n",
       "      <th>rating</th>\n",
       "      <th>timestamp</th>\n",
       "      <th>title</th>\n",
       "      <th>genres</th>\n",
       "      <th>year_released</th>\n",
       "    </tr>\n",
       "  </thead>\n",
       "  <tbody>\n",
       "  </tbody>\n",
       "</table>\n",
       "</div>"
      ],
      "text/plain": [
       "Empty DataFrame\n",
       "Columns: [userId, movieId, rating, timestamp, title, genres, year_released]\n",
       "Index: []"
      ]
     },
     "execution_count": 142,
     "metadata": {},
     "output_type": "execute_result"
    }
   ],
   "source": [
    "mvrt_movies_with_no_year"
   ]
  },
  {
   "cell_type": "code",
   "execution_count": 140,
   "id": "4dccf6ff-5d67-49d1-8818-e7be5faad846",
   "metadata": {},
   "outputs": [],
   "source": [
    "mvrt.loc[mvrt['title'] == 'Ready Player One', 'year_released'] = 2018\n",
    "mvrt.loc[mvrt['title'] == 'Babylon 5', 'year_released'] = 1994\n",
    "mvrt.loc[mvrt['title'] == 'Nocturnal Animals', 'year_released'] = 2016\n",
    "mvrt.loc[mvrt['title'] == 'Moonlight', 'year_released'] = 2016"
   ]
  },
  {
   "cell_type": "code",
   "execution_count": 151,
   "id": "0509e8b3-3477-4bd0-8786-49d53b0b2f12",
   "metadata": {},
   "outputs": [
    {
     "data": {
      "text/plain": [
       "(0, 7)"
      ]
     },
     "execution_count": 151,
     "metadata": {},
     "output_type": "execute_result"
    }
   ],
   "source": [
    "mvrt_movies_with_no_year1 = mvrt[pd.isna(mvrt['year_released'])]\n",
    "mvrt_movies_with_no_year1.shape"
   ]
  },
  {
   "cell_type": "code",
   "execution_count": 157,
   "id": "c2532c5b-cc60-45d4-a788-563b8482774d",
   "metadata": {},
   "outputs": [
    {
     "data": {
      "text/plain": [
       "userId             int64\n",
       "movieId            int64\n",
       "rating           float64\n",
       "timestamp          int64\n",
       "title             object\n",
       "genres            object\n",
       "year_released      int64\n",
       "dtype: object"
      ]
     },
     "execution_count": 157,
     "metadata": {},
     "output_type": "execute_result"
    }
   ],
   "source": [
    "mvrt.dtypes"
   ]
  },
  {
   "cell_type": "code",
   "execution_count": 156,
   "id": "3b4034c7-c86e-4727-a230-5363a728e714",
   "metadata": {},
   "outputs": [],
   "source": [
    "mvrt['year_released'] = pd.to_numeric(mvrt['year_released'], errors='coerce')"
   ]
  },
  {
   "cell_type": "code",
   "execution_count": 160,
   "id": "ed80658b-1e47-4fc6-8f0e-293a61b9fc90",
   "metadata": {},
   "outputs": [
    {
     "data": {
      "image/png": "[encoded data removed]",
      "text/plain": [
       "<Figure size 640x480 with 1 Axes>"
      ]
     },
     "metadata": {},
     "output_type": "display_data"
    }
   ],
   "source": [
    "mvrt['decade'] = (mvrt['year_released'] // 10) * 10\n",
    "average_ratings_by_decade = mvrt.groupby('decade')['rating'].mean()\n",
    "plt.bar(average_ratings_by_decade.index.astype(str), average_ratings_by_decade.values)\n",
    "plt.xlabel('Decade')\n",
    "plt.ylabel('Average Rating')\n",
    "plt.ylim(0, 5)  # Set the y-axis limit to 5\n",
    "plt.title('Average Ratings by Decade')\n",
    "plt.xticks(rotation=45, ha='right')  # Rotate x-axis labels for better visibility\n",
    "plt.show()"
   ]
  },
  {
   "cell_type": "code",
   "execution_count": 162,
   "id": "4c9ea1a1-5e6e-470d-a201-0d0738ab1a39",
   "metadata": {},
   "outputs": [
    {
     "data": {
      "text/html": [
       "<div>\n",
       "<style scoped>\n",
       "    .dataframe tbody tr th:only-of-type {\n",
       "        vertical-align: middle;\n",
       "    }\n",
       "\n",
       "    .dataframe tbody tr th {\n",
       "        vertical-align: top;\n",
       "    }\n",
       "\n",
       "    .dataframe thead th {\n",
       "        text-align: right;\n",
       "    }\n",
       "</style>\n",
       "<table border=\"1\" class=\"dataframe\">\n",
       "  <thead>\n",
       "    <tr style=\"text-align: right;\">\n",
       "      <th></th>\n",
       "      <th>userId</th>\n",
       "      <th>movieId</th>\n",
       "      <th>rating</th>\n",
       "      <th>title</th>\n",
       "      <th>genres</th>\n",
       "      <th>year_released</th>\n",
       "      <th>decade</th>\n",
       "    </tr>\n",
       "  </thead>\n",
       "  <tbody>\n",
       "    <tr>\n",
       "      <th>0</th>\n",
       "      <td>1</td>\n",
       "      <td>1</td>\n",
       "      <td>4.0</td>\n",
       "      <td>Toy Story</td>\n",
       "      <td>Adventure|Animation|Children|Comedy|Fantasy</td>\n",
       "      <td>1995</td>\n",
       "      <td>1990</td>\n",
       "    </tr>\n",
       "    <tr>\n",
       "      <th>1</th>\n",
       "      <td>5</td>\n",
       "      <td>1</td>\n",
       "      <td>4.0</td>\n",
       "      <td>Toy Story</td>\n",
       "      <td>Adventure|Animation|Children|Comedy|Fantasy</td>\n",
       "      <td>1995</td>\n",
       "      <td>1990</td>\n",
       "    </tr>\n",
       "    <tr>\n",
       "      <th>2</th>\n",
       "      <td>7</td>\n",
       "      <td>1</td>\n",
       "      <td>4.5</td>\n",
       "      <td>Toy Story</td>\n",
       "      <td>Adventure|Animation|Children|Comedy|Fantasy</td>\n",
       "      <td>1995</td>\n",
       "      <td>1990</td>\n",
       "    </tr>\n",
       "    <tr>\n",
       "      <th>3</th>\n",
       "      <td>15</td>\n",
       "      <td>1</td>\n",
       "      <td>2.5</td>\n",
       "      <td>Toy Story</td>\n",
       "      <td>Adventure|Animation|Children|Comedy|Fantasy</td>\n",
       "      <td>1995</td>\n",
       "      <td>1990</td>\n",
       "    </tr>\n",
       "    <tr>\n",
       "      <th>4</th>\n",
       "      <td>17</td>\n",
       "      <td>1</td>\n",
       "      <td>4.5</td>\n",
       "      <td>Toy Story</td>\n",
       "      <td>Adventure|Animation|Children|Comedy|Fantasy</td>\n",
       "      <td>1995</td>\n",
       "      <td>1990</td>\n",
       "    </tr>\n",
       "  </tbody>\n",
       "</table>\n",
       "</div>"
      ],
      "text/plain": [
       "   userId  movieId  rating      title  \\\n",
       "0       1        1     4.0  Toy Story   \n",
       "1       5        1     4.0  Toy Story   \n",
       "2       7        1     4.5  Toy Story   \n",
       "3      15        1     2.5  Toy Story   \n",
       "4      17        1     4.5  Toy Story   \n",
       "\n",
       "                                        genres  year_released  decade  \n",
       "0  Adventure|Animation|Children|Comedy|Fantasy           1995    1990  \n",
       "1  Adventure|Animation|Children|Comedy|Fantasy           1995    1990  \n",
       "2  Adventure|Animation|Children|Comedy|Fantasy           1995    1990  \n",
       "3  Adventure|Animation|Children|Comedy|Fantasy           1995    1990  \n",
       "4  Adventure|Animation|Children|Comedy|Fantasy           1995    1990  "
      ]
     },
     "execution_count": 162,
     "metadata": {},
     "output_type": "execute_result"
    }
   ],
   "source": [
    "mvrt.head()"
   ]
  },
  {
   "cell_type": "code",
   "execution_count": 161,
   "id": "ce263fce-39db-42e5-9e4e-b03baa75581c",
   "metadata": {},
   "outputs": [],
   "source": [
    "mvrt = mvrt.drop('timestamp', axis=1)"
   ]
  },
  {
   "cell_type": "code",
   "execution_count": null,
   "id": "5ced4ec3-d1b3-40ac-b43e-48accd3ed028",
   "metadata": {},
   "outputs": [],
   "source": []
  }
 ],
 "metadata": {
  "kernelspec": {
   "display_name": "Python 3 (ipykernel)",
   "language": "python",
   "name": "python3"
  },
  "language_info": {
   "codemirror_mode": {
    "name": "ipython",
    "version": 3
   },
   "file_extension": ".py",
   "mimetype": "text/x-python",
   "name": "python",
   "nbconvert_exporter": "python",
   "pygments_lexer": "ipython3",
   "version": "3.11.7"
  }
 },
 "nbformat": 4,
 "nbformat_minor": 5
}
